{
 "cells": [
  {
   "cell_type": "code",
   "execution_count": 3,
   "metadata": {},
   "outputs": [],
   "source": [
    "import sys, os\n",
    "import pandas as pd\n",
    "import polars as pl\n",
    "import numpy as np\n",
    "from dotenv import load_dotenv\n",
    "\n",
    "sys.path.append('/Users/katringrunert/Projects/Uni/thesis/neuro-symbolic-demand-forecasting')\n",
    "# when running on JupyterHub the dot-env-path needs to be adapted\n",
    "load_dotenv(\"../.env\")\n",
    "\n",
    "datetime_format = \"%Y-%m-%d %H:%M%z\""
   ]
  },
  {
   "cell_type": "code",
   "execution_count": 2,
   "metadata": {},
   "outputs": [],
   "source": [
    "%load_ext autoreload"
   ]
  },
  {
   "cell_type": "code",
   "execution_count": null,
   "metadata": {},
   "outputs": [],
   "source": [
    "%autoreload"
   ]
  },
  {
   "cell_type": "code",
   "execution_count": 4,
   "metadata": {},
   "outputs": [
    {
     "name": "stdout",
     "output_type": "stream",
     "text": [
      "Connected to snowflake instance!\n"
     ]
    }
   ],
   "source": [
    "from src.neuro_symbolic_demand_forecasting.database.snowflake import SnowflakeDao\n",
    "\n",
    "\n",
    "sf_dao = SnowflakeDao(\n",
    "    url=os.getenv(\"SNOWFLAKE_URL\"),\n",
    "    uid=os.getenv(\"SNOWFLAKE_UID\"),\n",
    "    pwd=os.getenv(\"SNOWFLAKE_PASSWORD\"),\n",
    "    database=os.getenv(\"SNOWFLAKE_DATABASE\"),\n",
    "    schema=os.getenv(\"SNOWFLAKE_SCHEMA\"),\n",
    ")\n",
    "\n",
    "sf_dao.connect()"
   ]
  },
  {
   "cell_type": "code",
   "execution_count": 5,
   "metadata": {},
   "outputs": [
    {
     "name": "stdout",
     "output_type": "stream",
     "text": [
      "Executing query\n",
      "Writing data to df\n"
     ]
    },
    {
     "data": {
      "text/html": [
       "<div><style>\n",
       ".dataframe > thead > tr,\n",
       ".dataframe > tbody > tr {\n",
       "  text-align: right;\n",
       "  white-space: pre-wrap;\n",
       "}\n",
       "</style>\n",
       "<small>shape: (5_579, 26)</small><table border=\"1\" class=\"dataframe\"><thead><tr><th>clusterreference</th><th>degreeofisolation</th><th>hassolarpanels</th><th>solarpanelswattpeak</th><th>surfacearea</th><th>typeofhouse</th><th>yearbuilt</th><th>numberofpeople</th><th>connection_id</th><th>ean</th><th>ean_sha256</th><th>previous_contract_id</th><th>contract_id</th><th>initial_contract_id</th><th>parent_contract_id</th><th>contract_start_date</th><th>contract_end_date</th><th>contract_state</th><th>pricing_type</th><th>market_segment</th><th>connection_group_id</th><th>customer_size</th><th>zip_code</th><th>city</th><th>zip_code_suffixed</th><th>last_modified</th></tr><tr><td>str</td><td>str</td><td>bool</td><td>f64</td><td>str</td><td>str</td><td>str</td><td>str</td><td>str</td><td>str</td><td>str</td><td>str</td><td>str</td><td>str</td><td>str</td><td>datetime[ns]</td><td>datetime[ns]</td><td>str</td><td>str</td><td>str</td><td>str</td><td>str</td><td>str</td><td>str</td><td>str</td><td>datetime[ns]</td></tr></thead><tbody><tr><td>&quot;1115GD50&quot;</td><td>&quot;Average&quot;</td><td>true</td><td>0.0</td><td>&quot;From100&quot;</td><td>&quot;RowHouse&quot;</td><td>&quot;From1975&quot;</td><td>&quot;FiveOrMore&quot;</td><td>&quot;68ce711c-9591-…</td><td>&quot;87168590000933…</td><td>&quot;d2f040441a8acd…</td><td>&quot;0af1e053-ca98-…</td><td>&quot;448260f8-6d06-…</td><td>&quot;da881f3d-23d2-…</td><td>&quot;448260f8-6d06-…</td><td>2021-04-03 00:00:00</td><td>2024-04-03 00:00:00</td><td>&quot;Active&quot;</td><td>&quot;Fixed&quot;</td><td>&quot;Electricity&quot;</td><td>&quot;c4d6d8b3-5e64-…</td><td>&quot;Small&quot;</td><td>&quot;1115&quot;</td><td>&quot;DUIVENDRECHT&quot;</td><td>&quot;1115 GD&quot;</td><td>2024-03-28 12:03:53</td></tr><tr><td>&quot;6581CV14&quot;</td><td>&quot;Average&quot;</td><td>true</td><td>1650.0</td><td>&quot;From150&quot;</td><td>&quot;SemiDetached&quot;</td><td>&quot;From1965&quot;</td><td>&quot;Four&quot;</td><td>&quot;17a34041-7cf5-…</td><td>&quot;87168712005393…</td><td>&quot;7378f311a78a6a…</td><td>&quot;76579388-3d66-…</td><td>&quot;d10b02e1-e619-…</td><td>&quot;76579388-3d66-…</td><td>&quot;d10b02e1-e619-…</td><td>2021-11-17 00:00:00</td><td>2024-11-17 00:00:00</td><td>&quot;Active&quot;</td><td>&quot;Fixed&quot;</td><td>&quot;Electricity&quot;</td><td>&quot;c237f756-1934-…</td><td>&quot;Small&quot;</td><td>&quot;6581&quot;</td><td>&quot;MALDEN&quot;</td><td>&quot;6581 CV&quot;</td><td>2024-03-28 12:03:53</td></tr><tr><td>&quot;2693EA117&quot;</td><td>&quot;Good&quot;</td><td>true</td><td>2880.0</td><td>&quot;From100&quot;</td><td>&quot;RowHouse&quot;</td><td>&quot;From2015&quot;</td><td>&quot;Four&quot;</td><td>&quot;f2f0b7b6-0166-…</td><td>&quot;87168780000164…</td><td>&quot;a8e16072cbc843…</td><td>null</td><td>&quot;d0580984-1693-…</td><td>&quot;d0580984-1693-…</td><td>&quot;d0580984-1693-…</td><td>2021-05-16 00:00:00</td><td>2024-05-16 00:00:00</td><td>&quot;Active&quot;</td><td>&quot;Fixed&quot;</td><td>&quot;Electricity&quot;</td><td>&quot;eea5f333-513d-…</td><td>&quot;Small&quot;</td><td>&quot;2693&quot;</td><td>&quot;&#x27;S-GRAVENZANDE…</td><td>&quot;2693 EA&quot;</td><td>2024-03-28 12:03:53</td></tr><tr><td>&quot;9651CN7&quot;</td><td>&quot;Average&quot;</td><td>true</td><td>18.0</td><td>&quot;From100&quot;</td><td>&quot;Detached&quot;</td><td>&quot;Until1945&quot;</td><td>&quot;Two&quot;</td><td>&quot;75e3c479-2b91-…</td><td>&quot;87169484000471…</td><td>&quot;6d9427b80268e4…</td><td>&quot;31392f24-87f5-…</td><td>&quot;5a7af430-3586-…</td><td>&quot;5f49c6c2-2e21-…</td><td>&quot;5a7af430-3586-…</td><td>2021-09-21 00:00:00</td><td>2024-09-21 00:00:00</td><td>&quot;Active&quot;</td><td>&quot;Fixed&quot;</td><td>&quot;Electricity&quot;</td><td>&quot;2c39d841-b4e0-…</td><td>&quot;Small&quot;</td><td>&quot;9651&quot;</td><td>&quot;MEEDEN&quot;</td><td>&quot;9651 CN&quot;</td><td>2024-03-28 12:03:53</td></tr><tr><td>&quot;1602JB17&quot;</td><td>&quot;Good&quot;</td><td>true</td><td>3000.0</td><td>&quot;From100&quot;</td><td>&quot;CornerHouse&quot;</td><td>&quot;From1975&quot;</td><td>&quot;Two&quot;</td><td>&quot;65bfaff3-fb48-…</td><td>&quot;87168590000451…</td><td>&quot;955668d647fe7c…</td><td>&quot;935de9fd-c8a0-…</td><td>&quot;4d5fadc8-f660-…</td><td>&quot;8dc04ec1-dbdf-…</td><td>&quot;4d5fadc8-f660-…</td><td>2021-11-27 00:00:00</td><td>2024-11-27 00:00:00</td><td>&quot;Active&quot;</td><td>&quot;Fixed&quot;</td><td>&quot;Electricity&quot;</td><td>&quot;0c5d50b7-7acb-…</td><td>&quot;Small&quot;</td><td>&quot;1602&quot;</td><td>&quot;ENKHUIZEN&quot;</td><td>&quot;1602 JB&quot;</td><td>2024-03-28 12:03:53</td></tr><tr><td>&hellip;</td><td>&hellip;</td><td>&hellip;</td><td>&hellip;</td><td>&hellip;</td><td>&hellip;</td><td>&hellip;</td><td>&hellip;</td><td>&hellip;</td><td>&hellip;</td><td>&hellip;</td><td>&hellip;</td><td>&hellip;</td><td>&hellip;</td><td>&hellip;</td><td>&hellip;</td><td>&hellip;</td><td>&hellip;</td><td>&hellip;</td><td>&hellip;</td><td>&hellip;</td><td>&hellip;</td><td>&hellip;</td><td>&hellip;</td><td>&hellip;</td><td>&hellip;</td></tr><tr><td>&quot;6824BG47-402&quot;</td><td>&quot;Good&quot;</td><td>false</td><td>0.0</td><td>&quot;From50&quot;</td><td>&quot;Apartment&quot;</td><td>&quot;From2015&quot;</td><td>&quot;One&quot;</td><td>&quot;dc6a400a-bee8-…</td><td>&quot;87168711000392…</td><td>&quot;9a34265969c949…</td><td>null</td><td>&quot;28c2891a-6fdb-…</td><td>&quot;28c2891a-6fdb-…</td><td>&quot;28c2891a-6fdb-…</td><td>2021-06-07 00:00:00</td><td>2024-06-07 00:00:00</td><td>&quot;Active&quot;</td><td>&quot;Fixed&quot;</td><td>&quot;Electricity&quot;</td><td>&quot;3268ee71-efd9-…</td><td>&quot;Small&quot;</td><td>&quot;6824&quot;</td><td>&quot;ARNHEM&quot;</td><td>&quot;6824 BG&quot;</td><td>2024-03-28 12:03:53</td></tr><tr><td>&quot;3448CA5&quot;</td><td>&quot;Poor&quot;</td><td>false</td><td>0.0</td><td>&quot;From15&quot;</td><td>&quot;Apartment&quot;</td><td>&quot;From1975&quot;</td><td>&quot;One&quot;</td><td>&quot;8f779647-e29a-…</td><td>&quot;87168740000541…</td><td>&quot;1803c7ac5248ba…</td><td>&quot;d7e3e173-16f7-…</td><td>&quot;ef25d703-6aad-…</td><td>&quot;379c8d31-0002-…</td><td>&quot;ef25d703-6aad-…</td><td>2021-06-08 00:00:00</td><td>2024-06-08 00:00:00</td><td>&quot;Active&quot;</td><td>&quot;Fixed&quot;</td><td>&quot;Electricity&quot;</td><td>&quot;8fb15b1c-c2de-…</td><td>&quot;Small&quot;</td><td>&quot;3448&quot;</td><td>&quot;WOERDEN&quot;</td><td>&quot;3448 CA&quot;</td><td>2024-03-28 12:03:53</td></tr><tr><td>&quot;6462GT37&quot;</td><td>&quot;Average&quot;</td><td>false</td><td>0.0</td><td>&quot;From50&quot;</td><td>&quot;Apartment&quot;</td><td>&quot;From1975&quot;</td><td>&quot;One&quot;</td><td>&quot;e5ca7e4a-4e56-…</td><td>&quot;87168854000338…</td><td>&quot;a6773471e60dab…</td><td>null</td><td>&quot;c3ffe820-1ef8-…</td><td>&quot;c3ffe820-1ef8-…</td><td>&quot;c3ffe820-1ef8-…</td><td>2021-06-01 00:00:00</td><td>2024-06-01 00:00:00</td><td>&quot;Active&quot;</td><td>&quot;Fixed&quot;</td><td>&quot;Electricity&quot;</td><td>&quot;6bdba9cf-d4cc-…</td><td>&quot;Small&quot;</td><td>&quot;6462&quot;</td><td>&quot;KERKRADE&quot;</td><td>&quot;6462 GT&quot;</td><td>2024-03-28 12:03:53</td></tr><tr><td>&quot;7161RB5&quot;</td><td>&quot;Average&quot;</td><td>false</td><td>0.0</td><td>&quot;From250&quot;</td><td>&quot;Detached&quot;</td><td>&quot;Until1945&quot;</td><td>&quot;Two&quot;</td><td>&quot;c06df8e5-fea2-…</td><td>&quot;87168712005593…</td><td>&quot;2adfb7bef04d92…</td><td>&quot;f81846a0-b020-…</td><td>&quot;5c8c12b8-02ee-…</td><td>&quot;c604f0a9-62cc-…</td><td>&quot;5c8c12b8-02ee-…</td><td>2021-07-08 00:00:00</td><td>2024-07-08 00:00:00</td><td>&quot;Active&quot;</td><td>&quot;Fixed&quot;</td><td>&quot;Electricity&quot;</td><td>&quot;0f2593f2-0286-…</td><td>&quot;Small&quot;</td><td>&quot;7161&quot;</td><td>&quot;NEEDE&quot;</td><td>&quot;7161 RB&quot;</td><td>2024-03-28 12:03:53</td></tr><tr><td>&quot;3402GN4&quot;</td><td>&quot;Poor&quot;</td><td>false</td><td>0.0</td><td>&quot;From100&quot;</td><td>&quot;CornerHouse&quot;</td><td>&quot;From1965&quot;</td><td>&quot;Two&quot;</td><td>&quot;54f4d202-e9b9-…</td><td>&quot;87168740000300…</td><td>&quot;56166c7c52c5a2…</td><td>null</td><td>&quot;b07b565c-acc6-…</td><td>&quot;b07b565c-acc6-…</td><td>&quot;b07b565c-acc6-…</td><td>2021-10-01 00:00:00</td><td>2024-10-01 00:00:00</td><td>&quot;Active&quot;</td><td>&quot;Fixed&quot;</td><td>&quot;Electricity&quot;</td><td>&quot;dfc9195f-6823-…</td><td>&quot;Small&quot;</td><td>&quot;3402&quot;</td><td>&quot;IJSSELSTEIN&quot;</td><td>&quot;3402 GN&quot;</td><td>2024-03-28 12:03:53</td></tr></tbody></table></div>"
      ],
      "text/plain": [
       "shape: (5_579, 26)\n",
       "┌───────────┬───────────┬───────────┬───────────┬───┬──────────┬───────────┬───────────┬───────────┐\n",
       "│ clusterre ┆ degreeofi ┆ hassolarp ┆ solarpane ┆ … ┆ zip_code ┆ city      ┆ zip_code_ ┆ last_modi │\n",
       "│ ference   ┆ solation  ┆ anels     ┆ lswattpea ┆   ┆ ---      ┆ ---       ┆ suffixed  ┆ fied      │\n",
       "│ ---       ┆ ---       ┆ ---       ┆ k         ┆   ┆ str      ┆ str       ┆ ---       ┆ ---       │\n",
       "│ str       ┆ str       ┆ bool      ┆ ---       ┆   ┆          ┆           ┆ str       ┆ datetime[ │\n",
       "│           ┆           ┆           ┆ f64       ┆   ┆          ┆           ┆           ┆ ns]       │\n",
       "╞═══════════╪═══════════╪═══════════╪═══════════╪═══╪══════════╪═══════════╪═══════════╪═══════════╡\n",
       "│ 1115GD50  ┆ Average   ┆ true      ┆ 0.0       ┆ … ┆ 1115     ┆ DUIVENDRE ┆ 1115 GD   ┆ 2024-03-2 │\n",
       "│           ┆           ┆           ┆           ┆   ┆          ┆ CHT       ┆           ┆ 8         │\n",
       "│           ┆           ┆           ┆           ┆   ┆          ┆           ┆           ┆ 12:03:53  │\n",
       "│ 6581CV14  ┆ Average   ┆ true      ┆ 1650.0    ┆ … ┆ 6581     ┆ MALDEN    ┆ 6581 CV   ┆ 2024-03-2 │\n",
       "│           ┆           ┆           ┆           ┆   ┆          ┆           ┆           ┆ 8         │\n",
       "│           ┆           ┆           ┆           ┆   ┆          ┆           ┆           ┆ 12:03:53  │\n",
       "│ 2693EA117 ┆ Good      ┆ true      ┆ 2880.0    ┆ … ┆ 2693     ┆ 'S-GRAVEN ┆ 2693 EA   ┆ 2024-03-2 │\n",
       "│           ┆           ┆           ┆           ┆   ┆          ┆ ZANDE     ┆           ┆ 8         │\n",
       "│           ┆           ┆           ┆           ┆   ┆          ┆           ┆           ┆ 12:03:53  │\n",
       "│ 9651CN7   ┆ Average   ┆ true      ┆ 18.0      ┆ … ┆ 9651     ┆ MEEDEN    ┆ 9651 CN   ┆ 2024-03-2 │\n",
       "│           ┆           ┆           ┆           ┆   ┆          ┆           ┆           ┆ 8         │\n",
       "│           ┆           ┆           ┆           ┆   ┆          ┆           ┆           ┆ 12:03:53  │\n",
       "│ 1602JB17  ┆ Good      ┆ true      ┆ 3000.0    ┆ … ┆ 1602     ┆ ENKHUIZEN ┆ 1602 JB   ┆ 2024-03-2 │\n",
       "│           ┆           ┆           ┆           ┆   ┆          ┆           ┆           ┆ 8         │\n",
       "│           ┆           ┆           ┆           ┆   ┆          ┆           ┆           ┆ 12:03:53  │\n",
       "│ …         ┆ …         ┆ …         ┆ …         ┆ … ┆ …        ┆ …         ┆ …         ┆ …         │\n",
       "│ 6824BG47- ┆ Good      ┆ false     ┆ 0.0       ┆ … ┆ 6824     ┆ ARNHEM    ┆ 6824 BG   ┆ 2024-03-2 │\n",
       "│ 402       ┆           ┆           ┆           ┆   ┆          ┆           ┆           ┆ 8         │\n",
       "│           ┆           ┆           ┆           ┆   ┆          ┆           ┆           ┆ 12:03:53  │\n",
       "│ 3448CA5   ┆ Poor      ┆ false     ┆ 0.0       ┆ … ┆ 3448     ┆ WOERDEN   ┆ 3448 CA   ┆ 2024-03-2 │\n",
       "│           ┆           ┆           ┆           ┆   ┆          ┆           ┆           ┆ 8         │\n",
       "│           ┆           ┆           ┆           ┆   ┆          ┆           ┆           ┆ 12:03:53  │\n",
       "│ 6462GT37  ┆ Average   ┆ false     ┆ 0.0       ┆ … ┆ 6462     ┆ KERKRADE  ┆ 6462 GT   ┆ 2024-03-2 │\n",
       "│           ┆           ┆           ┆           ┆   ┆          ┆           ┆           ┆ 8         │\n",
       "│           ┆           ┆           ┆           ┆   ┆          ┆           ┆           ┆ 12:03:53  │\n",
       "│ 7161RB5   ┆ Average   ┆ false     ┆ 0.0       ┆ … ┆ 7161     ┆ NEEDE     ┆ 7161 RB   ┆ 2024-03-2 │\n",
       "│           ┆           ┆           ┆           ┆   ┆          ┆           ┆           ┆ 8         │\n",
       "│           ┆           ┆           ┆           ┆   ┆          ┆           ┆           ┆ 12:03:53  │\n",
       "│ 3402GN4   ┆ Poor      ┆ false     ┆ 0.0       ┆ … ┆ 3402     ┆ IJSSELSTE ┆ 3402 GN   ┆ 2024-03-2 │\n",
       "│           ┆           ┆           ┆           ┆   ┆          ┆ IN        ┆           ┆ 8         │\n",
       "│           ┆           ┆           ┆           ┆   ┆          ┆           ┆           ┆ 12:03:53  │\n",
       "└───────────┴───────────┴───────────┴───────────┴───┴──────────┴───────────┴───────────┴───────────┘"
      ]
     },
     "execution_count": 5,
     "metadata": {},
     "output_type": "execute_result"
    }
   ],
   "source": [
    "contract_df = sf_dao.fetch_list(\"SELECT * FROM SANDBOX.KATRIN.CONTRACT_DATA\")\n",
    "contract_df"
   ]
  },
  {
   "cell_type": "code",
   "execution_count": 8,
   "metadata": {},
   "outputs": [
    {
     "name": "stdout",
     "output_type": "stream",
     "text": [
      "Executing query\n"
     ]
    }
   ],
   "source": [
    "from src.neuro_symbolic_demand_forecasting.helpers.constants import P4_TS_SUMMER\n",
    "\n",
    "start, end = \"2023-05-01 00:00+02:00\", \"2023-06-16 00:00+02:00\"\n",
    "columns = \"EAN_SHA256, LDN, ODN, READINGDATE, LDN_DIFF, ODN_DIFF\"\n",
    "df = sf_dao.fetch_list(f\"SELECT {columns} FROM {P4_TS_SUMMER} WHERE READINGDATE>='{start}' AND READINGDATE<='{end}' ORDER BY READINGDATE ASC;\")\n",
    "data = df \n",
    "data.head()"
   ]
  }
 ],
 "metadata": {
  "kernelspec": {
   "display_name": "neuro-symbolic-demand-forecasting-yu9KrGz6-py3.12",
   "language": "python",
   "name": "python3"
  },
  "language_info": {
   "codemirror_mode": {
    "name": "ipython",
    "version": 3
   },
   "file_extension": ".py",
   "mimetype": "text/x-python",
   "name": "python",
   "nbconvert_exporter": "python",
   "pygments_lexer": "ipython3",
   "version": "3.12.0"
  }
 },
 "nbformat": 4,
 "nbformat_minor": 2
}
