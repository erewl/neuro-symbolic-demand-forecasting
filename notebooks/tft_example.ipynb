{
 "cells": [
  {
   "cell_type": "code",
   "execution_count": 2,
   "metadata": {},
   "outputs": [],
   "source": [
    "import sys, os\n",
    "import pandas as pd\n",
    "import polars as pl\n",
    "import numpy as np\n",
    "from dotenv import load_dotenv\n",
    "\n",
    "sys.path.append('/Users/katringrunert/Projects/Uni/thesis/neuro-symbolic-demand-forecasting')\n",
    "# when running on JupyterHub the dot-env-path needs to be adapted\n",
    "load_dotenv(\"../.env\")\n",
    "\n",
    "datetime_format = \"%Y-%m-%d %H:%M%z\""
   ]
  },
  {
   "cell_type": "code",
   "execution_count": 3,
   "metadata": {},
   "outputs": [],
   "source": [
    "%load_ext autoreload"
   ]
  },
  {
   "cell_type": "code",
   "execution_count": 3,
   "metadata": {},
   "outputs": [],
   "source": [
    "%autoreload"
   ]
  },
  {
   "cell_type": "code",
   "execution_count": 4,
   "metadata": {},
   "outputs": [
    {
     "name": "stdout",
     "output_type": "stream",
     "text": [
      "Connected to snowflake instance!\n"
     ]
    }
   ],
   "source": [
    "from src.neuro_symbolic_demand_forecasting.database.snowflake import SnowflakeDao\n",
    "\n",
    "\n",
    "sf_dao = SnowflakeDao(\n",
    "    url=os.getenv(\"SNOWFLAKE_URL\"),\n",
    "    uid=os.getenv(\"SNOWFLAKE_UID\"),\n",
    "    pwd=os.getenv(\"SNOWFLAKE_PASSWORD\"),\n",
    "    database=os.getenv(\"SNOWFLAKE_DATABASE\"),\n",
    "    schema=os.getenv(\"SNOWFLAKE_SCHEMA\"),\n",
    ")\n",
    "\n",
    "sf_dao.connect()"
   ]
  },
  {
   "cell_type": "code",
   "execution_count": 18,
   "metadata": {},
   "outputs": [
    {
     "name": "stdout",
     "output_type": "stream",
     "text": [
      "Executing query\n",
      "Fetching all\n",
      "Writing data to df\n"
     ]
    },
    {
     "data": {
      "text/html": [
       "<div><style>\n",
       ".dataframe > thead > tr,\n",
       ".dataframe > tbody > tr {\n",
       "  text-align: right;\n",
       "  white-space: pre-wrap;\n",
       "}\n",
       "</style>\n",
       "<small>shape: (5_579, 26)</small><table border=\"1\" class=\"dataframe\"><thead><tr><th>clusterreference</th><th>degreeofisolation</th><th>hassolarpanels</th><th>solarpanelswattpeak</th><th>surfacearea</th><th>typeofhouse</th><th>yearbuilt</th><th>numberofpeople</th><th>connection_id</th><th>ean</th><th>ean_sha256</th><th>previous_contract_id</th><th>contract_id</th><th>initial_contract_id</th><th>parent_contract_id</th><th>contract_start_date</th><th>contract_end_date</th><th>contract_state</th><th>pricing_type</th><th>market_segment</th><th>connection_group_id</th><th>customer_size</th><th>zip_code</th><th>city</th><th>zip_code_suffixed</th><th>last_modified</th></tr><tr><td>str</td><td>str</td><td>bool</td><td>f64</td><td>str</td><td>str</td><td>str</td><td>str</td><td>str</td><td>str</td><td>str</td><td>str</td><td>str</td><td>str</td><td>str</td><td>datetime[ns]</td><td>datetime[ns]</td><td>str</td><td>str</td><td>str</td><td>str</td><td>str</td><td>str</td><td>str</td><td>str</td><td>datetime[ns]</td></tr></thead><tbody><tr><td>&quot;1115GD50&quot;</td><td>&quot;Average&quot;</td><td>true</td><td>0.0</td><td>&quot;From100&quot;</td><td>&quot;RowHouse&quot;</td><td>&quot;From1975&quot;</td><td>&quot;FiveOrMore&quot;</td><td>&quot;68ce711c-9591-…</td><td>&quot;87168590000933…</td><td>&quot;d2f040441a8acd…</td><td>&quot;0af1e053-ca98-…</td><td>&quot;448260f8-6d06-…</td><td>&quot;da881f3d-23d2-…</td><td>&quot;448260f8-6d06-…</td><td>2021-04-03 00:00:00</td><td>2024-04-03 00:00:00</td><td>&quot;Active&quot;</td><td>&quot;Fixed&quot;</td><td>&quot;Electricity&quot;</td><td>&quot;c4d6d8b3-5e64-…</td><td>&quot;Small&quot;</td><td>&quot;1115&quot;</td><td>&quot;DUIVENDRECHT&quot;</td><td>&quot;1115 GD&quot;</td><td>2024-03-28 12:03:53</td></tr><tr><td>&quot;6581CV14&quot;</td><td>&quot;Average&quot;</td><td>true</td><td>1650.0</td><td>&quot;From150&quot;</td><td>&quot;SemiDetached&quot;</td><td>&quot;From1965&quot;</td><td>&quot;Four&quot;</td><td>&quot;17a34041-7cf5-…</td><td>&quot;87168712005393…</td><td>&quot;7378f311a78a6a…</td><td>&quot;76579388-3d66-…</td><td>&quot;d10b02e1-e619-…</td><td>&quot;76579388-3d66-…</td><td>&quot;d10b02e1-e619-…</td><td>2021-11-17 00:00:00</td><td>2024-11-17 00:00:00</td><td>&quot;Active&quot;</td><td>&quot;Fixed&quot;</td><td>&quot;Electricity&quot;</td><td>&quot;c237f756-1934-…</td><td>&quot;Small&quot;</td><td>&quot;6581&quot;</td><td>&quot;MALDEN&quot;</td><td>&quot;6581 CV&quot;</td><td>2024-03-28 12:03:53</td></tr><tr><td>&quot;2693EA117&quot;</td><td>&quot;Good&quot;</td><td>true</td><td>2880.0</td><td>&quot;From100&quot;</td><td>&quot;RowHouse&quot;</td><td>&quot;From2015&quot;</td><td>&quot;Four&quot;</td><td>&quot;f2f0b7b6-0166-…</td><td>&quot;87168780000164…</td><td>&quot;a8e16072cbc843…</td><td>null</td><td>&quot;d0580984-1693-…</td><td>&quot;d0580984-1693-…</td><td>&quot;d0580984-1693-…</td><td>2021-05-16 00:00:00</td><td>2024-05-16 00:00:00</td><td>&quot;Active&quot;</td><td>&quot;Fixed&quot;</td><td>&quot;Electricity&quot;</td><td>&quot;eea5f333-513d-…</td><td>&quot;Small&quot;</td><td>&quot;2693&quot;</td><td>&quot;&#x27;S-GRAVENZANDE…</td><td>&quot;2693 EA&quot;</td><td>2024-03-28 12:03:53</td></tr><tr><td>&quot;9651CN7&quot;</td><td>&quot;Average&quot;</td><td>true</td><td>18.0</td><td>&quot;From100&quot;</td><td>&quot;Detached&quot;</td><td>&quot;Until1945&quot;</td><td>&quot;Two&quot;</td><td>&quot;75e3c479-2b91-…</td><td>&quot;87169484000471…</td><td>&quot;6d9427b80268e4…</td><td>&quot;31392f24-87f5-…</td><td>&quot;5a7af430-3586-…</td><td>&quot;5f49c6c2-2e21-…</td><td>&quot;5a7af430-3586-…</td><td>2021-09-21 00:00:00</td><td>2024-09-21 00:00:00</td><td>&quot;Active&quot;</td><td>&quot;Fixed&quot;</td><td>&quot;Electricity&quot;</td><td>&quot;2c39d841-b4e0-…</td><td>&quot;Small&quot;</td><td>&quot;9651&quot;</td><td>&quot;MEEDEN&quot;</td><td>&quot;9651 CN&quot;</td><td>2024-03-28 12:03:53</td></tr><tr><td>&quot;1602JB17&quot;</td><td>&quot;Good&quot;</td><td>true</td><td>3000.0</td><td>&quot;From100&quot;</td><td>&quot;CornerHouse&quot;</td><td>&quot;From1975&quot;</td><td>&quot;Two&quot;</td><td>&quot;65bfaff3-fb48-…</td><td>&quot;87168590000451…</td><td>&quot;955668d647fe7c…</td><td>&quot;935de9fd-c8a0-…</td><td>&quot;4d5fadc8-f660-…</td><td>&quot;8dc04ec1-dbdf-…</td><td>&quot;4d5fadc8-f660-…</td><td>2021-11-27 00:00:00</td><td>2024-11-27 00:00:00</td><td>&quot;Active&quot;</td><td>&quot;Fixed&quot;</td><td>&quot;Electricity&quot;</td><td>&quot;0c5d50b7-7acb-…</td><td>&quot;Small&quot;</td><td>&quot;1602&quot;</td><td>&quot;ENKHUIZEN&quot;</td><td>&quot;1602 JB&quot;</td><td>2024-03-28 12:03:53</td></tr><tr><td>&hellip;</td><td>&hellip;</td><td>&hellip;</td><td>&hellip;</td><td>&hellip;</td><td>&hellip;</td><td>&hellip;</td><td>&hellip;</td><td>&hellip;</td><td>&hellip;</td><td>&hellip;</td><td>&hellip;</td><td>&hellip;</td><td>&hellip;</td><td>&hellip;</td><td>&hellip;</td><td>&hellip;</td><td>&hellip;</td><td>&hellip;</td><td>&hellip;</td><td>&hellip;</td><td>&hellip;</td><td>&hellip;</td><td>&hellip;</td><td>&hellip;</td><td>&hellip;</td></tr><tr><td>&quot;6824BG47-402&quot;</td><td>&quot;Good&quot;</td><td>false</td><td>0.0</td><td>&quot;From50&quot;</td><td>&quot;Apartment&quot;</td><td>&quot;From2015&quot;</td><td>&quot;One&quot;</td><td>&quot;dc6a400a-bee8-…</td><td>&quot;87168711000392…</td><td>&quot;9a34265969c949…</td><td>null</td><td>&quot;28c2891a-6fdb-…</td><td>&quot;28c2891a-6fdb-…</td><td>&quot;28c2891a-6fdb-…</td><td>2021-06-07 00:00:00</td><td>2024-06-07 00:00:00</td><td>&quot;Active&quot;</td><td>&quot;Fixed&quot;</td><td>&quot;Electricity&quot;</td><td>&quot;3268ee71-efd9-…</td><td>&quot;Small&quot;</td><td>&quot;6824&quot;</td><td>&quot;ARNHEM&quot;</td><td>&quot;6824 BG&quot;</td><td>2024-03-28 12:03:53</td></tr><tr><td>&quot;3448CA5&quot;</td><td>&quot;Poor&quot;</td><td>false</td><td>0.0</td><td>&quot;From15&quot;</td><td>&quot;Apartment&quot;</td><td>&quot;From1975&quot;</td><td>&quot;One&quot;</td><td>&quot;8f779647-e29a-…</td><td>&quot;87168740000541…</td><td>&quot;1803c7ac5248ba…</td><td>&quot;d7e3e173-16f7-…</td><td>&quot;ef25d703-6aad-…</td><td>&quot;379c8d31-0002-…</td><td>&quot;ef25d703-6aad-…</td><td>2021-06-08 00:00:00</td><td>2024-06-08 00:00:00</td><td>&quot;Active&quot;</td><td>&quot;Fixed&quot;</td><td>&quot;Electricity&quot;</td><td>&quot;8fb15b1c-c2de-…</td><td>&quot;Small&quot;</td><td>&quot;3448&quot;</td><td>&quot;WOERDEN&quot;</td><td>&quot;3448 CA&quot;</td><td>2024-03-28 12:03:53</td></tr><tr><td>&quot;6462GT37&quot;</td><td>&quot;Average&quot;</td><td>false</td><td>0.0</td><td>&quot;From50&quot;</td><td>&quot;Apartment&quot;</td><td>&quot;From1975&quot;</td><td>&quot;One&quot;</td><td>&quot;e5ca7e4a-4e56-…</td><td>&quot;87168854000338…</td><td>&quot;a6773471e60dab…</td><td>null</td><td>&quot;c3ffe820-1ef8-…</td><td>&quot;c3ffe820-1ef8-…</td><td>&quot;c3ffe820-1ef8-…</td><td>2021-06-01 00:00:00</td><td>2024-06-01 00:00:00</td><td>&quot;Active&quot;</td><td>&quot;Fixed&quot;</td><td>&quot;Electricity&quot;</td><td>&quot;6bdba9cf-d4cc-…</td><td>&quot;Small&quot;</td><td>&quot;6462&quot;</td><td>&quot;KERKRADE&quot;</td><td>&quot;6462 GT&quot;</td><td>2024-03-28 12:03:53</td></tr><tr><td>&quot;7161RB5&quot;</td><td>&quot;Average&quot;</td><td>false</td><td>0.0</td><td>&quot;From250&quot;</td><td>&quot;Detached&quot;</td><td>&quot;Until1945&quot;</td><td>&quot;Two&quot;</td><td>&quot;c06df8e5-fea2-…</td><td>&quot;87168712005593…</td><td>&quot;2adfb7bef04d92…</td><td>&quot;f81846a0-b020-…</td><td>&quot;5c8c12b8-02ee-…</td><td>&quot;c604f0a9-62cc-…</td><td>&quot;5c8c12b8-02ee-…</td><td>2021-07-08 00:00:00</td><td>2024-07-08 00:00:00</td><td>&quot;Active&quot;</td><td>&quot;Fixed&quot;</td><td>&quot;Electricity&quot;</td><td>&quot;0f2593f2-0286-…</td><td>&quot;Small&quot;</td><td>&quot;7161&quot;</td><td>&quot;NEEDE&quot;</td><td>&quot;7161 RB&quot;</td><td>2024-03-28 12:03:53</td></tr><tr><td>&quot;3402GN4&quot;</td><td>&quot;Poor&quot;</td><td>false</td><td>0.0</td><td>&quot;From100&quot;</td><td>&quot;CornerHouse&quot;</td><td>&quot;From1965&quot;</td><td>&quot;Two&quot;</td><td>&quot;54f4d202-e9b9-…</td><td>&quot;87168740000300…</td><td>&quot;56166c7c52c5a2…</td><td>null</td><td>&quot;b07b565c-acc6-…</td><td>&quot;b07b565c-acc6-…</td><td>&quot;b07b565c-acc6-…</td><td>2021-10-01 00:00:00</td><td>2024-10-01 00:00:00</td><td>&quot;Active&quot;</td><td>&quot;Fixed&quot;</td><td>&quot;Electricity&quot;</td><td>&quot;dfc9195f-6823-…</td><td>&quot;Small&quot;</td><td>&quot;3402&quot;</td><td>&quot;IJSSELSTEIN&quot;</td><td>&quot;3402 GN&quot;</td><td>2024-03-28 12:03:53</td></tr></tbody></table></div>"
      ],
      "text/plain": [
       "shape: (5_579, 26)\n",
       "┌───────────┬───────────┬───────────┬───────────┬───┬──────────┬───────────┬───────────┬───────────┐\n",
       "│ clusterre ┆ degreeofi ┆ hassolarp ┆ solarpane ┆ … ┆ zip_code ┆ city      ┆ zip_code_ ┆ last_modi │\n",
       "│ ference   ┆ solation  ┆ anels     ┆ lswattpea ┆   ┆ ---      ┆ ---       ┆ suffixed  ┆ fied      │\n",
       "│ ---       ┆ ---       ┆ ---       ┆ k         ┆   ┆ str      ┆ str       ┆ ---       ┆ ---       │\n",
       "│ str       ┆ str       ┆ bool      ┆ ---       ┆   ┆          ┆           ┆ str       ┆ datetime[ │\n",
       "│           ┆           ┆           ┆ f64       ┆   ┆          ┆           ┆           ┆ ns]       │\n",
       "╞═══════════╪═══════════╪═══════════╪═══════════╪═══╪══════════╪═══════════╪═══════════╪═══════════╡\n",
       "│ 1115GD50  ┆ Average   ┆ true      ┆ 0.0       ┆ … ┆ 1115     ┆ DUIVENDRE ┆ 1115 GD   ┆ 2024-03-2 │\n",
       "│           ┆           ┆           ┆           ┆   ┆          ┆ CHT       ┆           ┆ 8         │\n",
       "│           ┆           ┆           ┆           ┆   ┆          ┆           ┆           ┆ 12:03:53  │\n",
       "│ 6581CV14  ┆ Average   ┆ true      ┆ 1650.0    ┆ … ┆ 6581     ┆ MALDEN    ┆ 6581 CV   ┆ 2024-03-2 │\n",
       "│           ┆           ┆           ┆           ┆   ┆          ┆           ┆           ┆ 8         │\n",
       "│           ┆           ┆           ┆           ┆   ┆          ┆           ┆           ┆ 12:03:53  │\n",
       "│ 2693EA117 ┆ Good      ┆ true      ┆ 2880.0    ┆ … ┆ 2693     ┆ 'S-GRAVEN ┆ 2693 EA   ┆ 2024-03-2 │\n",
       "│           ┆           ┆           ┆           ┆   ┆          ┆ ZANDE     ┆           ┆ 8         │\n",
       "│           ┆           ┆           ┆           ┆   ┆          ┆           ┆           ┆ 12:03:53  │\n",
       "│ 9651CN7   ┆ Average   ┆ true      ┆ 18.0      ┆ … ┆ 9651     ┆ MEEDEN    ┆ 9651 CN   ┆ 2024-03-2 │\n",
       "│           ┆           ┆           ┆           ┆   ┆          ┆           ┆           ┆ 8         │\n",
       "│           ┆           ┆           ┆           ┆   ┆          ┆           ┆           ┆ 12:03:53  │\n",
       "│ 1602JB17  ┆ Good      ┆ true      ┆ 3000.0    ┆ … ┆ 1602     ┆ ENKHUIZEN ┆ 1602 JB   ┆ 2024-03-2 │\n",
       "│           ┆           ┆           ┆           ┆   ┆          ┆           ┆           ┆ 8         │\n",
       "│           ┆           ┆           ┆           ┆   ┆          ┆           ┆           ┆ 12:03:53  │\n",
       "│ …         ┆ …         ┆ …         ┆ …         ┆ … ┆ …        ┆ …         ┆ …         ┆ …         │\n",
       "│ 6824BG47- ┆ Good      ┆ false     ┆ 0.0       ┆ … ┆ 6824     ┆ ARNHEM    ┆ 6824 BG   ┆ 2024-03-2 │\n",
       "│ 402       ┆           ┆           ┆           ┆   ┆          ┆           ┆           ┆ 8         │\n",
       "│           ┆           ┆           ┆           ┆   ┆          ┆           ┆           ┆ 12:03:53  │\n",
       "│ 3448CA5   ┆ Poor      ┆ false     ┆ 0.0       ┆ … ┆ 3448     ┆ WOERDEN   ┆ 3448 CA   ┆ 2024-03-2 │\n",
       "│           ┆           ┆           ┆           ┆   ┆          ┆           ┆           ┆ 8         │\n",
       "│           ┆           ┆           ┆           ┆   ┆          ┆           ┆           ┆ 12:03:53  │\n",
       "│ 6462GT37  ┆ Average   ┆ false     ┆ 0.0       ┆ … ┆ 6462     ┆ KERKRADE  ┆ 6462 GT   ┆ 2024-03-2 │\n",
       "│           ┆           ┆           ┆           ┆   ┆          ┆           ┆           ┆ 8         │\n",
       "│           ┆           ┆           ┆           ┆   ┆          ┆           ┆           ┆ 12:03:53  │\n",
       "│ 7161RB5   ┆ Average   ┆ false     ┆ 0.0       ┆ … ┆ 7161     ┆ NEEDE     ┆ 7161 RB   ┆ 2024-03-2 │\n",
       "│           ┆           ┆           ┆           ┆   ┆          ┆           ┆           ┆ 8         │\n",
       "│           ┆           ┆           ┆           ┆   ┆          ┆           ┆           ┆ 12:03:53  │\n",
       "│ 3402GN4   ┆ Poor      ┆ false     ┆ 0.0       ┆ … ┆ 3402     ┆ IJSSELSTE ┆ 3402 GN   ┆ 2024-03-2 │\n",
       "│           ┆           ┆           ┆           ┆   ┆          ┆ IN        ┆           ┆ 8         │\n",
       "│           ┆           ┆           ┆           ┆   ┆          ┆           ┆           ┆ 12:03:53  │\n",
       "└───────────┴───────────┴───────────┴───────────┴───┴──────────┴───────────┴───────────┴───────────┘"
      ]
     },
     "execution_count": 18,
     "metadata": {},
     "output_type": "execute_result"
    }
   ],
   "source": [
    "contract_df = sf_dao.fetch_list(\"SELECT * FROM SANDBOX.KATRIN.CONTRACT_DATA\")\n",
    "contract_df"
   ]
  },
  {
   "cell_type": "code",
   "execution_count": 37,
   "metadata": {},
   "outputs": [],
   "source": [
    "from src.neuro_symbolic_demand_forecasting.helpers.constants import P4_TS_SUMMER\n",
    "\n",
    "start, end = \"2023-05-01 00:00+02:00\", \"2023-05-16 00:00+02:00\"\n",
    "columns = \"EAN_SHA256, LDN, ODN, READINGDATE, LDN_DIFF, ODN_DIFF\"\n",
    "df = sf_dao.fetch_list(f\"SELECT {columns} FROM {P4_TS_SUMMER} WHERE READINGDATE>='{start}' AND READINGDATE<='{end}';\")\n",
    "data = df \n",
    "data.head()\n",
    "\n",
    "# data.write_csv(\"./p4_data_extract.csv\")\n"
   ]
  },
  {
   "cell_type": "code",
   "execution_count": 4,
   "metadata": {},
   "outputs": [
    {
     "data": {
      "text/html": [
       "<div><style>\n",
       ".dataframe > thead > tr,\n",
       ".dataframe > tbody > tr {\n",
       "  text-align: right;\n",
       "  white-space: pre-wrap;\n",
       "}\n",
       "</style>\n",
       "<small>shape: (7_796_579, 6)</small><table border=\"1\" class=\"dataframe\"><thead><tr><th>ean_sha256</th><th>ldn</th><th>odn</th><th>readingdate</th><th>ldn_diff</th><th>odn_diff</th></tr><tr><td>str</td><td>f64</td><td>f64</td><td>datetime[μs, UTC]</td><td>str</td><td>str</td></tr></thead><tbody><tr><td>&quot;89B7EC046E8C54…</td><td>8.299745e6</td><td>1394.0</td><td>2023-04-30 22:00:00 UTC</td><td>null</td><td>null</td></tr><tr><td>&quot;A29F51BD52FC48…</td><td>9.805301e6</td><td>2341.0</td><td>2023-04-30 22:00:00 UTC</td><td>null</td><td>null</td></tr><tr><td>&quot;F9D6A6D34C312C…</td><td>4.51789e6</td><td>9.284763e6</td><td>2023-04-30 22:00:00 UTC</td><td>null</td><td>null</td></tr><tr><td>&quot;6C14D523572E36…</td><td>5.387741e6</td><td>5.0</td><td>2023-04-30 22:00:00 UTC</td><td>null</td><td>null</td></tr><tr><td>&quot;D620B44AEE36EA…</td><td>1.9447409e7</td><td>4.534152e6</td><td>2023-04-30 22:00:00 UTC</td><td>null</td><td>null</td></tr><tr><td>&hellip;</td><td>&hellip;</td><td>&hellip;</td><td>&hellip;</td><td>&hellip;</td><td>&hellip;</td></tr><tr><td>&quot;DF59B447ADD60D…</td><td>1.3364896e7</td><td>4.830481e6</td><td>2023-05-15 22:00:00 UTC</td><td>&quot;33.0&quot;</td><td>&quot;0.0&quot;</td></tr><tr><td>&quot;F5302101B4DB54…</td><td>1.3252593e7</td><td>1.2294886e7</td><td>2023-05-15 22:00:00 UTC</td><td>&quot;27.0&quot;</td><td>&quot;0.0&quot;</td></tr><tr><td>&quot;EC09704D096E59…</td><td>7.561354e6</td><td>0.0</td><td>2023-05-15 22:00:00 UTC</td><td>&quot;474.0&quot;</td><td>&quot;0.0&quot;</td></tr><tr><td>&quot;540645331C940E…</td><td>1.2665704e7</td><td>0.0</td><td>2023-05-15 22:00:00 UTC</td><td>&quot;14.0&quot;</td><td>&quot;0.0&quot;</td></tr><tr><td>&quot;0EB8D317063491…</td><td>2.133636e6</td><td>4.305938e6</td><td>2023-05-15 22:00:00 UTC</td><td>&quot;40.0&quot;</td><td>&quot;0.0&quot;</td></tr></tbody></table></div>"
      ],
      "text/plain": [
       "shape: (7_796_579, 6)\n",
       "┌────────────────────────┬─────────────┬─────────────┬───────────────────────┬──────────┬──────────┐\n",
       "│ ean_sha256             ┆ ldn         ┆ odn         ┆ readingdate           ┆ ldn_diff ┆ odn_diff │\n",
       "│ ---                    ┆ ---         ┆ ---         ┆ ---                   ┆ ---      ┆ ---      │\n",
       "│ str                    ┆ f64         ┆ f64         ┆ datetime[μs, UTC]     ┆ str      ┆ str      │\n",
       "╞════════════════════════╪═════════════╪═════════════╪═══════════════════════╪══════════╪══════════╡\n",
       "│ 89B7EC046E8C545F9E8650 ┆ 8.299745e6  ┆ 1394.0      ┆ 2023-04-30 22:00:00   ┆ null     ┆ null     │\n",
       "│ 33B8CBC5F8…            ┆             ┆             ┆ UTC                   ┆          ┆          │\n",
       "│ A29F51BD52FC48D99A953D ┆ 9.805301e6  ┆ 2341.0      ┆ 2023-04-30 22:00:00   ┆ null     ┆ null     │\n",
       "│ BD4DF74766…            ┆             ┆             ┆ UTC                   ┆          ┆          │\n",
       "│ F9D6A6D34C312C982CE763 ┆ 4.51789e6   ┆ 9.284763e6  ┆ 2023-04-30 22:00:00   ┆ null     ┆ null     │\n",
       "│ D6B0428E63…            ┆             ┆             ┆ UTC                   ┆          ┆          │\n",
       "│ 6C14D523572E36476ED74C ┆ 5.387741e6  ┆ 5.0         ┆ 2023-04-30 22:00:00   ┆ null     ┆ null     │\n",
       "│ 9C6911BADC…            ┆             ┆             ┆ UTC                   ┆          ┆          │\n",
       "│ D620B44AEE36EA2D1C2D46 ┆ 1.9447409e7 ┆ 4.534152e6  ┆ 2023-04-30 22:00:00   ┆ null     ┆ null     │\n",
       "│ 39484EE432…            ┆             ┆             ┆ UTC                   ┆          ┆          │\n",
       "│ …                      ┆ …           ┆ …           ┆ …                     ┆ …        ┆ …        │\n",
       "│ DF59B447ADD60D5F94C990 ┆ 1.3364896e7 ┆ 4.830481e6  ┆ 2023-05-15 22:00:00   ┆ 33.0     ┆ 0.0      │\n",
       "│ 55EF6873B8…            ┆             ┆             ┆ UTC                   ┆          ┆          │\n",
       "│ F5302101B4DB544929DDBE ┆ 1.3252593e7 ┆ 1.2294886e7 ┆ 2023-05-15 22:00:00   ┆ 27.0     ┆ 0.0      │\n",
       "│ F4DC7DD9FC…            ┆             ┆             ┆ UTC                   ┆          ┆          │\n",
       "│ EC09704D096E59B5D04E7C ┆ 7.561354e6  ┆ 0.0         ┆ 2023-05-15 22:00:00   ┆ 474.0    ┆ 0.0      │\n",
       "│ F95D1204B3…            ┆             ┆             ┆ UTC                   ┆          ┆          │\n",
       "│ 540645331C940E5775BDE2 ┆ 1.2665704e7 ┆ 0.0         ┆ 2023-05-15 22:00:00   ┆ 14.0     ┆ 0.0      │\n",
       "│ D0886FFAA6…            ┆             ┆             ┆ UTC                   ┆          ┆          │\n",
       "│ 0EB8D3170634913B974687 ┆ 2.133636e6  ┆ 4.305938e6  ┆ 2023-05-15 22:00:00   ┆ 40.0     ┆ 0.0      │\n",
       "│ F91953F2A8…            ┆             ┆             ┆ UTC                   ┆          ┆          │\n",
       "└────────────────────────┴─────────────┴─────────────┴───────────────────────┴──────────┴──────────┘"
      ]
     },
     "execution_count": 4,
     "metadata": {},
     "output_type": "execute_result"
    }
   ],
   "source": [
    "data = pl.read_csv(\"./p4_data_extract.csv\", try_parse_dates=True)\n",
    "data"
   ]
  },
  {
   "cell_type": "code",
   "execution_count": 16,
   "metadata": {},
   "outputs": [],
   "source": [
    "data = data.filter(pl.col('readingdate').dt.minute() == 0)"
   ]
  },
  {
   "cell_type": "markdown",
   "metadata": {},
   "source": [
    "## Checking and filtering for missing data"
   ]
  },
  {
   "cell_type": "code",
   "execution_count": 15,
   "metadata": {},
   "outputs": [
    {
     "name": "stdout",
     "output_type": "stream",
     "text": [
      "shape: (20, 6)\n",
      "┌───────────────────────────────┬────────────┬─────┬─────────────────────────┬──────────┬──────────┐\n",
      "│ ean_sha256                    ┆ ldn        ┆ odn ┆ readingdate             ┆ ldn_diff ┆ odn_diff │\n",
      "│ ---                           ┆ ---        ┆ --- ┆ ---                     ┆ ---      ┆ ---      │\n",
      "│ str                           ┆ f64        ┆ f64 ┆ datetime[μs, UTC]       ┆ str      ┆ str      │\n",
      "╞═══════════════════════════════╪════════════╪═════╪═════════════════════════╪══════════╪══════════╡\n",
      "│ BB17FCB1E91A6FFD5C18F32ACDBF9 ┆ 5.281775e6 ┆ 0.0 ┆ 2023-04-30 22:00:00 UTC ┆ null     ┆ null     │\n",
      "│ 55F…                          ┆            ┆     ┆                         ┆          ┆          │\n",
      "│ BB17FCB1E91A6FFD5C18F32ACDBF9 ┆ 5.281798e6 ┆ 0.0 ┆ 2023-04-30 22:15:00 UTC ┆ 23.0     ┆ 0.0      │\n",
      "│ 55F…                          ┆            ┆     ┆                         ┆          ┆          │\n",
      "│ BB17FCB1E91A6FFD5C18F32ACDBF9 ┆ 5.28182e6  ┆ 0.0 ┆ 2023-04-30 22:30:00 UTC ┆ 22.0     ┆ 0.0      │\n",
      "│ 55F…                          ┆            ┆     ┆                         ┆          ┆          │\n",
      "│ BB17FCB1E91A6FFD5C18F32ACDBF9 ┆ 5.281841e6 ┆ 0.0 ┆ 2023-04-30 22:45:00 UTC ┆ 21.0     ┆ 0.0      │\n",
      "│ 55F…                          ┆            ┆     ┆                         ┆          ┆          │\n",
      "│ BB17FCB1E91A6FFD5C18F32ACDBF9 ┆ 5.281863e6 ┆ 0.0 ┆ 2023-04-30 23:00:00 UTC ┆ 22.0     ┆ 0.0      │\n",
      "│ 55F…                          ┆            ┆     ┆                         ┆          ┆          │\n",
      "│ …                             ┆ …          ┆ …   ┆ …                       ┆ …        ┆ …        │\n",
      "│ BB17FCB1E91A6FFD5C18F32ACDBF9 ┆ 5.282003e6 ┆ 0.0 ┆ 2023-05-01 01:45:00 UTC ┆ 7.0      ┆ 0.0      │\n",
      "│ 55F…                          ┆            ┆     ┆                         ┆          ┆          │\n",
      "│ BB17FCB1E91A6FFD5C18F32ACDBF9 ┆ 5.282009e6 ┆ 0.0 ┆ 2023-05-01 02:00:00 UTC ┆ 6.0      ┆ 0.0      │\n",
      "│ 55F…                          ┆            ┆     ┆                         ┆          ┆          │\n",
      "│ BB17FCB1E91A6FFD5C18F32ACDBF9 ┆ 5.282015e6 ┆ 0.0 ┆ 2023-05-01 02:15:00 UTC ┆ 6.0      ┆ 0.0      │\n",
      "│ 55F…                          ┆            ┆     ┆                         ┆          ┆          │\n",
      "│ BB17FCB1E91A6FFD5C18F32ACDBF9 ┆ 5.282021e6 ┆ 0.0 ┆ 2023-05-01 02:30:00 UTC ┆ 6.0      ┆ 0.0      │\n",
      "│ 55F…                          ┆            ┆     ┆                         ┆          ┆          │\n",
      "│ BB17FCB1E91A6FFD5C18F32ACDBF9 ┆ 5.282027e6 ┆ 0.0 ┆ 2023-05-01 02:45:00 UTC ┆ 6.0      ┆ 0.0      │\n",
      "│ 55F…                          ┆            ┆     ┆                         ┆          ┆          │\n",
      "└───────────────────────────────┴────────────┴─────┴─────────────────────────┴──────────┴──────────┘\n"
     ]
    }
   ],
   "source": [
    "for k, g in data.group_by(['ean_sha256']):\n",
    "    print(g[0:20])\n",
    "    break"
   ]
  },
  {
   "cell_type": "code",
   "execution_count": 18,
   "metadata": {},
   "outputs": [
    {
     "data": {
      "text/html": [
       "<div><style>\n",
       ".dataframe > thead > tr,\n",
       ".dataframe > tbody > tr {\n",
       "  text-align: right;\n",
       "  white-space: pre-wrap;\n",
       "}\n",
       "</style>\n",
       "<small>shape: (71_157, 6)</small><table border=\"1\" class=\"dataframe\"><thead><tr><th>ean_sha256</th><th>ldn</th><th>odn</th><th>readingdate</th><th>ldn_diff</th><th>odn_diff</th></tr><tr><td>str</td><td>f64</td><td>f64</td><td>datetime[μs, UTC]</td><td>str</td><td>str</td></tr></thead><tbody><tr><td>&quot;8763CB7D35E6BF…</td><td>1.4218211e7</td><td>5.94379e6</td><td>2023-04-30 22:00:00 UTC</td><td>null</td><td>null</td></tr><tr><td>&quot;8763CB7D35E6BF…</td><td>1.4220201e7</td><td>5.94379e6</td><td>2023-04-30 23:00:00 UTC</td><td>&quot;501.0&quot;</td><td>&quot;0.0&quot;</td></tr><tr><td>&quot;8763CB7D35E6BF…</td><td>1.4222186e7</td><td>5.94379e6</td><td>2023-05-01 00:00:00 UTC</td><td>&quot;497.0&quot;</td><td>&quot;0.0&quot;</td></tr><tr><td>&quot;8763CB7D35E6BF…</td><td>1.4224164e7</td><td>5.94379e6</td><td>2023-05-01 01:00:00 UTC</td><td>&quot;487.0&quot;</td><td>&quot;0.0&quot;</td></tr><tr><td>&quot;8763CB7D35E6BF…</td><td>1.4226159e7</td><td>5.94379e6</td><td>2023-05-01 02:00:00 UTC</td><td>&quot;489.0&quot;</td><td>&quot;0.0&quot;</td></tr><tr><td>&hellip;</td><td>&hellip;</td><td>&hellip;</td><td>&hellip;</td><td>&hellip;</td><td>&hellip;</td></tr><tr><td>&quot;8EFB32B2BDE86E…</td><td>1.0104455e7</td><td>0.0</td><td>2023-05-15 18:00:00 UTC</td><td>&quot;50.0&quot;</td><td>&quot;0.0&quot;</td></tr><tr><td>&quot;8EFB32B2BDE86E…</td><td>1.0104563e7</td><td>0.0</td><td>2023-05-15 19:00:00 UTC</td><td>&quot;14.0&quot;</td><td>&quot;0.0&quot;</td></tr><tr><td>&quot;8EFB32B2BDE86E…</td><td>1.0104741e7</td><td>0.0</td><td>2023-05-15 20:00:00 UTC</td><td>&quot;55.0&quot;</td><td>&quot;0.0&quot;</td></tr><tr><td>&quot;8EFB32B2BDE86E…</td><td>1.0104902e7</td><td>0.0</td><td>2023-05-15 21:00:00 UTC</td><td>&quot;29.0&quot;</td><td>&quot;0.0&quot;</td></tr><tr><td>&quot;8EFB32B2BDE86E…</td><td>1.0105619e7</td><td>0.0</td><td>2023-05-15 22:00:00 UTC</td><td>&quot;33.0&quot;</td><td>&quot;0.0&quot;</td></tr></tbody></table></div>"
      ],
      "text/plain": [
       "shape: (71_157, 6)\n",
       "┌────────────────────────────┬─────────────┬───────────┬─────────────────────┬──────────┬──────────┐\n",
       "│ ean_sha256                 ┆ ldn         ┆ odn       ┆ readingdate         ┆ ldn_diff ┆ odn_diff │\n",
       "│ ---                        ┆ ---         ┆ ---       ┆ ---                 ┆ ---      ┆ ---      │\n",
       "│ str                        ┆ f64         ┆ f64       ┆ datetime[μs, UTC]   ┆ str      ┆ str      │\n",
       "╞════════════════════════════╪═════════════╪═══════════╪═════════════════════╪══════════╪══════════╡\n",
       "│ 8763CB7D35E6BF4EADE01854D1 ┆ 1.4218211e7 ┆ 5.94379e6 ┆ 2023-04-30 22:00:00 ┆ null     ┆ null     │\n",
       "│ 64926B…                    ┆             ┆           ┆ UTC                 ┆          ┆          │\n",
       "│ 8763CB7D35E6BF4EADE01854D1 ┆ 1.4220201e7 ┆ 5.94379e6 ┆ 2023-04-30 23:00:00 ┆ 501.0    ┆ 0.0      │\n",
       "│ 64926B…                    ┆             ┆           ┆ UTC                 ┆          ┆          │\n",
       "│ 8763CB7D35E6BF4EADE01854D1 ┆ 1.4222186e7 ┆ 5.94379e6 ┆ 2023-05-01 00:00:00 ┆ 497.0    ┆ 0.0      │\n",
       "│ 64926B…                    ┆             ┆           ┆ UTC                 ┆          ┆          │\n",
       "│ 8763CB7D35E6BF4EADE01854D1 ┆ 1.4224164e7 ┆ 5.94379e6 ┆ 2023-05-01 01:00:00 ┆ 487.0    ┆ 0.0      │\n",
       "│ 64926B…                    ┆             ┆           ┆ UTC                 ┆          ┆          │\n",
       "│ 8763CB7D35E6BF4EADE01854D1 ┆ 1.4226159e7 ┆ 5.94379e6 ┆ 2023-05-01 02:00:00 ┆ 489.0    ┆ 0.0      │\n",
       "│ 64926B…                    ┆             ┆           ┆ UTC                 ┆          ┆          │\n",
       "│ …                          ┆ …           ┆ …         ┆ …                   ┆ …        ┆ …        │\n",
       "│ 8EFB32B2BDE86E5B595518FFEB ┆ 1.0104455e7 ┆ 0.0       ┆ 2023-05-15 18:00:00 ┆ 50.0     ┆ 0.0      │\n",
       "│ 816045…                    ┆             ┆           ┆ UTC                 ┆          ┆          │\n",
       "│ 8EFB32B2BDE86E5B595518FFEB ┆ 1.0104563e7 ┆ 0.0       ┆ 2023-05-15 19:00:00 ┆ 14.0     ┆ 0.0      │\n",
       "│ 816045…                    ┆             ┆           ┆ UTC                 ┆          ┆          │\n",
       "│ 8EFB32B2BDE86E5B595518FFEB ┆ 1.0104741e7 ┆ 0.0       ┆ 2023-05-15 20:00:00 ┆ 55.0     ┆ 0.0      │\n",
       "│ 816045…                    ┆             ┆           ┆ UTC                 ┆          ┆          │\n",
       "│ 8EFB32B2BDE86E5B595518FFEB ┆ 1.0104902e7 ┆ 0.0       ┆ 2023-05-15 21:00:00 ┆ 29.0     ┆ 0.0      │\n",
       "│ 816045…                    ┆             ┆           ┆ UTC                 ┆          ┆          │\n",
       "│ 8EFB32B2BDE86E5B595518FFEB ┆ 1.0105619e7 ┆ 0.0       ┆ 2023-05-15 22:00:00 ┆ 33.0     ┆ 0.0      │\n",
       "│ 816045…                    ┆             ┆           ┆ UTC                 ┆          ┆          │\n",
       "└────────────────────────────┴─────────────┴───────────┴─────────────────────┴──────────┴──────────┘"
      ]
     },
     "execution_count": 18,
     "metadata": {},
     "output_type": "execute_result"
    }
   ],
   "source": [
    "min_length = (data['readingdate'].max() - data['readingdate'].min()).days * 24 \n",
    "\n",
    "missing_points = pl.DataFrame()\n",
    "for key, group  in data.group_by(['ean_sha256']):\n",
    "    if len(group) < min_length:\n",
    "        missing_points = pl.concat([missing_points, group])\n",
    "\n",
    "missing_points"
   ]
  },
  {
   "cell_type": "code",
   "execution_count": 19,
   "metadata": {},
   "outputs": [
    {
     "data": {
      "text/html": [
       "<div><style>\n",
       ".dataframe > thead > tr,\n",
       ".dataframe > tbody > tr {\n",
       "  text-align: right;\n",
       "  white-space: pre-wrap;\n",
       "}\n",
       "</style>\n",
       "<small>shape: (218,)</small><table border=\"1\" class=\"dataframe\"><thead><tr><th>ean_sha256</th></tr><tr><td>str</td></tr></thead><tbody><tr><td>&quot;7E7FE2E4ED0506…</td></tr><tr><td>&quot;1A1CEF2B0FFD7D…</td></tr><tr><td>&quot;878DCAD041CA7F…</td></tr><tr><td>&quot;81609770BAC1A7…</td></tr><tr><td>&quot;0EF2FABD0C00E0…</td></tr><tr><td>&hellip;</td></tr><tr><td>&quot;29595A56B02D73…</td></tr><tr><td>&quot;1B8C1BFAF895DF…</td></tr><tr><td>&quot;FFE709A4227B34…</td></tr><tr><td>&quot;53F871768D623B…</td></tr><tr><td>&quot;F01FBB112F7C9E…</td></tr></tbody></table></div>"
      ],
      "text/plain": [
       "shape: (218,)\n",
       "Series: 'ean_sha256' [str]\n",
       "[\n",
       "\t\"7E7FE2E4ED0506…\n",
       "\t\"1A1CEF2B0FFD7D…\n",
       "\t\"878DCAD041CA7F…\n",
       "\t\"81609770BAC1A7…\n",
       "\t\"0EF2FABD0C00E0…\n",
       "\t…\n",
       "\t\"29595A56B02D73…\n",
       "\t\"1B8C1BFAF895DF…\n",
       "\t\"FFE709A4227B34…\n",
       "\t\"53F871768D623B…\n",
       "\t\"F01FBB112F7C9E…\n",
       "]"
      ]
     },
     "execution_count": 19,
     "metadata": {},
     "output_type": "execute_result"
    }
   ],
   "source": [
    "missing_points['ean_sha256'].unique()"
   ]
  },
  {
   "cell_type": "code",
   "execution_count": 20,
   "metadata": {},
   "outputs": [
    {
     "data": {
      "text/plain": [
       "(shape: (1_953_444, 6)\n",
       " ┌────────────────────────┬─────────────┬─────────────┬───────────────────────┬──────────┬──────────┐\n",
       " │ ean_sha256             ┆ ldn         ┆ odn         ┆ readingdate           ┆ ldn_diff ┆ odn_diff │\n",
       " │ ---                    ┆ ---         ┆ ---         ┆ ---                   ┆ ---      ┆ ---      │\n",
       " │ str                    ┆ f64         ┆ f64         ┆ datetime[μs, UTC]     ┆ str      ┆ str      │\n",
       " ╞════════════════════════╪═════════════╪═════════════╪═══════════════════════╪══════════╪══════════╡\n",
       " │ 89B7EC046E8C545F9E8650 ┆ 8.299745e6  ┆ 1394.0      ┆ 2023-04-30 22:00:00   ┆ null     ┆ null     │\n",
       " │ 33B8CBC5F8…            ┆             ┆             ┆ UTC                   ┆          ┆          │\n",
       " │ A29F51BD52FC48D99A953D ┆ 9.805301e6  ┆ 2341.0      ┆ 2023-04-30 22:00:00   ┆ null     ┆ null     │\n",
       " │ BD4DF74766…            ┆             ┆             ┆ UTC                   ┆          ┆          │\n",
       " │ F9D6A6D34C312C982CE763 ┆ 4.51789e6   ┆ 9.284763e6  ┆ 2023-04-30 22:00:00   ┆ null     ┆ null     │\n",
       " │ D6B0428E63…            ┆             ┆             ┆ UTC                   ┆          ┆          │\n",
       " │ 6C14D523572E36476ED74C ┆ 5.387741e6  ┆ 5.0         ┆ 2023-04-30 22:00:00   ┆ null     ┆ null     │\n",
       " │ 9C6911BADC…            ┆             ┆             ┆ UTC                   ┆          ┆          │\n",
       " │ D620B44AEE36EA2D1C2D46 ┆ 1.9447409e7 ┆ 4.534152e6  ┆ 2023-04-30 22:00:00   ┆ null     ┆ null     │\n",
       " │ 39484EE432…            ┆             ┆             ┆ UTC                   ┆          ┆          │\n",
       " │ …                      ┆ …           ┆ …           ┆ …                     ┆ …        ┆ …        │\n",
       " │ DF59B447ADD60D5F94C990 ┆ 1.3364896e7 ┆ 4.830481e6  ┆ 2023-05-15 22:00:00   ┆ 33.0     ┆ 0.0      │\n",
       " │ 55EF6873B8…            ┆             ┆             ┆ UTC                   ┆          ┆          │\n",
       " │ F5302101B4DB544929DDBE ┆ 1.3252593e7 ┆ 1.2294886e7 ┆ 2023-05-15 22:00:00   ┆ 27.0     ┆ 0.0      │\n",
       " │ F4DC7DD9FC…            ┆             ┆             ┆ UTC                   ┆          ┆          │\n",
       " │ EC09704D096E59B5D04E7C ┆ 7.561354e6  ┆ 0.0         ┆ 2023-05-15 22:00:00   ┆ 474.0    ┆ 0.0      │\n",
       " │ F95D1204B3…            ┆             ┆             ┆ UTC                   ┆          ┆          │\n",
       " │ 540645331C940E5775BDE2 ┆ 1.2665704e7 ┆ 0.0         ┆ 2023-05-15 22:00:00   ┆ 14.0     ┆ 0.0      │\n",
       " │ D0886FFAA6…            ┆             ┆             ┆ UTC                   ┆          ┆          │\n",
       " │ 0EB8D3170634913B974687 ┆ 2.133636e6  ┆ 4.305938e6  ┆ 2023-05-15 22:00:00   ┆ 40.0     ┆ 0.0      │\n",
       " │ F91953F2A8…            ┆             ┆             ┆ UTC                   ┆          ┆          │\n",
       " └────────────────────────┴─────────────┴─────────────┴───────────────────────┴──────────┴──────────┘,\n",
       " shape: (1_882_287, 6)\n",
       " ┌────────────────────────┬─────────────┬─────────────┬───────────────────────┬──────────┬──────────┐\n",
       " │ ean_sha256             ┆ ldn         ┆ odn         ┆ readingdate           ┆ ldn_diff ┆ odn_diff │\n",
       " │ ---                    ┆ ---         ┆ ---         ┆ ---                   ┆ ---      ┆ ---      │\n",
       " │ str                    ┆ f64         ┆ f64         ┆ datetime[μs, UTC]     ┆ str      ┆ str      │\n",
       " ╞════════════════════════╪═════════════╪═════════════╪═══════════════════════╪══════════╪══════════╡\n",
       " │ 89B7EC046E8C545F9E8650 ┆ 8.299745e6  ┆ 1394.0      ┆ 2023-04-30 22:00:00   ┆ null     ┆ null     │\n",
       " │ 33B8CBC5F8…            ┆             ┆             ┆ UTC                   ┆          ┆          │\n",
       " │ A29F51BD52FC48D99A953D ┆ 9.805301e6  ┆ 2341.0      ┆ 2023-04-30 22:00:00   ┆ null     ┆ null     │\n",
       " │ BD4DF74766…            ┆             ┆             ┆ UTC                   ┆          ┆          │\n",
       " │ F9D6A6D34C312C982CE763 ┆ 4.51789e6   ┆ 9.284763e6  ┆ 2023-04-30 22:00:00   ┆ null     ┆ null     │\n",
       " │ D6B0428E63…            ┆             ┆             ┆ UTC                   ┆          ┆          │\n",
       " │ 6C14D523572E36476ED74C ┆ 5.387741e6  ┆ 5.0         ┆ 2023-04-30 22:00:00   ┆ null     ┆ null     │\n",
       " │ 9C6911BADC…            ┆             ┆             ┆ UTC                   ┆          ┆          │\n",
       " │ D620B44AEE36EA2D1C2D46 ┆ 1.9447409e7 ┆ 4.534152e6  ┆ 2023-04-30 22:00:00   ┆ null     ┆ null     │\n",
       " │ 39484EE432…            ┆             ┆             ┆ UTC                   ┆          ┆          │\n",
       " │ …                      ┆ …           ┆ …           ┆ …                     ┆ …        ┆ …        │\n",
       " │ DF59B447ADD60D5F94C990 ┆ 1.3364896e7 ┆ 4.830481e6  ┆ 2023-05-15 22:00:00   ┆ 33.0     ┆ 0.0      │\n",
       " │ 55EF6873B8…            ┆             ┆             ┆ UTC                   ┆          ┆          │\n",
       " │ F5302101B4DB544929DDBE ┆ 1.3252593e7 ┆ 1.2294886e7 ┆ 2023-05-15 22:00:00   ┆ 27.0     ┆ 0.0      │\n",
       " │ F4DC7DD9FC…            ┆             ┆             ┆ UTC                   ┆          ┆          │\n",
       " │ EC09704D096E59B5D04E7C ┆ 7.561354e6  ┆ 0.0         ┆ 2023-05-15 22:00:00   ┆ 474.0    ┆ 0.0      │\n",
       " │ F95D1204B3…            ┆             ┆             ┆ UTC                   ┆          ┆          │\n",
       " │ 540645331C940E5775BDE2 ┆ 1.2665704e7 ┆ 0.0         ┆ 2023-05-15 22:00:00   ┆ 14.0     ┆ 0.0      │\n",
       " │ D0886FFAA6…            ┆             ┆             ┆ UTC                   ┆          ┆          │\n",
       " │ 0EB8D3170634913B974687 ┆ 2.133636e6  ┆ 4.305938e6  ┆ 2023-05-15 22:00:00   ┆ 40.0     ┆ 0.0      │\n",
       " │ F91953F2A8…            ┆             ┆             ┆ UTC                   ┆          ┆          │\n",
       " └────────────────────────┴─────────────┴─────────────┴───────────────────────┴──────────┴──────────┘)"
      ]
     },
     "execution_count": 20,
     "metadata": {},
     "output_type": "execute_result"
    }
   ],
   "source": [
    "df_for_train = data.filter(~pl.col('ean_sha256').is_in(missing_points['ean_sha256'].unique()))\n",
    "# df_for_train = df_for_train.filter(pl.col('readingdate').dt.minute() == 0)\n",
    "data, df_for_train"
   ]
  },
  {
   "cell_type": "code",
   "execution_count": 23,
   "metadata": {},
   "outputs": [],
   "source": [
    "data = df_for_train"
   ]
  },
  {
   "cell_type": "markdown",
   "metadata": {},
   "source": [
    "## Dividing data into PV and non-PV cluster"
   ]
  },
  {
   "cell_type": "code",
   "execution_count": 24,
   "metadata": {},
   "outputs": [],
   "source": [
    "data = data.with_columns(pl.col('odn_diff').cast(pl.Float64), pl.col('ldn_diff').cast(pl.Float64))"
   ]
  },
  {
   "cell_type": "code",
   "execution_count": 25,
   "metadata": {},
   "outputs": [],
   "source": [
    "grouped = data.group_by('ean_sha256').agg(pl.sum('odn_diff').alias('odn_sum'))\n"
   ]
  },
  {
   "cell_type": "code",
   "execution_count": 26,
   "metadata": {},
   "outputs": [
    {
     "data": {
      "text/plain": [
       "(shape: (911_532, 6)\n",
       " ┌────────────────────────┬─────────────┬─────────────┬───────────────────────┬──────────┬──────────┐\n",
       " │ ean_sha256             ┆ ldn         ┆ odn         ┆ readingdate           ┆ ldn_diff ┆ odn_diff │\n",
       " │ ---                    ┆ ---         ┆ ---         ┆ ---                   ┆ ---      ┆ ---      │\n",
       " │ str                    ┆ f64         ┆ f64         ┆ datetime[μs, UTC]     ┆ f64      ┆ f64      │\n",
       " ╞════════════════════════╪═════════════╪═════════════╪═══════════════════════╪══════════╪══════════╡\n",
       " │ F9D6A6D34C312C982CE763 ┆ 4.51789e6   ┆ 9.284763e6  ┆ 2023-04-30 22:00:00   ┆ null     ┆ null     │\n",
       " │ D6B0428E63…            ┆             ┆             ┆ UTC                   ┆          ┆          │\n",
       " │ D620B44AEE36EA2D1C2D46 ┆ 1.9447409e7 ┆ 4.534152e6  ┆ 2023-04-30 22:00:00   ┆ null     ┆ null     │\n",
       " │ 39484EE432…            ┆             ┆             ┆ UTC                   ┆          ┆          │\n",
       " │ F036BB307898AA8763082F ┆ 3.7373399e7 ┆ 1.2656792e7 ┆ 2023-04-30 22:00:00   ┆ null     ┆ null     │\n",
       " │ 4E9426ACA6…            ┆             ┆             ┆ UTC                   ┆          ┆          │\n",
       " │ C4673763620E3212EE72B5 ┆ 8.321131e6  ┆ 1.683475e6  ┆ 2023-04-30 22:00:00   ┆ null     ┆ null     │\n",
       " │ D5CAB22F7A…            ┆             ┆             ┆ UTC                   ┆          ┆          │\n",
       " │ 82241A900E9A53D59670D1 ┆ 1.8045207e7 ┆ 5.113855e6  ┆ 2023-04-30 22:00:00   ┆ null     ┆ null     │\n",
       " │ 9EE16C3E1F…            ┆             ┆             ┆ UTC                   ┆          ┆          │\n",
       " │ …                      ┆ …           ┆ …           ┆ …                     ┆ …        ┆ …        │\n",
       " │ 129C625A79C342E6E3DAB5 ┆ 7.341032e6  ┆ 1.59207e6   ┆ 2023-05-15 22:00:00   ┆ 35.0     ┆ 0.0      │\n",
       " │ F22C0EAFF1…            ┆             ┆             ┆ UTC                   ┆          ┆          │\n",
       " │ 6E56854912BD7947E7EE38 ┆ 1.5839514e7 ┆ 9.951573e6  ┆ 2023-05-15 22:00:00   ┆ 158.0    ┆ 0.0      │\n",
       " │ 79E1A754DA…            ┆             ┆             ┆ UTC                   ┆          ┆          │\n",
       " │ DF59B447ADD60D5F94C990 ┆ 1.3364896e7 ┆ 4.830481e6  ┆ 2023-05-15 22:00:00   ┆ 33.0     ┆ 0.0      │\n",
       " │ 55EF6873B8…            ┆             ┆             ┆ UTC                   ┆          ┆          │\n",
       " │ F5302101B4DB544929DDBE ┆ 1.3252593e7 ┆ 1.2294886e7 ┆ 2023-05-15 22:00:00   ┆ 27.0     ┆ 0.0      │\n",
       " │ F4DC7DD9FC…            ┆             ┆             ┆ UTC                   ┆          ┆          │\n",
       " │ 0EB8D3170634913B974687 ┆ 2.133636e6  ┆ 4.305938e6  ┆ 2023-05-15 22:00:00   ┆ 40.0     ┆ 0.0      │\n",
       " │ F91953F2A8…            ┆             ┆             ┆ UTC                   ┆          ┆          │\n",
       " └────────────────────────┴─────────────┴─────────────┴───────────────────────┴──────────┴──────────┘,\n",
       " shape: (970_755, 6)\n",
       " ┌───────────────────────────┬─────────────┬────────┬─────────────────────────┬──────────┬──────────┐\n",
       " │ ean_sha256                ┆ ldn         ┆ odn    ┆ readingdate             ┆ ldn_diff ┆ odn_diff │\n",
       " │ ---                       ┆ ---         ┆ ---    ┆ ---                     ┆ ---      ┆ ---      │\n",
       " │ str                       ┆ f64         ┆ f64    ┆ datetime[μs, UTC]       ┆ f64      ┆ f64      │\n",
       " ╞═══════════════════════════╪═════════════╪════════╪═════════════════════════╪══════════╪══════════╡\n",
       " │ 89B7EC046E8C545F9E865033B ┆ 8.299745e6  ┆ 1394.0 ┆ 2023-04-30 22:00:00 UTC ┆ null     ┆ null     │\n",
       " │ 8CBC5F8…                  ┆             ┆        ┆                         ┆          ┆          │\n",
       " │ A29F51BD52FC48D99A953DBD4 ┆ 9.805301e6  ┆ 2341.0 ┆ 2023-04-30 22:00:00 UTC ┆ null     ┆ null     │\n",
       " │ DF74766…                  ┆             ┆        ┆                         ┆          ┆          │\n",
       " │ 6C14D523572E36476ED74C9C6 ┆ 5.387741e6  ┆ 5.0    ┆ 2023-04-30 22:00:00 UTC ┆ null     ┆ null     │\n",
       " │ 911BADC…                  ┆             ┆        ┆                         ┆          ┆          │\n",
       " │ 2B2C5BD86038954E9DA86792A ┆ 6.349238e6  ┆ 0.0    ┆ 2023-04-30 22:00:00 UTC ┆ null     ┆ null     │\n",
       " │ F2AA8E9…                  ┆             ┆        ┆                         ┆          ┆          │\n",
       " │ 26B2DCF07E78F1590EB0868EB ┆ 1.2853906e7 ┆ 581.0  ┆ 2023-04-30 22:00:00 UTC ┆ null     ┆ null     │\n",
       " │ F04FA6E…                  ┆             ┆        ┆                         ┆          ┆          │\n",
       " │ …                         ┆ …           ┆ …      ┆ …                       ┆ …        ┆ …        │\n",
       " │ FBAE0E91372440B2AC346A300 ┆ 1.3019639e7 ┆ 0.0    ┆ 2023-05-15 22:00:00 UTC ┆ 16.0     ┆ 0.0      │\n",
       " │ B37D6C0…                  ┆             ┆        ┆                         ┆          ┆          │\n",
       " │ 86F877EF4A9A09E123BFE6699 ┆ 1.369508e7  ┆ 4.0    ┆ 2023-05-15 22:00:00 UTC ┆ 11.0     ┆ 0.0      │\n",
       " │ B85CAAC…                  ┆             ┆        ┆                         ┆          ┆          │\n",
       " │ 8179860ABA83E1BD9AFD55E64 ┆ 3.761126e6  ┆ 28.0   ┆ 2023-05-15 22:00:00 UTC ┆ 18.0     ┆ 0.0      │\n",
       " │ C1FD03C…                  ┆             ┆        ┆                         ┆          ┆          │\n",
       " │ EC09704D096E59B5D04E7CF95 ┆ 7.561354e6  ┆ 0.0    ┆ 2023-05-15 22:00:00 UTC ┆ 474.0    ┆ 0.0      │\n",
       " │ D1204B3…                  ┆             ┆        ┆                         ┆          ┆          │\n",
       " │ 540645331C940E5775BDE2D08 ┆ 1.2665704e7 ┆ 0.0    ┆ 2023-05-15 22:00:00 UTC ┆ 14.0     ┆ 0.0      │\n",
       " │ 86FFAA6…                  ┆             ┆        ┆                         ┆          ┆          │\n",
       " └───────────────────────────┴─────────────┴────────┴─────────────────────────┴──────────┴──────────┘)"
      ]
     },
     "execution_count": 26,
     "metadata": {},
     "output_type": "execute_result"
    }
   ],
   "source": [
    "pv = data.filter(pl.col('ean_sha256').is_in(grouped.filter(pl.col('odn_sum') > 0)['ean_sha256']))\n",
    "non_pv = data.filter(pl.col('ean_sha256').is_in(grouped.filter(pl.col('odn_sum') <= 0)['ean_sha256']))\n",
    "\n",
    "pv, non_pv"
   ]
  },
  {
   "cell_type": "markdown",
   "metadata": {},
   "source": [
    "## Linear Regression"
   ]
  },
  {
   "cell_type": "code",
   "execution_count": 39,
   "metadata": {},
   "outputs": [
    {
     "data": {
      "text/html": [
       "<div><style>\n",
       ".dataframe > thead > tr,\n",
       ".dataframe > tbody > tr {\n",
       "  text-align: right;\n",
       "  white-space: pre-wrap;\n",
       "}\n",
       "</style>\n",
       "<small>shape: (14_998_728, 8)</small><table border=\"1\" class=\"dataframe\"><thead><tr><th>EAN_SHA256</th><th>LDN</th><th>ODN</th><th>READINGDATE</th><th>METERNUMBER</th><th>LDN_DIFF</th><th>ODN_DIFF</th><th>LAST_MODIFIED</th></tr><tr><td>str</td><td>i64</td><td>i64</td><td>datetime[μs, UTC]</td><td>str</td><td>i64</td><td>i64</td><td>datetime[μs, UTC]</td></tr></thead><tbody><tr><td>&quot;89B7EC046E8C54…</td><td>8499121</td><td>1394</td><td>2023-05-31 21:00:00 UTC</td><td>&quot;E0045003884620…</td><td>53</td><td>0</td><td>2024-03-28 16:23:41 UTC</td></tr><tr><td>&quot;0307096B717656…</td><td>18691444</td><td>931931</td><td>2023-05-31 21:00:00 UTC</td><td>&quot;E0026300030431…</td><td>52</td><td>0</td><td>2024-03-28 16:23:41 UTC</td></tr><tr><td>&quot;5EE1859C97A4D5…</td><td>6834614</td><td>0</td><td>2023-05-31 21:00:00 UTC</td><td>&quot;E0051005314627…</td><td>42</td><td>0</td><td>2024-03-28 16:23:41 UTC</td></tr><tr><td>&quot;8050290E7A1C85…</td><td>25879503</td><td>94</td><td>2023-05-31 21:00:00 UTC</td><td>&quot;161651&quot;</td><td>108</td><td>0</td><td>2024-03-28 16:23:41 UTC</td></tr><tr><td>&quot;295D3A7CFA0CE8…</td><td>7558489</td><td>8</td><td>2023-05-31 21:00:00 UTC</td><td>&quot;24120&quot;</td><td>107</td><td>0</td><td>2024-03-28 16:23:41 UTC</td></tr><tr><td>&hellip;</td><td>&hellip;</td><td>&hellip;</td><td>&hellip;</td><td>&hellip;</td><td>&hellip;</td><td>&hellip;</td><td>&hellip;</td></tr><tr><td>&quot;F982BC63021ADF…</td><td>40031084</td><td>0</td><td>2023-06-17 21:45:00 UTC</td><td>&quot;E0003300005244…</td><td>47</td><td>0</td><td>2024-03-29 08:24:18 UTC</td></tr><tr><td>&quot;7794649B1AB55C…</td><td>5123136</td><td>0</td><td>2023-06-17 21:45:00 UTC</td><td>&quot;E0053007560003…</td><td>577</td><td>0</td><td>2024-03-29 08:24:18 UTC</td></tr><tr><td>&quot;E9CB4D846D041D…</td><td>37656651</td><td>0</td><td>2023-06-17 21:45:00 UTC</td><td>&quot;14520659&quot;</td><td>44</td><td>0</td><td>2024-03-29 08:24:18 UTC</td></tr><tr><td>&quot;42409A1774D259…</td><td>5006307</td><td>0</td><td>2023-06-17 21:45:00 UTC</td><td>&quot;E0051004480337…</td><td>8</td><td>0</td><td>2024-03-29 08:24:18 UTC</td></tr><tr><td>&quot;AF4B8EB74A326D…</td><td>128693779</td><td>91</td><td>2023-06-17 21:45:00 UTC</td><td>&quot;70121&quot;</td><td>427</td><td>0</td><td>2024-03-29 08:24:18 UTC</td></tr></tbody></table></div>"
      ],
      "text/plain": [
       "shape: (14_998_728, 8)\n",
       "┌─────────────┬───────────┬────────┬─────────────┬─────────────┬──────────┬──────────┬─────────────┐\n",
       "│ EAN_SHA256  ┆ LDN       ┆ ODN    ┆ READINGDATE ┆ METERNUMBER ┆ LDN_DIFF ┆ ODN_DIFF ┆ LAST_MODIFI │\n",
       "│ ---         ┆ ---       ┆ ---    ┆ ---         ┆ ---         ┆ ---      ┆ ---      ┆ ED          │\n",
       "│ str         ┆ i64       ┆ i64    ┆ datetime[μs ┆ str         ┆ i64      ┆ i64      ┆ ---         │\n",
       "│             ┆           ┆        ┆ , UTC]      ┆             ┆          ┆          ┆ datetime[μs │\n",
       "│             ┆           ┆        ┆             ┆             ┆          ┆          ┆ , UTC]      │\n",
       "╞═════════════╪═══════════╪════════╪═════════════╪═════════════╪══════════╪══════════╪═════════════╡\n",
       "│ 89B7EC046E8 ┆ 8499121   ┆ 1394   ┆ 2023-05-31  ┆ E0045003884 ┆ 53       ┆ 0        ┆ 2024-03-28  │\n",
       "│ C545F9E8650 ┆           ┆        ┆ 21:00:00    ┆ 620117      ┆          ┆          ┆ 16:23:41    │\n",
       "│ 33B8CBC5F8… ┆           ┆        ┆ UTC         ┆             ┆          ┆          ┆ UTC         │\n",
       "│ 0307096B717 ┆ 18691444  ┆ 931931 ┆ 2023-05-31  ┆ E0026300030 ┆ 52       ┆ 0        ┆ 2024-03-28  │\n",
       "│ 656705AB2E1 ┆           ┆        ┆ 21:00:00    ┆ 431716      ┆          ┆          ┆ 16:23:41    │\n",
       "│ D6D24C4CC4… ┆           ┆        ┆ UTC         ┆             ┆          ┆          ┆ UTC         │\n",
       "│ 5EE1859C97A ┆ 6834614   ┆ 0      ┆ 2023-05-31  ┆ E0051005314 ┆ 42       ┆ 0        ┆ 2024-03-28  │\n",
       "│ 4D57A7FE386 ┆           ┆        ┆ 21:00:00    ┆ 627119      ┆          ┆          ┆ 16:23:41    │\n",
       "│ ED21A044C1… ┆           ┆        ┆ UTC         ┆             ┆          ┆          ┆ UTC         │\n",
       "│ 8050290E7A1 ┆ 25879503  ┆ 94     ┆ 2023-05-31  ┆ 161651      ┆ 108      ┆ 0        ┆ 2024-03-28  │\n",
       "│ C85D13C4875 ┆           ┆        ┆ 21:00:00    ┆             ┆          ┆          ┆ 16:23:41    │\n",
       "│ EF0D1167D7… ┆           ┆        ┆ UTC         ┆             ┆          ┆          ┆ UTC         │\n",
       "│ 295D3A7CFA0 ┆ 7558489   ┆ 8      ┆ 2023-05-31  ┆ 24120       ┆ 107      ┆ 0        ┆ 2024-03-28  │\n",
       "│ CE831867775 ┆           ┆        ┆ 21:00:00    ┆             ┆          ┆          ┆ 16:23:41    │\n",
       "│ CF539A7D66… ┆           ┆        ┆ UTC         ┆             ┆          ┆          ┆ UTC         │\n",
       "│ …           ┆ …         ┆ …      ┆ …           ┆ …           ┆ …        ┆ …        ┆ …           │\n",
       "│ F982BC63021 ┆ 40031084  ┆ 0      ┆ 2023-06-17  ┆ E0003300005 ┆ 47       ┆ 0        ┆ 2024-03-29  │\n",
       "│ ADFFC0EEF95 ┆           ┆        ┆ 21:45:00    ┆ 244214      ┆          ┆          ┆ 08:24:18    │\n",
       "│ 595C1F3720… ┆           ┆        ┆ UTC         ┆             ┆          ┆          ┆ UTC         │\n",
       "│ 7794649B1AB ┆ 5123136   ┆ 0      ┆ 2023-06-17  ┆ E0053007560 ┆ 577      ┆ 0        ┆ 2024-03-29  │\n",
       "│ 55CC63A6882 ┆           ┆        ┆ 21:45:00    ┆ 003419      ┆          ┆          ┆ 08:24:18    │\n",
       "│ FE34AE336E… ┆           ┆        ┆ UTC         ┆             ┆          ┆          ┆ UTC         │\n",
       "│ E9CB4D846D0 ┆ 37656651  ┆ 0      ┆ 2023-06-17  ┆ 14520659    ┆ 44       ┆ 0        ┆ 2024-03-29  │\n",
       "│ 41D7795B002 ┆           ┆        ┆ 21:45:00    ┆             ┆          ┆          ┆ 08:24:18    │\n",
       "│ 122E776173… ┆           ┆        ┆ UTC         ┆             ┆          ┆          ┆ UTC         │\n",
       "│ 42409A1774D ┆ 5006307   ┆ 0      ┆ 2023-06-17  ┆ E0051004480 ┆ 8        ┆ 0        ┆ 2024-03-29  │\n",
       "│ 259A679EA1F ┆           ┆        ┆ 21:45:00    ┆ 337919      ┆          ┆          ┆ 08:24:18    │\n",
       "│ FB7DE4ADE9… ┆           ┆        ┆ UTC         ┆             ┆          ┆          ┆ UTC         │\n",
       "│ AF4B8EB74A3 ┆ 128693779 ┆ 91     ┆ 2023-06-17  ┆ 70121       ┆ 427      ┆ 0        ┆ 2024-03-29  │\n",
       "│ 26D87C11B5C ┆           ┆        ┆ 21:45:00    ┆             ┆          ┆          ┆ 08:24:18    │\n",
       "│ AD8F8B2239… ┆           ┆        ┆ UTC         ┆             ┆          ┆          ┆ UTC         │\n",
       "└─────────────┴───────────┴────────┴─────────────┴─────────────┴──────────┴──────────┴─────────────┘"
      ]
     },
     "execution_count": 39,
     "metadata": {},
     "output_type": "execute_result"
    }
   ],
   "source": [
    "df = pl.read_csv('./p4_data_june_2023.csv', try_parse_dates=True)"
   ]
  },
  {
   "cell_type": "markdown",
   "metadata": {},
   "source": [
    "### Remove missing values"
   ]
  },
  {
   "cell_type": "code",
   "execution_count": 57,
   "metadata": {},
   "outputs": [],
   "source": [
    "pl.Config.set_float_precision(3)\n",
    "\n",
    "def calculate_diff(_df: pl.DataFrame, accumulate: bool):\n",
    "    pipeline = (\n",
    "        _df.lazy()\n",
    "        .sort('readingdate')\n",
    "        .with_columns(\n",
    "            (pl.col('ldn') - pl.col('ldn').shift(1)).over('ean_sha256').alias('ldn_diff'),\n",
    "            (pl.col('odn') - pl.col('odn').shift(1)).over('ean_sha256').alias('odn_diff')\n",
    "        ).with_columns(\n",
    "            (pl.col('ldn_diff') - pl.col('odn_diff')).alias('gross')\n",
    "        )\n",
    "    )\n",
    "    if accumulate:\n",
    "        pipeline = pipeline.select(pl.col('readingdate'), pl.col('gross'))\\\n",
    "                .group_by('readingdate')\\\n",
    "                .agg(pl.sum('gross'))\\\n",
    "                .sort('readingdate')\n",
    "\n",
    "    return pipeline.collect()"
   ]
  },
  {
   "cell_type": "code",
   "execution_count": 56,
   "metadata": {},
   "outputs": [
    {
     "data": {
      "text/html": [
       "<div><style>\n",
       ".dataframe > thead > tr,\n",
       ".dataframe > tbody > tr {\n",
       "  text-align: right;\n",
       "  white-space: pre-wrap;\n",
       "}\n",
       "</style>\n",
       "<small>shape: (14_976_597, 8)</small><table border=\"1\" class=\"dataframe\"><thead><tr><th>ean_sha256</th><th>ldn</th><th>odn</th><th>readingdate</th><th>meternumber</th><th>ldn_diff</th><th>odn_diff</th><th>last_modified</th></tr><tr><td>str</td><td>i64</td><td>i64</td><td>datetime[μs, UTC]</td><td>str</td><td>i64</td><td>i64</td><td>datetime[μs, UTC]</td></tr></thead><tbody><tr><td>&quot;89B7EC046E8C54…</td><td>8499121</td><td>1394</td><td>2023-05-31 21:00:00 UTC</td><td>&quot;E0045003884620…</td><td>53</td><td>0</td><td>2024-03-28 16:23:41 UTC</td></tr><tr><td>&quot;0307096B717656…</td><td>18691444</td><td>931931</td><td>2023-05-31 21:00:00 UTC</td><td>&quot;E0026300030431…</td><td>52</td><td>0</td><td>2024-03-28 16:23:41 UTC</td></tr><tr><td>&quot;5EE1859C97A4D5…</td><td>6834614</td><td>0</td><td>2023-05-31 21:00:00 UTC</td><td>&quot;E0051005314627…</td><td>42</td><td>0</td><td>2024-03-28 16:23:41 UTC</td></tr><tr><td>&quot;8050290E7A1C85…</td><td>25879503</td><td>94</td><td>2023-05-31 21:00:00 UTC</td><td>&quot;161651&quot;</td><td>108</td><td>0</td><td>2024-03-28 16:23:41 UTC</td></tr><tr><td>&quot;295D3A7CFA0CE8…</td><td>7558489</td><td>8</td><td>2023-05-31 21:00:00 UTC</td><td>&quot;24120&quot;</td><td>107</td><td>0</td><td>2024-03-28 16:23:41 UTC</td></tr><tr><td>&hellip;</td><td>&hellip;</td><td>&hellip;</td><td>&hellip;</td><td>&hellip;</td><td>&hellip;</td><td>&hellip;</td><td>&hellip;</td></tr><tr><td>&quot;5B8E2831B5E741…</td><td>9174807</td><td>5921356</td><td>2023-06-30 21:45:00 UTC</td><td>&quot;E0045004092443…</td><td>62</td><td>0</td><td>2024-03-29 08:24:18 UTC</td></tr><tr><td>&quot;815837B5FAF352…</td><td>16811692</td><td>5216093</td><td>2023-06-30 21:45:00 UTC</td><td>&quot;E0045003864007…</td><td>18</td><td>0</td><td>2024-03-29 08:24:18 UTC</td></tr><tr><td>&quot;CDD68A453F10A9…</td><td>12708945</td><td>0</td><td>2023-06-30 21:45:00 UTC</td><td>&quot;151756&quot;</td><td>5</td><td>0</td><td>2024-03-29 08:24:18 UTC</td></tr><tr><td>&quot;761062CA391766…</td><td>47654962</td><td>4991723</td><td>2023-06-30 21:45:00 UTC</td><td>&quot;E0034006766990…</td><td>89</td><td>0</td><td>2024-03-29 08:24:18 UTC</td></tr><tr><td>&quot;93E7F241C4B025…</td><td>29423323</td><td>0</td><td>2023-06-30 21:45:00 UTC</td><td>&quot;31693708&quot;</td><td>79</td><td>0</td><td>2024-03-29 08:24:18 UTC</td></tr></tbody></table></div>"
      ],
      "text/plain": [
       "shape: (14_976_597, 8)\n",
       "┌─────────────┬──────────┬─────────┬─────────────┬─────────────┬──────────┬──────────┬─────────────┐\n",
       "│ ean_sha256  ┆ ldn      ┆ odn     ┆ readingdate ┆ meternumber ┆ ldn_diff ┆ odn_diff ┆ last_modifi │\n",
       "│ ---         ┆ ---      ┆ ---     ┆ ---         ┆ ---         ┆ ---      ┆ ---      ┆ ed          │\n",
       "│ str         ┆ i64      ┆ i64     ┆ datetime[μs ┆ str         ┆ i64      ┆ i64      ┆ ---         │\n",
       "│             ┆          ┆         ┆ , UTC]      ┆             ┆          ┆          ┆ datetime[μs │\n",
       "│             ┆          ┆         ┆             ┆             ┆          ┆          ┆ , UTC]      │\n",
       "╞═════════════╪══════════╪═════════╪═════════════╪═════════════╪══════════╪══════════╪═════════════╡\n",
       "│ 89B7EC046E8 ┆ 8499121  ┆ 1394    ┆ 2023-05-31  ┆ E0045003884 ┆ 53       ┆ 0        ┆ 2024-03-28  │\n",
       "│ C545F9E8650 ┆          ┆         ┆ 21:00:00    ┆ 620117      ┆          ┆          ┆ 16:23:41    │\n",
       "│ 33B8CBC5F8… ┆          ┆         ┆ UTC         ┆             ┆          ┆          ┆ UTC         │\n",
       "│ 0307096B717 ┆ 18691444 ┆ 931931  ┆ 2023-05-31  ┆ E0026300030 ┆ 52       ┆ 0        ┆ 2024-03-28  │\n",
       "│ 656705AB2E1 ┆          ┆         ┆ 21:00:00    ┆ 431716      ┆          ┆          ┆ 16:23:41    │\n",
       "│ D6D24C4CC4… ┆          ┆         ┆ UTC         ┆             ┆          ┆          ┆ UTC         │\n",
       "│ 5EE1859C97A ┆ 6834614  ┆ 0       ┆ 2023-05-31  ┆ E0051005314 ┆ 42       ┆ 0        ┆ 2024-03-28  │\n",
       "│ 4D57A7FE386 ┆          ┆         ┆ 21:00:00    ┆ 627119      ┆          ┆          ┆ 16:23:41    │\n",
       "│ ED21A044C1… ┆          ┆         ┆ UTC         ┆             ┆          ┆          ┆ UTC         │\n",
       "│ 8050290E7A1 ┆ 25879503 ┆ 94      ┆ 2023-05-31  ┆ 161651      ┆ 108      ┆ 0        ┆ 2024-03-28  │\n",
       "│ C85D13C4875 ┆          ┆         ┆ 21:00:00    ┆             ┆          ┆          ┆ 16:23:41    │\n",
       "│ EF0D1167D7… ┆          ┆         ┆ UTC         ┆             ┆          ┆          ┆ UTC         │\n",
       "│ 295D3A7CFA0 ┆ 7558489  ┆ 8       ┆ 2023-05-31  ┆ 24120       ┆ 107      ┆ 0        ┆ 2024-03-28  │\n",
       "│ CE831867775 ┆          ┆         ┆ 21:00:00    ┆             ┆          ┆          ┆ 16:23:41    │\n",
       "│ CF539A7D66… ┆          ┆         ┆ UTC         ┆             ┆          ┆          ┆ UTC         │\n",
       "│ …           ┆ …        ┆ …       ┆ …           ┆ …           ┆ …        ┆ …        ┆ …           │\n",
       "│ 5B8E2831B5E ┆ 9174807  ┆ 5921356 ┆ 2023-06-30  ┆ E0045004092 ┆ 62       ┆ 0        ┆ 2024-03-29  │\n",
       "│ 741E11E1D8B ┆          ┆         ┆ 21:45:00    ┆ 443717      ┆          ┆          ┆ 08:24:18    │\n",
       "│ 0E398E1967… ┆          ┆         ┆ UTC         ┆             ┆          ┆          ┆ UTC         │\n",
       "│ 815837B5FAF ┆ 16811692 ┆ 5216093 ┆ 2023-06-30  ┆ E0045003864 ┆ 18       ┆ 0        ┆ 2024-03-29  │\n",
       "│ 35222D75AAE ┆          ┆         ┆ 21:45:00    ┆ 007617      ┆          ┆          ┆ 08:24:18    │\n",
       "│ 1F0F235691… ┆          ┆         ┆ UTC         ┆             ┆          ┆          ┆ UTC         │\n",
       "│ CDD68A453F1 ┆ 12708945 ┆ 0       ┆ 2023-06-30  ┆ 151756      ┆ 5        ┆ 0        ┆ 2024-03-29  │\n",
       "│ 0A9D8AE8BC4 ┆          ┆         ┆ 21:45:00    ┆             ┆          ┆          ┆ 08:24:18    │\n",
       "│ 7DEEC278B9… ┆          ┆         ┆ UTC         ┆             ┆          ┆          ┆ UTC         │\n",
       "│ 761062CA391 ┆ 47654962 ┆ 4991723 ┆ 2023-06-30  ┆ E0034006766 ┆ 89       ┆ 0        ┆ 2024-03-29  │\n",
       "│ 766B925BA78 ┆          ┆         ┆ 21:45:00    ┆ 990116      ┆          ┆          ┆ 08:24:18    │\n",
       "│ C9F4DC14EE… ┆          ┆         ┆ UTC         ┆             ┆          ┆          ┆ UTC         │\n",
       "│ 93E7F241C4B ┆ 29423323 ┆ 0       ┆ 2023-06-30  ┆ 31693708    ┆ 79       ┆ 0        ┆ 2024-03-29  │\n",
       "│ 025F870173D ┆          ┆         ┆ 21:45:00    ┆             ┆          ┆          ┆ 08:24:18    │\n",
       "│ 3404CF88C1… ┆          ┆         ┆ UTC         ┆             ┆          ┆          ┆ UTC         │\n",
       "└─────────────┴──────────┴─────────┴─────────────┴─────────────┴──────────┴──────────┴─────────────┘"
      ]
     },
     "execution_count": 56,
     "metadata": {},
     "output_type": "execute_result"
    }
   ],
   "source": [
    "expected_ptus = (df['READINGDATE'].max() - df['READINGDATE'].min()).days * 24 * 4\n",
    "\n",
    "cleaned_df = df.filter(pl.col('EAN_SHA256').is_in(df.group_by('EAN_SHA256').agg(pl.count('LDN')).filter(pl.col('LDN') >= expected_ptus)['EAN_SHA256']))\n",
    "cleaned_df.columns = [c.lower() for c in cleaned_df.columns]\n",
    "cleaned_df.sort('readingdate')"
   ]
  },
  {
   "cell_type": "code",
   "execution_count": 62,
   "metadata": {},
   "outputs": [],
   "source": [
    "aggregated = calculate_diff(cleaned_df, True)"
   ]
  },
  {
   "cell_type": "markdown",
   "metadata": {},
   "source": [
    "### Outlier detection with Interquartile-Range"
   ]
  },
  {
   "cell_type": "code",
   "execution_count": 102,
   "metadata": {},
   "outputs": [
    {
     "data": {},
     "metadata": {},
     "output_type": "display_data"
    },
    {
     "data": {
      "application/vnd.holoviews_exec.v0+json": "",
      "text/html": [
       "<div id='p1319'>\n",
       "  <div id=\"a3b3a16d-0d41-4e8e-9556-c59ce04498d9\" data-root-id=\"p1319\" style=\"display: contents;\"></div>\n",
       "</div>\n",
       "<script type=\"application/javascript\">(function(root) {\n",
       "  var docs_json = {\"85efb961-f0eb-4f2b-936a-f4348f12c9f1\":{\"version\":\"3.4.0\",\"title\":\"Bokeh Application\",\"roots\":[{\"type\":\"object\",\"name\":\"Row\",\"id\":\"p1319\",\"attributes\":{\"name\":\"Row01483\",\"tags\":[\"embedded\"],\"stylesheets\":[\"\\n:host(.pn-loading):before, .pn-loading:before {\\n  background-color: #c3c3c3;\\n  mask-size: auto calc(min(50%, 400px));\\n  -webkit-mask-size: auto calc(min(50%, 400px));\\n}\",{\"type\":\"object\",\"name\":\"ImportedStyleSheet\",\"id\":\"p1322\",\"attributes\":{\"url\":\"https://cdn.holoviz.org/panel/1.4.0/dist/css/loading.css\"}},{\"type\":\"object\",\"name\":\"ImportedStyleSheet\",\"id\":\"p1378\",\"attributes\":{\"url\":\"https://cdn.holoviz.org/panel/1.4.0/dist/css/listpanel.css\"}},{\"type\":\"object\",\"name\":\"ImportedStyleSheet\",\"id\":\"p1320\",\"attributes\":{\"url\":\"https://cdn.holoviz.org/panel/1.4.0/dist/bundled/theme/default.css\"}},{\"type\":\"object\",\"name\":\"ImportedStyleSheet\",\"id\":\"p1321\",\"attributes\":{\"url\":\"https://cdn.holoviz.org/panel/1.4.0/dist/bundled/theme/native.css\"}}],\"min_width\":700,\"margin\":0,\"sizing_mode\":\"stretch_width\",\"align\":\"start\",\"children\":[{\"type\":\"object\",\"name\":\"Spacer\",\"id\":\"p1323\",\"attributes\":{\"name\":\"HSpacer01490\",\"stylesheets\":[\"\\n:host(.pn-loading):before, .pn-loading:before {\\n  background-color: #c3c3c3;\\n  mask-size: auto calc(min(50%, 400px));\\n  -webkit-mask-size: auto calc(min(50%, 400px));\\n}\",{\"id\":\"p1322\"},{\"id\":\"p1320\"},{\"id\":\"p1321\"}],\"margin\":0,\"sizing_mode\":\"stretch_width\",\"align\":\"start\"}},{\"type\":\"object\",\"name\":\"Figure\",\"id\":\"p1331\",\"attributes\":{\"width\":700,\"height\":300,\"margin\":[5,10],\"sizing_mode\":\"fixed\",\"align\":\"start\",\"x_range\":{\"type\":\"object\",\"name\":\"Range1d\",\"id\":\"p1324\",\"attributes\":{\"tags\":[[[\"index\",\"index\",null]],[]],\"end\":2883.0,\"reset_start\":0.0,\"reset_end\":2883.0}},\"y_range\":{\"type\":\"object\",\"name\":\"Range1d\",\"id\":\"p1325\",\"attributes\":{\"tags\":[[[\"gross\",\"gross\",null]],{\"type\":\"map\",\"entries\":[[\"invert_yaxis\",false],[\"autorange\",false]]}],\"start\":-1555898.4,\"end\":848234.4,\"reset_start\":-1555898.4,\"reset_end\":848234.4}},\"x_scale\":{\"type\":\"object\",\"name\":\"LinearScale\",\"id\":\"p1341\"},\"y_scale\":{\"type\":\"object\",\"name\":\"LinearScale\",\"id\":\"p1342\"},\"title\":{\"type\":\"object\",\"name\":\"Title\",\"id\":\"p1334\",\"attributes\":{\"text_color\":\"black\",\"text_font_size\":\"12pt\"}},\"renderers\":[{\"type\":\"object\",\"name\":\"GlyphRenderer\",\"id\":\"p1371\",\"attributes\":{\"data_source\":{\"type\":\"object\",\"name\":\"ColumnDataSource\",\"id\":\"p1362\",\"attributes\":{\"selected\":{\"type\":\"object\",\"name\":\"Selection\",\"id\":\"p1363\",\"attributes\":{\"indices\":[],\"line_indices\":[]}},\"selection_policy\":{\"type\":\"object\",\"name\":\"UnionRenderers\",\"id\":\"p1364\"},\"data\":{\"type\":\"map\",\"entries\":[[\"index\",{\"type\":\"ndarray\",\"array\":{\"type\":\"bytes\",\"data\":\"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\"},\"shape\":[2884],\"dtype\":\"int32\",\"order\":\"little\"}],[\"gross\",{\"type\":\"ndarray\",\"array\":{\"type\":\"bytes\",\"data\":\"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\"},\"shape\":[2884],\"dtype\":\"int32\",\"order\":\"little\"}]]}}},\"view\":{\"type\":\"object\",\"name\":\"CDSView\",\"id\":\"p1372\",\"attributes\":{\"filter\":{\"type\":\"object\",\"name\":\"AllIndices\",\"id\":\"p1373\"}}},\"glyph\":{\"type\":\"object\",\"name\":\"Line\",\"id\":\"p1368\",\"attributes\":{\"tags\":[\"apply_ranges\"],\"x\":{\"type\":\"field\",\"field\":\"index\"},\"y\":{\"type\":\"field\",\"field\":\"gross\"},\"line_color\":\"#30a2da\",\"line_width\":2}},\"selection_glyph\":{\"type\":\"object\",\"name\":\"Line\",\"id\":\"p1374\",\"attributes\":{\"tags\":[\"apply_ranges\"],\"x\":{\"type\":\"field\",\"field\":\"index\"},\"y\":{\"type\":\"field\",\"field\":\"gross\"},\"line_color\":\"#30a2da\",\"line_width\":2}},\"nonselection_glyph\":{\"type\":\"object\",\"name\":\"Line\",\"id\":\"p1369\",\"attributes\":{\"tags\":[\"apply_ranges\"],\"x\":{\"type\":\"field\",\"field\":\"index\"},\"y\":{\"type\":\"field\",\"field\":\"gross\"},\"line_color\":\"#30a2da\",\"line_alpha\":0.1,\"line_width\":2}},\"muted_glyph\":{\"type\":\"object\",\"name\":\"Line\",\"id\":\"p1370\",\"attributes\":{\"tags\":[\"apply_ranges\"],\"x\":{\"type\":\"field\",\"field\":\"index\"},\"y\":{\"type\":\"field\",\"field\":\"gross\"},\"line_color\":\"#30a2da\",\"line_alpha\":0.2,\"line_width\":2}}}}],\"toolbar\":{\"type\":\"object\",\"name\":\"Toolbar\",\"id\":\"p1340\",\"attributes\":{\"tools\":[{\"type\":\"object\",\"name\":\"WheelZoomTool\",\"id\":\"p1329\",\"attributes\":{\"tags\":[\"hv_created\"],\"renderers\":\"auto\",\"zoom_together\":\"none\"}},{\"type\":\"object\",\"name\":\"HoverTool\",\"id\":\"p1330\",\"attributes\":{\"tags\":[\"hv_created\"],\"renderers\":[{\"id\":\"p1371\"}],\"tooltips\":[[\"index\",\"@{index}\"],[\"gross\",\"@{gross}\"]]}},{\"type\":\"object\",\"name\":\"SaveTool\",\"id\":\"p1353\"},{\"type\":\"object\",\"name\":\"PanTool\",\"id\":\"p1354\"},{\"type\":\"object\",\"name\":\"BoxZoomTool\",\"id\":\"p1355\",\"attributes\":{\"overlay\":{\"type\":\"object\",\"name\":\"BoxAnnotation\",\"id\":\"p1356\",\"attributes\":{\"syncable\":false,\"level\":\"overlay\",\"visible\":false,\"left\":{\"type\":\"number\",\"value\":\"nan\"},\"right\":{\"type\":\"number\",\"value\":\"nan\"},\"top\":{\"type\":\"number\",\"value\":\"nan\"},\"bottom\":{\"type\":\"number\",\"value\":\"nan\"},\"left_units\":\"canvas\",\"right_units\":\"canvas\",\"top_units\":\"canvas\",\"bottom_units\":\"canvas\",\"line_color\":\"black\",\"line_alpha\":1.0,\"line_width\":2,\"line_dash\":[4,4],\"fill_color\":\"lightgrey\",\"fill_alpha\":0.5}}}},{\"type\":\"object\",\"name\":\"ResetTool\",\"id\":\"p1361\"}],\"active_drag\":{\"id\":\"p1354\"},\"active_scroll\":{\"id\":\"p1329\"}}},\"left\":[{\"type\":\"object\",\"name\":\"LinearAxis\",\"id\":\"p1348\",\"attributes\":{\"ticker\":{\"type\":\"object\",\"name\":\"BasicTicker\",\"id\":\"p1349\",\"attributes\":{\"mantissas\":[1,2,5]}},\"formatter\":{\"type\":\"object\",\"name\":\"BasicTickFormatter\",\"id\":\"p1350\"},\"axis_label\":\"gross\",\"major_label_policy\":{\"type\":\"object\",\"name\":\"AllLabels\",\"id\":\"p1351\"}}}],\"below\":[{\"type\":\"object\",\"name\":\"LinearAxis\",\"id\":\"p1343\",\"attributes\":{\"ticker\":{\"type\":\"object\",\"name\":\"BasicTicker\",\"id\":\"p1344\",\"attributes\":{\"mantissas\":[1,2,5]}},\"formatter\":{\"type\":\"object\",\"name\":\"BasicTickFormatter\",\"id\":\"p1345\"},\"axis_label\":\"\",\"major_label_policy\":{\"type\":\"object\",\"name\":\"AllLabels\",\"id\":\"p1346\"}}}],\"center\":[{\"type\":\"object\",\"name\":\"Grid\",\"id\":\"p1347\",\"attributes\":{\"axis\":{\"id\":\"p1343\"},\"grid_line_color\":null}},{\"type\":\"object\",\"name\":\"Grid\",\"id\":\"p1352\",\"attributes\":{\"dimension\":1,\"axis\":{\"id\":\"p1348\"},\"grid_line_color\":null}}],\"min_border_top\":10,\"min_border_bottom\":10,\"min_border_left\":10,\"min_border_right\":10,\"output_backend\":\"webgl\"}},{\"type\":\"object\",\"name\":\"Spacer\",\"id\":\"p1376\",\"attributes\":{\"name\":\"HSpacer01491\",\"stylesheets\":[\"\\n:host(.pn-loading):before, .pn-loading:before {\\n  background-color: #c3c3c3;\\n  mask-size: auto calc(min(50%, 400px));\\n  -webkit-mask-size: auto calc(min(50%, 400px));\\n}\",{\"id\":\"p1322\"},{\"id\":\"p1320\"},{\"id\":\"p1321\"}],\"margin\":0,\"sizing_mode\":\"stretch_width\",\"align\":\"start\"}}]}}],\"defs\":[{\"type\":\"model\",\"name\":\"ReactiveHTML1\"},{\"type\":\"model\",\"name\":\"FlexBox1\",\"properties\":[{\"name\":\"align_content\",\"kind\":\"Any\",\"default\":\"flex-start\"},{\"name\":\"align_items\",\"kind\":\"Any\",\"default\":\"flex-start\"},{\"name\":\"flex_direction\",\"kind\":\"Any\",\"default\":\"row\"},{\"name\":\"flex_wrap\",\"kind\":\"Any\",\"default\":\"wrap\"},{\"name\":\"justify_content\",\"kind\":\"Any\",\"default\":\"flex-start\"},{\"name\":\"gap\",\"kind\":\"Any\",\"default\":\"\"}]},{\"type\":\"model\",\"name\":\"FloatPanel1\",\"properties\":[{\"name\":\"config\",\"kind\":\"Any\",\"default\":{\"type\":\"map\"}},{\"name\":\"contained\",\"kind\":\"Any\",\"default\":true},{\"name\":\"position\",\"kind\":\"Any\",\"default\":\"right-top\"},{\"name\":\"offsetx\",\"kind\":\"Any\",\"default\":null},{\"name\":\"offsety\",\"kind\":\"Any\",\"default\":null},{\"name\":\"theme\",\"kind\":\"Any\",\"default\":\"primary\"},{\"name\":\"status\",\"kind\":\"Any\",\"default\":\"normalized\"}]},{\"type\":\"model\",\"name\":\"GridStack1\",\"properties\":[{\"name\":\"mode\",\"kind\":\"Any\",\"default\":\"warn\"},{\"name\":\"ncols\",\"kind\":\"Any\",\"default\":null},{\"name\":\"nrows\",\"kind\":\"Any\",\"default\":null},{\"name\":\"allow_resize\",\"kind\":\"Any\",\"default\":true},{\"name\":\"allow_drag\",\"kind\":\"Any\",\"default\":true},{\"name\":\"state\",\"kind\":\"Any\",\"default\":[]}]},{\"type\":\"model\",\"name\":\"drag1\",\"properties\":[{\"name\":\"slider_width\",\"kind\":\"Any\",\"default\":5},{\"name\":\"slider_color\",\"kind\":\"Any\",\"default\":\"black\"},{\"name\":\"value\",\"kind\":\"Any\",\"default\":50}]},{\"type\":\"model\",\"name\":\"click1\",\"properties\":[{\"name\":\"terminal_output\",\"kind\":\"Any\",\"default\":\"\"},{\"name\":\"debug_name\",\"kind\":\"Any\",\"default\":\"\"},{\"name\":\"clears\",\"kind\":\"Any\",\"default\":0}]},{\"type\":\"model\",\"name\":\"FastWrapper1\",\"properties\":[{\"name\":\"object\",\"kind\":\"Any\",\"default\":null},{\"name\":\"style\",\"kind\":\"Any\",\"default\":null}]},{\"type\":\"model\",\"name\":\"NotificationAreaBase1\",\"properties\":[{\"name\":\"js_events\",\"kind\":\"Any\",\"default\":{\"type\":\"map\"}},{\"name\":\"position\",\"kind\":\"Any\",\"default\":\"bottom-right\"},{\"name\":\"_clear\",\"kind\":\"Any\",\"default\":0}]},{\"type\":\"model\",\"name\":\"NotificationArea1\",\"properties\":[{\"name\":\"js_events\",\"kind\":\"Any\",\"default\":{\"type\":\"map\"}},{\"name\":\"notifications\",\"kind\":\"Any\",\"default\":[]},{\"name\":\"position\",\"kind\":\"Any\",\"default\":\"bottom-right\"},{\"name\":\"_clear\",\"kind\":\"Any\",\"default\":0},{\"name\":\"types\",\"kind\":\"Any\",\"default\":[{\"type\":\"map\",\"entries\":[[\"type\",\"warning\"],[\"background\",\"#ffc107\"],[\"icon\",{\"type\":\"map\",\"entries\":[[\"className\",\"fas fa-exclamation-triangle\"],[\"tagName\",\"i\"],[\"color\",\"white\"]]}]]},{\"type\":\"map\",\"entries\":[[\"type\",\"info\"],[\"background\",\"#007bff\"],[\"icon\",{\"type\":\"map\",\"entries\":[[\"className\",\"fas fa-info-circle\"],[\"tagName\",\"i\"],[\"color\",\"white\"]]}]]}]}]},{\"type\":\"model\",\"name\":\"Notification\",\"properties\":[{\"name\":\"background\",\"kind\":\"Any\",\"default\":null},{\"name\":\"duration\",\"kind\":\"Any\",\"default\":3000},{\"name\":\"icon\",\"kind\":\"Any\",\"default\":null},{\"name\":\"message\",\"kind\":\"Any\",\"default\":\"\"},{\"name\":\"notification_type\",\"kind\":\"Any\",\"default\":null},{\"name\":\"_destroyed\",\"kind\":\"Any\",\"default\":false}]},{\"type\":\"model\",\"name\":\"TemplateActions1\",\"properties\":[{\"name\":\"open_modal\",\"kind\":\"Any\",\"default\":0},{\"name\":\"close_modal\",\"kind\":\"Any\",\"default\":0}]},{\"type\":\"model\",\"name\":\"BootstrapTemplateActions1\",\"properties\":[{\"name\":\"open_modal\",\"kind\":\"Any\",\"default\":0},{\"name\":\"close_modal\",\"kind\":\"Any\",\"default\":0}]},{\"type\":\"model\",\"name\":\"TemplateEditor1\",\"properties\":[{\"name\":\"layout\",\"kind\":\"Any\",\"default\":[]}]},{\"type\":\"model\",\"name\":\"MaterialTemplateActions1\",\"properties\":[{\"name\":\"open_modal\",\"kind\":\"Any\",\"default\":0},{\"name\":\"close_modal\",\"kind\":\"Any\",\"default\":0}]},{\"type\":\"model\",\"name\":\"copy_to_clipboard1\",\"properties\":[{\"name\":\"fill\",\"kind\":\"Any\",\"default\":\"none\"},{\"name\":\"value\",\"kind\":\"Any\",\"default\":null}]}]}};\n",
       "  var render_items = [{\"docid\":\"85efb961-f0eb-4f2b-936a-f4348f12c9f1\",\"roots\":{\"p1319\":\"a3b3a16d-0d41-4e8e-9556-c59ce04498d9\"},\"root_ids\":[\"p1319\"]}];\n",
       "  var docs = Object.values(docs_json)\n",
       "  if (!docs) {\n",
       "    return\n",
       "  }\n",
       "  const py_version = docs[0].version.replace('rc', '-rc.').replace('.dev', '-dev.')\n",
       "  function embed_document(root) {\n",
       "    var Bokeh = get_bokeh(root)\n",
       "    Bokeh.embed.embed_items_notebook(docs_json, render_items);\n",
       "    for (const render_item of render_items) {\n",
       "      for (const root_id of render_item.root_ids) {\n",
       "\tconst id_el = document.getElementById(root_id)\n",
       "\tif (id_el.children.length && (id_el.children[0].className === 'bk-root')) {\n",
       "\t  const root_el = id_el.children[0]\n",
       "\t  root_el.id = root_el.id + '-rendered'\n",
       "\t}\n",
       "      }\n",
       "    }\n",
       "  }\n",
       "  function get_bokeh(root) {\n",
       "    if (root.Bokeh === undefined) {\n",
       "      return null\n",
       "    } else if (root.Bokeh.version !== py_version) {\n",
       "      if (root.Bokeh.versions === undefined || !root.Bokeh.versions.has(py_version)) {\n",
       "\treturn null\n",
       "      }\n",
       "      return root.Bokeh.versions.get(py_version);\n",
       "    } else if (root.Bokeh.version === py_version) {\n",
       "      return root.Bokeh\n",
       "    }\n",
       "    return null\n",
       "  }\n",
       "  function is_loaded(root) {\n",
       "    var Bokeh = get_bokeh(root)\n",
       "    return (Bokeh != null && Bokeh.Panel !== undefined)\n",
       "  }\n",
       "  if (is_loaded(root)) {\n",
       "    embed_document(root);\n",
       "  } else {\n",
       "    var attempts = 0;\n",
       "    var timer = setInterval(function(root) {\n",
       "      if (is_loaded(root)) {\n",
       "        clearInterval(timer);\n",
       "        embed_document(root);\n",
       "      } else if (document.readyState == \"complete\") {\n",
       "        attempts++;\n",
       "        if (attempts > 200) {\n",
       "          clearInterval(timer);\n",
       "\t  var Bokeh = get_bokeh(root)\n",
       "\t  if (Bokeh == null || Bokeh.Panel == null) {\n",
       "            console.warn(\"Panel: ERROR: Unable to run Panel code because Bokeh or Panel library is missing\");\n",
       "\t  } else {\n",
       "\t    console.warn(\"Panel: WARNING: Attempting to render but not all required libraries could be resolved.\")\n",
       "\t    embed_document(root)\n",
       "\t  }\n",
       "        }\n",
       "      }\n",
       "    }, 25, root)\n",
       "  }\n",
       "})(window);</script>"
      ],
      "text/plain": [
       ":Curve   [index]   (gross)"
      ]
     },
     "execution_count": 102,
     "metadata": {
      "application/vnd.holoviews_exec.v0+json": {
       "id": "p1319"
      }
     },
     "output_type": "execute_result"
    }
   ],
   "source": [
    "# plotting for a visual evaluation\n",
    "aggregated.plot()"
   ]
  },
  {
   "cell_type": "code",
   "execution_count": 103,
   "metadata": {},
   "outputs": [
    {
     "name": "stdout",
     "output_type": "stream",
     "text": [
      "863273.0 1047184.65 -1801616.25\n"
     ]
    },
    {
     "data": {
      "text/html": [
       "<div><style>\n",
       ".dataframe > thead > tr,\n",
       ".dataframe > tbody > tr {\n",
       "  text-align: right;\n",
       "  white-space: pre-wrap;\n",
       "}\n",
       "</style>\n",
       "<small>shape: (0, 3)</small><table border=\"1\" class=\"dataframe\"><thead><tr><th>index</th><th>readingdate</th><th>gross</th></tr><tr><td>u32</td><td>datetime[μs, UTC]</td><td>i64</td></tr></thead><tbody></tbody></table></div>"
      ],
      "text/plain": [
       "shape: (0, 3)\n",
       "┌───────┬───────────────────┬───────┐\n",
       "│ index ┆ readingdate       ┆ gross │\n",
       "│ ---   ┆ ---               ┆ ---   │\n",
       "│ u32   ┆ datetime[μs, UTC] ┆ i64   │\n",
       "╞═══════╪═══════════════════╪═══════╡\n",
       "└───────┴───────────────────┴───────┘"
      ]
     },
     "execution_count": 103,
     "metadata": {},
     "output_type": "execute_result"
    }
   ],
   "source": [
    "q3, q1 = np.percentile(aggregated[['gross']], [75 ,25])\n",
    "iqr = q3 - q1\n",
    "# fine tune the multiplicator based on the visual\n",
    "upper_bound = q3 + (0.8*iqr)\n",
    "lower_bound = q1 - (1.5*iqr)\n",
    "print(iqr, upper_bound, lower_bound)\n",
    "\n",
    "outliers = aggregated.with_row_index().filter((pl.col('gross') > upper_bound) | (pl.col('gross') < lower_bound))\n",
    "outliers"
   ]
  },
  {
   "cell_type": "code",
   "execution_count": 100,
   "metadata": {},
   "outputs": [
    {
     "name": "stdout",
     "output_type": "stream",
     "text": [
      "1167225\n",
      "537037\n"
     ]
    },
    {
     "data": {
      "text/html": [
       "<div><style>\n",
       ".dataframe > thead > tr,\n",
       ".dataframe > tbody > tr {\n",
       "  text-align: right;\n",
       "  white-space: pre-wrap;\n",
       "}\n",
       "</style>\n",
       "<small>shape: (2_884, 2)</small><table border=\"1\" class=\"dataframe\"><thead><tr><th>readingdate</th><th>gross</th></tr><tr><td>datetime[μs, UTC]</td><td>i64</td></tr></thead><tbody><tr><td>2023-05-31 21:00:00 UTC</td><td>0</td></tr><tr><td>2023-05-31 21:15:00 UTC</td><td>539252</td></tr><tr><td>2023-05-31 21:30:00 UTC</td><td>522110</td></tr><tr><td>2023-05-31 21:45:00 UTC</td><td>496761</td></tr><tr><td>2023-05-31 22:00:00 UTC</td><td>468218</td></tr><tr><td>&hellip;</td><td>&hellip;</td></tr><tr><td>2023-06-30 20:45:00 UTC</td><td>501824</td></tr><tr><td>2023-06-30 21:00:00 UTC</td><td>499647</td></tr><tr><td>2023-06-30 21:15:00 UTC</td><td>493380</td></tr><tr><td>2023-06-30 21:30:00 UTC</td><td>482019</td></tr><tr><td>2023-06-30 21:45:00 UTC</td><td>474286</td></tr></tbody></table></div>"
      ],
      "text/plain": [
       "shape: (2_884, 2)\n",
       "┌─────────────────────────┬────────┐\n",
       "│ readingdate             ┆ gross  │\n",
       "│ ---                     ┆ ---    │\n",
       "│ datetime[μs, UTC]       ┆ i64    │\n",
       "╞═════════════════════════╪════════╡\n",
       "│ 2023-05-31 21:00:00 UTC ┆ 0      │\n",
       "│ 2023-05-31 21:15:00 UTC ┆ 539252 │\n",
       "│ 2023-05-31 21:30:00 UTC ┆ 522110 │\n",
       "│ 2023-05-31 21:45:00 UTC ┆ 496761 │\n",
       "│ 2023-05-31 22:00:00 UTC ┆ 468218 │\n",
       "│ …                       ┆ …      │\n",
       "│ 2023-06-30 20:45:00 UTC ┆ 501824 │\n",
       "│ 2023-06-30 21:00:00 UTC ┆ 499647 │\n",
       "│ 2023-06-30 21:15:00 UTC ┆ 493380 │\n",
       "│ 2023-06-30 21:30:00 UTC ┆ 482019 │\n",
       "│ 2023-06-30 21:45:00 UTC ┆ 474286 │\n",
       "└─────────────────────────┴────────┘"
      ]
     },
     "execution_count": 100,
     "metadata": {},
     "output_type": "execute_result"
    }
   ],
   "source": [
    "outlier_indices = outliers['index']\n",
    "\n",
    "for idx in outlier_indices:\n",
    "    # Get the previous and next values\n",
    "    prev_value = aggregated['gross'][idx - 1]\n",
    "    next_value = aggregated['gross'][idx + 1]\n",
    "    \n",
    "    # Linear interpolation\n",
    "    interpolated_value = (prev_value + next_value) / 2\n",
    "    # print(prev_value, next_value, interpolated_value)\n",
    "    print(aggregated['gross'][idx])\n",
    "    aggregated[idx, 'gross'] = interpolated_value\n",
    "    print(aggregated['gross'][idx])\n",
    "    # Replace the outlier with the interpolated value\n",
    "    # aggregated['gross'][idx] = interpolated_value\n",
    "\n",
    "aggregated"
   ]
  },
  {
   "cell_type": "markdown",
   "metadata": {},
   "source": [
    "### Pulling weather data"
   ]
  },
  {
   "cell_type": "code",
   "execution_count": 107,
   "metadata": {},
   "outputs": [
    {
     "data": {
      "text/plain": [
       "(datetime.datetime(2023, 5, 31, 21, 0, tzinfo=zoneinfo.ZoneInfo(key='UTC')),\n",
       " datetime.datetime(2023, 6, 30, 21, 45, tzinfo=zoneinfo.ZoneInfo(key='UTC')))"
      ]
     },
     "execution_count": 107,
     "metadata": {},
     "output_type": "execute_result"
    }
   ],
   "source": [
    "min_date = aggregated['readingdate'].min()\n",
    "max_date = aggregated['readingdate'].max()\n",
    "\n",
    "min_date, max_date"
   ]
  },
  {
   "cell_type": "code",
   "execution_count": 106,
   "metadata": {},
   "outputs": [
    {
     "data": {
      "text/html": [
       "<div><style>\n",
       ".dataframe > thead > tr,\n",
       ".dataframe > tbody > tr {\n",
       "  text-align: right;\n",
       "  white-space: pre-wrap;\n",
       "}\n",
       "</style>\n",
       "<small>shape: (2_928, 18)</small><table border=\"1\" class=\"dataframe\"><thead><tr><th></th><th>grid_point</th><th>latitude</th><th>longitude</th><th>valid_datetime</th><th>batch_datetime</th><th>wind_speed_10m</th><th>wind_speed_50m</th><th>wind_blast_speed_10m</th><th>t_instant_ground_2m</th><th>td_instant_ground_2m</th><th>pres_instant_sea_0m</th><th>pres_instant_ground_0m</th><th>r_instant_ground_2m</th><th>rain_instant_ground_0m</th><th>grad_accum_ground_0m</th><th>tcc_instant_ground_0m</th><th>vis_instant_ground_0m</th></tr><tr><td>i64</td><td>i64</td><td>f64</td><td>f64</td><td>datetime[μs, UTC]</td><td>datetime[μs, UTC]</td><td>f64</td><td>f64</td><td>f64</td><td>f64</td><td>f64</td><td>f64</td><td>f64</td><td>f64</td><td>f64</td><td>f64</td><td>f64</td><td>f64</td></tr></thead><tbody><tr><td>65</td><td>136141</td><td>52.105</td><td>5.180</td><td>2023-04-01 00:00:00 UTC</td><td>2023-03-31 06:00:00 UTC</td><td>5.080</td><td>7.142</td><td>10.466</td><td>282.157</td><td>281.587</td><td>99028.980</td><td>98975.190</td><td>0.961</td><td>0.000</td><td>0.000</td><td>1.000</td><td>2831.144</td></tr><tr><td>66</td><td>136141</td><td>52.105</td><td>5.180</td><td>2023-04-01 01:00:00 UTC</td><td>2023-03-31 06:00:00 UTC</td><td>4.670</td><td>6.651</td><td>9.381</td><td>282.039</td><td>281.399</td><td>99040.470</td><td>98986.190</td><td>0.957</td><td>0.000</td><td>0.000</td><td>1.000</td><td>3154.285</td></tr><tr><td>67</td><td>136141</td><td>52.105</td><td>5.180</td><td>2023-04-01 02:00:00 UTC</td><td>2023-03-31 06:00:00 UTC</td><td>4.511</td><td>6.286</td><td>8.601</td><td>281.754</td><td>281.255</td><td>99052.516</td><td>98998.440</td><td>0.967</td><td>0.000</td><td>0.000</td><td>1.000</td><td>2558.175</td></tr><tr><td>68</td><td>136141</td><td>52.105</td><td>5.180</td><td>2023-04-01 03:00:00 UTC</td><td>2023-03-31 06:00:00 UTC</td><td>4.050</td><td>5.691</td><td>8.315</td><td>281.495</td><td>281.064</td><td>99076.690</td><td>99022.500</td><td>0.970</td><td>0.000</td><td>0.000</td><td>1.000</td><td>2374.903</td></tr><tr><td>69</td><td>136141</td><td>52.105</td><td>5.180</td><td>2023-04-01 04:00:00 UTC</td><td>2023-03-31 06:00:00 UTC</td><td>3.529</td><td>5.057</td><td>7.444</td><td>281.382</td><td>281.037</td><td>99098.980</td><td>99044.810</td><td>0.977</td><td>0.000</td><td>0.000</td><td>1.000</td><td>2021.720</td></tr><tr><td>&hellip;</td><td>&hellip;</td><td>&hellip;</td><td>&hellip;</td><td>&hellip;</td><td>&hellip;</td><td>&hellip;</td><td>&hellip;</td><td>&hellip;</td><td>&hellip;</td><td>&hellip;</td><td>&hellip;</td><td>&hellip;</td><td>&hellip;</td><td>&hellip;</td><td>&hellip;</td><td>&hellip;</td><td>&hellip;</td></tr><tr><td>23355</td><td>136141</td><td>52.105</td><td>5.180</td><td>2023-07-31 19:00:00 UTC</td><td>2023-07-31 06:00:00 UTC</td><td>4.169</td><td>6.168</td><td>8.043</td><td>290.369</td><td>289.774</td><td>100180.970</td><td>100127.750</td><td>0.962</td><td>0.000</td><td>25900.188</td><td>1.000</td><td>3104.548</td></tr><tr><td>23356</td><td>136141</td><td>52.105</td><td>5.180</td><td>2023-07-31 20:00:00 UTC</td><td>2023-07-31 06:00:00 UTC</td><td>3.940</td><td>6.020</td><td>7.770</td><td>290.458</td><td>289.811</td><td>100133.600</td><td>100079.750</td><td>0.959</td><td>0.000</td><td>890.438</td><td>1.000</td><td>3361.014</td></tr><tr><td>23357</td><td>136141</td><td>52.105</td><td>5.180</td><td>2023-07-31 21:00:00 UTC</td><td>2023-07-31 06:00:00 UTC</td><td>3.786</td><td>6.091</td><td>7.369</td><td>290.165</td><td>289.579</td><td>100077.870</td><td>100024.500</td><td>0.963</td><td>0.000</td><td>0.000</td><td>0.994</td><td>3085.419</td></tr><tr><td>23358</td><td>136141</td><td>52.105</td><td>5.180</td><td>2023-07-31 22:00:00 UTC</td><td>2023-07-31 06:00:00 UTC</td><td>3.309</td><td>5.911</td><td>7.048</td><td>289.522</td><td>289.035</td><td>100062.375</td><td>100009.875</td><td>0.969</td><td>0.000</td><td>0.000</td><td>0.998</td><td>2684.711</td></tr><tr><td>23359</td><td>136141</td><td>52.105</td><td>5.180</td><td>2023-07-31 23:00:00 UTC</td><td>2023-07-31 06:00:00 UTC</td><td>2.951</td><td>5.440</td><td>6.102</td><td>289.605</td><td>288.903</td><td>100006.060</td><td>99952.875</td><td>0.955</td><td>0.000</td><td>0.000</td><td>0.987</td><td>3740.161</td></tr></tbody></table></div>"
      ],
      "text/plain": [
       "shape: (2_928, 18)\n",
       "┌───────┬────────────┬──────────┬───────────┬───┬────────────┬────────────┬────────────┬───────────┐\n",
       "│       ┆ grid_point ┆ latitude ┆ longitude ┆ … ┆ rain_insta ┆ grad_accum ┆ tcc_instan ┆ vis_insta │\n",
       "│ ---   ┆ ---        ┆ ---      ┆ ---       ┆   ┆ nt_ground_ ┆ _ground_0m ┆ t_ground_0 ┆ nt_ground │\n",
       "│ i64   ┆ i64        ┆ f64      ┆ f64       ┆   ┆ 0m         ┆ ---        ┆ m          ┆ _0m       │\n",
       "│       ┆            ┆          ┆           ┆   ┆ ---        ┆ f64        ┆ ---        ┆ ---       │\n",
       "│       ┆            ┆          ┆           ┆   ┆ f64        ┆            ┆ f64        ┆ f64       │\n",
       "╞═══════╪════════════╪══════════╪═══════════╪═══╪════════════╪════════════╪════════════╪═══════════╡\n",
       "│ 65    ┆ 136141     ┆ 52.105   ┆ 5.180     ┆ … ┆ 0.000      ┆ 0.000      ┆ 1.000      ┆ 2831.144  │\n",
       "│ 66    ┆ 136141     ┆ 52.105   ┆ 5.180     ┆ … ┆ 0.000      ┆ 0.000      ┆ 1.000      ┆ 3154.285  │\n",
       "│ 67    ┆ 136141     ┆ 52.105   ┆ 5.180     ┆ … ┆ 0.000      ┆ 0.000      ┆ 1.000      ┆ 2558.175  │\n",
       "│ 68    ┆ 136141     ┆ 52.105   ┆ 5.180     ┆ … ┆ 0.000      ┆ 0.000      ┆ 1.000      ┆ 2374.903  │\n",
       "│ 69    ┆ 136141     ┆ 52.105   ┆ 5.180     ┆ … ┆ 0.000      ┆ 0.000      ┆ 1.000      ┆ 2021.720  │\n",
       "│ …     ┆ …          ┆ …        ┆ …         ┆ … ┆ …          ┆ …          ┆ …          ┆ …         │\n",
       "│ 23355 ┆ 136141     ┆ 52.105   ┆ 5.180     ┆ … ┆ 0.000      ┆ 25900.188  ┆ 1.000      ┆ 3104.548  │\n",
       "│ 23356 ┆ 136141     ┆ 52.105   ┆ 5.180     ┆ … ┆ 0.000      ┆ 890.438    ┆ 1.000      ┆ 3361.014  │\n",
       "│ 23357 ┆ 136141     ┆ 52.105   ┆ 5.180     ┆ … ┆ 0.000      ┆ 0.000      ┆ 0.994      ┆ 3085.419  │\n",
       "│ 23358 ┆ 136141     ┆ 52.105   ┆ 5.180     ┆ … ┆ 0.000      ┆ 0.000      ┆ 0.998      ┆ 2684.711  │\n",
       "│ 23359 ┆ 136141     ┆ 52.105   ┆ 5.180     ┆ … ┆ 0.000      ┆ 0.000      ┆ 0.987      ┆ 3740.161  │\n",
       "└───────┴────────────┴──────────┴───────────┴───┴────────────┴────────────┴────────────┴───────────┘"
      ]
     },
     "execution_count": 106,
     "metadata": {},
     "output_type": "execute_result"
    }
   ],
   "source": [
    "weather_df = pl.read_csv('../2023_weather_data_06_run_summer.csv', try_parse_dates=True).sort('valid_datetime')\n",
    "weather_df"
   ]
  },
  {
   "cell_type": "code",
   "execution_count": 112,
   "metadata": {},
   "outputs": [
    {
     "data": {
      "text/html": [
       "<div><style>\n",
       ".dataframe > thead > tr,\n",
       ".dataframe > tbody > tr {\n",
       "  text-align: right;\n",
       "  white-space: pre-wrap;\n",
       "}\n",
       "</style>\n",
       "<small>shape: (721, 5)</small><table border=\"1\" class=\"dataframe\"><thead><tr><th>valid_datetime</th><th>wind_speed_10m</th><th>t_instant_ground_2m</th><th>grad_accum_ground_0m</th><th>rain_instant_ground_0m</th></tr><tr><td>datetime[μs, UTC]</td><td>f64</td><td>f64</td><td>f64</td><td>f64</td></tr></thead><tbody><tr><td>2023-05-31 21:00:00 UTC</td><td>3.395</td><td>286.402</td><td>0.000</td><td>0.000</td></tr><tr><td>2023-05-31 22:00:00 UTC</td><td>3.272</td><td>285.211</td><td>0.000</td><td>0.000</td></tr><tr><td>2023-05-31 23:00:00 UTC</td><td>3.228</td><td>284.058</td><td>0.000</td><td>0.000</td></tr><tr><td>2023-06-01 00:00:00 UTC</td><td>3.781</td><td>283.004</td><td>0.000</td><td>0.000</td></tr><tr><td>2023-06-01 01:00:00 UTC</td><td>5.045</td><td>282.491</td><td>0.000</td><td>0.000</td></tr><tr><td>&hellip;</td><td>&hellip;</td><td>&hellip;</td><td>&hellip;</td><td>&hellip;</td></tr><tr><td>2023-06-30 17:00:00 UTC</td><td>5.386</td><td>293.910</td><td>981618.000</td><td>0.000</td></tr><tr><td>2023-06-30 18:00:00 UTC</td><td>5.033</td><td>292.802</td><td>560510.000</td><td>0.000</td></tr><tr><td>2023-06-30 19:00:00 UTC</td><td>3.464</td><td>291.652</td><td>104576.000</td><td>0.000</td></tr><tr><td>2023-06-30 20:00:00 UTC</td><td>2.957</td><td>290.827</td><td>20897.000</td><td>0.000</td></tr><tr><td>2023-06-30 21:00:00 UTC</td><td>2.472</td><td>290.197</td><td>-366.000</td><td>0.000</td></tr></tbody></table></div>"
      ],
      "text/plain": [
       "shape: (721, 5)\n",
       "┌────────────────────┬────────────────┬────────────────────┬───────────────────┬───────────────────┐\n",
       "│ valid_datetime     ┆ wind_speed_10m ┆ t_instant_ground_2 ┆ grad_accum_ground ┆ rain_instant_grou │\n",
       "│ ---                ┆ ---            ┆ m                  ┆ _0m               ┆ nd_0m             │\n",
       "│ datetime[μs, UTC]  ┆ f64            ┆ ---                ┆ ---               ┆ ---               │\n",
       "│                    ┆                ┆ f64                ┆ f64               ┆ f64               │\n",
       "╞════════════════════╪════════════════╪════════════════════╪═══════════════════╪═══════════════════╡\n",
       "│ 2023-05-31         ┆ 3.395          ┆ 286.402            ┆ 0.000             ┆ 0.000             │\n",
       "│ 21:00:00 UTC       ┆                ┆                    ┆                   ┆                   │\n",
       "│ 2023-05-31         ┆ 3.272          ┆ 285.211            ┆ 0.000             ┆ 0.000             │\n",
       "│ 22:00:00 UTC       ┆                ┆                    ┆                   ┆                   │\n",
       "│ 2023-05-31         ┆ 3.228          ┆ 284.058            ┆ 0.000             ┆ 0.000             │\n",
       "│ 23:00:00 UTC       ┆                ┆                    ┆                   ┆                   │\n",
       "│ 2023-06-01         ┆ 3.781          ┆ 283.004            ┆ 0.000             ┆ 0.000             │\n",
       "│ 00:00:00 UTC       ┆                ┆                    ┆                   ┆                   │\n",
       "│ 2023-06-01         ┆ 5.045          ┆ 282.491            ┆ 0.000             ┆ 0.000             │\n",
       "│ 01:00:00 UTC       ┆                ┆                    ┆                   ┆                   │\n",
       "│ …                  ┆ …              ┆ …                  ┆ …                 ┆ …                 │\n",
       "│ 2023-06-30         ┆ 5.386          ┆ 293.910            ┆ 981618.000        ┆ 0.000             │\n",
       "│ 17:00:00 UTC       ┆                ┆                    ┆                   ┆                   │\n",
       "│ 2023-06-30         ┆ 5.033          ┆ 292.802            ┆ 560510.000        ┆ 0.000             │\n",
       "│ 18:00:00 UTC       ┆                ┆                    ┆                   ┆                   │\n",
       "│ 2023-06-30         ┆ 3.464          ┆ 291.652            ┆ 104576.000        ┆ 0.000             │\n",
       "│ 19:00:00 UTC       ┆                ┆                    ┆                   ┆                   │\n",
       "│ 2023-06-30         ┆ 2.957          ┆ 290.827            ┆ 20897.000         ┆ 0.000             │\n",
       "│ 20:00:00 UTC       ┆                ┆                    ┆                   ┆                   │\n",
       "│ 2023-06-30         ┆ 2.472          ┆ 290.197            ┆ -366.000          ┆ 0.000             │\n",
       "│ 21:00:00 UTC       ┆                ┆                    ┆                   ┆                   │\n",
       "└────────────────────┴────────────────┴────────────────────┴───────────────────┴───────────────────┘"
      ]
     },
     "execution_count": 112,
     "metadata": {},
     "output_type": "execute_result"
    }
   ],
   "source": [
    "selected_weather = weather_df.filter((pl.col('valid_datetime') <= max_date) & (pl.col('valid_datetime') >= min_date)).select(\n",
    "    pl.col('valid_datetime'), pl.col('wind_speed_10m'), pl.col('t_instant_ground_2m'),  pl.col('grad_accum_ground_0m'),  pl.col('rain_instant_ground_0m')\n",
    ")\n",
    "selected_weather"
   ]
  },
  {
   "cell_type": "code",
   "execution_count": 113,
   "metadata": {},
   "outputs": [
    {
     "data": {},
     "metadata": {},
     "output_type": "display_data"
    },
    {
     "data": {
      "application/vnd.holoviews_exec.v0+json": "",
      "text/html": [
       "<div id='p1382'>\n",
       "  <div id=\"b4c65859-7c76-4b9a-8c42-55e2a9e1c599\" data-root-id=\"p1382\" style=\"display: contents;\"></div>\n",
       "</div>\n",
       "<script type=\"application/javascript\">(function(root) {\n",
       "  var docs_json = {\"06fc8569-6fb4-4eab-a7d8-c127b8f161c3\":{\"version\":\"3.4.0\",\"title\":\"Bokeh Application\",\"roots\":[{\"type\":\"object\",\"name\":\"Row\",\"id\":\"p1382\",\"attributes\":{\"name\":\"Row01687\",\"tags\":[\"embedded\"],\"stylesheets\":[\"\\n:host(.pn-loading):before, .pn-loading:before {\\n  background-color: #c3c3c3;\\n  mask-size: auto calc(min(50%, 400px));\\n  -webkit-mask-size: auto calc(min(50%, 400px));\\n}\",{\"type\":\"object\",\"name\":\"ImportedStyleSheet\",\"id\":\"p1385\",\"attributes\":{\"url\":\"https://cdn.holoviz.org/panel/1.4.0/dist/css/loading.css\"}},{\"type\":\"object\",\"name\":\"ImportedStyleSheet\",\"id\":\"p1494\",\"attributes\":{\"url\":\"https://cdn.holoviz.org/panel/1.4.0/dist/css/listpanel.css\"}},{\"type\":\"object\",\"name\":\"ImportedStyleSheet\",\"id\":\"p1383\",\"attributes\":{\"url\":\"https://cdn.holoviz.org/panel/1.4.0/dist/bundled/theme/default.css\"}},{\"type\":\"object\",\"name\":\"ImportedStyleSheet\",\"id\":\"p1384\",\"attributes\":{\"url\":\"https://cdn.holoviz.org/panel/1.4.0/dist/bundled/theme/native.css\"}}],\"min_width\":700,\"margin\":0,\"sizing_mode\":\"stretch_width\",\"align\":\"start\",\"children\":[{\"type\":\"object\",\"name\":\"Spacer\",\"id\":\"p1386\",\"attributes\":{\"name\":\"HSpacer01694\",\"stylesheets\":[\"\\n:host(.pn-loading):before, .pn-loading:before {\\n  background-color: #c3c3c3;\\n  mask-size: auto calc(min(50%, 400px));\\n  -webkit-mask-size: auto calc(min(50%, 400px));\\n}\",{\"id\":\"p1385\"},{\"id\":\"p1383\"},{\"id\":\"p1384\"}],\"margin\":0,\"sizing_mode\":\"stretch_width\",\"align\":\"start\"}},{\"type\":\"object\",\"name\":\"Figure\",\"id\":\"p1403\",\"attributes\":{\"width\":700,\"height\":300,\"margin\":[5,10],\"sizing_mode\":\"fixed\",\"align\":\"start\",\"x_range\":{\"type\":\"object\",\"name\":\"Range1d\",\"id\":\"p1387\",\"attributes\":{\"tags\":[[[\"index\",\"index\",null]],[]],\"end\":720.0,\"reset_start\":0.0,\"reset_end\":720.0}},\"y_range\":{\"type\":\"object\",\"name\":\"Range1d\",\"id\":\"p1388\",\"attributes\":{\"tags\":[[[\"value\",\"value\",null]],{\"type\":\"map\",\"entries\":[[\"invert_yaxis\",false],[\"autorange\",false]]}],\"start\":-316964.0125,\"end\":3480803.6375,\"reset_start\":-316964.0125,\"reset_end\":3480803.6375}},\"x_scale\":{\"type\":\"object\",\"name\":\"LinearScale\",\"id\":\"p1413\"},\"y_scale\":{\"type\":\"object\",\"name\":\"LinearScale\",\"id\":\"p1414\"},\"title\":{\"type\":\"object\",\"name\":\"Title\",\"id\":\"p1406\",\"attributes\":{\"text_color\":\"black\",\"text_font_size\":\"12pt\"}},\"renderers\":[{\"type\":\"object\",\"name\":\"GlyphRenderer\",\"id\":\"p1443\",\"attributes\":{\"name\":\"wind_speed_10m\",\"data_source\":{\"type\":\"object\",\"name\":\"ColumnDataSource\",\"id\":\"p1434\",\"attributes\":{\"selected\":{\"type\":\"object\",\"name\":\"Selection\",\"id\":\"p1435\",\"attributes\":{\"indices\":[],\"line_indices\":[]}},\"selection_policy\":{\"type\":\"object\",\"name\":\"UnionRenderers\",\"id\":\"p1436\"},\"data\":{\"type\":\"map\",\"entries\":[[\"index\",{\"type\":\"ndarray\",\"array\":{\"type\":\"bytes\",\"data\":\"AAAAAAEAAAACAAAAAwAAAAQAAAAFAAAABgAAAAcAAAAIAAAACQAAAAoAAAALAAAADAAAAA0AAAAOAAAADwAAABAAAAARAAAAEgAAABMAAAAUAAAAFQAAABYAAAAXAAAAGAAAABkAAAAaAAAAGwAAABwAAAAdAAAAHgAAAB8AAAAgAAAAIQAAACIAAAAjAAAAJAAAACUAAAAmAAAAJwAAACgAAAApAAAAKgAAACsAAAAsAAAALQAAAC4AAAAvAAAAMAAAADEAAAAyAAAAMwAAADQAAAA1AAAANgAAADcAAAA4AAAAOQAAADoAAAA7AAAAPAAAAD0AAAA+AAAAPwAAAEAAAABBAAAAQgAAAEMAAABEAAAARQAAAEYAAABHAAAASAAAAEkAAABKAAAASwAAAEwAAABNAAAATgAAAE8AAABQAAAAUQAAAFIAAABTAAAAVAAAAFUAAABWAAAAVwAAAFgAAABZAAAAWgAAAFsAAABcAAAAXQAAAF4AAABfAAAAYAAAAGEAAABiAAAAYwAAAGQAAABlAAAAZgAAAGcAAABoAAAAaQAAAGoAAABrAAAAbAAAAG0AAABuAAAAbwAAAHAAAABxAAAAcgAAAHMAAAB0AAAAdQAAAHYAAAB3AAAAeAAAAHkAAAB6AAAAewAAAHwAAAB9AAAAfgAAAH8AAACAAAAAgQAAAIIAAACDAAAAhAAAAIUAAACGAAAAhwAAAIgAAACJAAAAigAAAIsAAACMAAAAjQAAAI4AAACPAAAAkAAAAJEAAACSAAAAkwAAAJQAAACVAAAAlgAAAJcAAACYAAAAmQAAAJoAAACbAAAAnAAAAJ0AAACeAAAAnwAAAKAAAAChAAAAogAAAKMAAACkAAAApQAAAKYAAACnAAAAqAAAAKkAAACqAAAAqwAAAKwAAACtAAAArgAAAK8AAACwAAAAsQAAALIAAACzAAAAtAAAALUAAAC2AAAAtwAAALgAAAC5AAAAugAAALsAAAC8AAAAvQAAAL4AAAC/AAAAwAAAAMEAAADCAAAAwwAAAMQAAADFAAAAxgAAAMcAAADIAAAAyQAAAMoAAADLAAAAzAAAAM0AAADOAAAAzwAAANAAAADRAAAA0gAAANMAAADUAAAA1QAAANYAAADXAAAA2AAAANkAAADaAAAA2wAAANwAAADdAAAA3gAAAN8AAADgAAAA4QAAAOIAAADjAAAA5AAAAOUAAADmAAAA5wAAAOgAAADpAAAA6gAAAOsAAADsAAAA7QAAAO4AAADvAAAA8AAAAPEAAADyAAAA8wAAAPQAAAD1AAAA9gAAAPcAAAD4AAAA+QAAAPoAAAD7AAAA/AAAAP0AAAD+AAAA/wAAAAABAAABAQAAAgEAAAMBAAAEAQAABQEAAAYBAAAHAQAACAEAAAkBAAAKAQAACwEAAAwBAAANAQAADgEAAA8BAAAQAQAAEQEAABIBAAATAQAAFAEAABUBAAAWAQAAFwEAABgBAAAZAQAAGgEAABsBAAAcAQAAHQEAAB4BAAAfAQAAIAEAACEBAAAiAQAAIwEAACQBAAAlAQAAJgEAACcBAAAoAQAAKQEAACoBAAArAQAALAEAAC0BAAAuAQAALwEAADABAAAxAQAAMgEAADMBAAA0AQAANQEAADYBAAA3AQAAOAEAADkBAAA6AQAAOwEAADwBAAA9AQAAPgEAAD8BAABAAQAAQQEAAEIBAABDAQAARAEAAEUBAABGAQAARwEAAEgBAABJAQAASgEAAEsBAABMAQAATQEAAE4BAABPAQAAUAEAAFEBAABSAQAAUwEAAFQBAABVAQAAVgEAAFcBAABYAQAAWQEAAFoBAABbAQAAXAEAAF0BAABeAQAAXwEAAGABAABhAQAAYgEAAGMBAABkAQAAZQEAAGYBAABnAQAAaAEAAGkBAABqAQAAawEAAGwBAABtAQAAbgEAAG8BAABwAQAAcQEAAHIBAABzAQAAdAEAAHUBAAB2AQAAdwEAAHgBAAB5AQAAegEAAHsBAAB8AQAAfQEAAH4BAAB/AQAAgAEAAIEBAACCAQAAgwEAAIQBAACFAQAAhgEAAIcBAACIAQAAiQEAAIoBAACLAQAAjAEAAI0BAACOAQAAjwEAAJABAACRAQAAkgEAAJMBAACUAQAAlQEAAJYBAACXAQAAmAEAAJkBAACaAQAAmwEAAJwBAACdAQAAngEAAJ8BAACgAQAAoQEAAKIBAACjAQAApAEAAKUBAACmAQAApwEAAKgBAACpAQAAqgEAAKsBAACsAQAArQEAAK4BAACvAQAAsAEAALEBAACyAQAAswEAALQBAAC1AQAAtgEAALcBAAC4AQAAuQEAALoBAAC7AQAAvAEAAL0BAAC+AQAAvwEAAMABAADBAQAAwgEAAMMBAADEAQAAxQEAAMYBAADHAQAAyAEAAMkBAADKAQAAywEAAMwBAADNAQAAzgEAAM8BAADQAQAA0QEAANIBAADTAQAA1AEAANUBAADWAQAA1wEAANgBAADZAQAA2gEAANsBAADcAQAA3QEAAN4BAADfAQAA4AEAAOEBAADiAQAA4wEAAOQBAADlAQAA5gEAAOcBAADoAQAA6QEAAOoBAADrAQAA7AEAAO0BAADuAQAA7wEAAPABAADxAQAA8gEAAPMBAAD0AQAA9QEAAPYBAAD3AQAA+AEAAPkBAAD6AQAA+wEAAPwBAAD9AQAA/gEAAP8BAAAAAgAAAQIAAAICAAADAgAABAIAAAUCAAAGAgAABwIAAAgCAAAJAgAACgIAAAsCAAAMAgAADQIAAA4CAAAPAgAAEAIAABECAAASAgAAEwIAABQCAAAVAgAAFgIAABcCAAAYAgAAGQIAABoCAAAbAgAAHAIAAB0CAAAeAgAAHwIAACACAAAhAgAAIgIAACMCAAAkAgAAJQIAACYCAAAnAgAAKAIAACkCAAAqAgAAKwIAACwCAAAtAgAALgIAAC8CAAAwAgAAMQIAADICAAAzAgAANAIAADUCAAA2AgAANwIAADgCAAA5AgAAOgIAADsCAAA8AgAAPQIAAD4CAAA/AgAAQAIAAEECAABCAgAAQwIAAEQCAABFAgAARgIAAEcCAABIAgAASQIAAEoCAABLAgAATAIAAE0CAABOAgAATwIAAFACAABRAgAAUgIAAFMCAABUAgAAVQIAAFYCAABXAgAAWAIAAFkCAABaAgAAWwIAAFwCAABdAgAAXgIAAF8CAABgAgAAYQIAAGICAABjAgAAZAIAAGUCAABmAgAAZwIAAGgCAABpAgAAagIAAGsCAABsAgAAbQIAAG4CAABvAgAAcAIAAHECAAByAgAAcwIAAHQCAAB1AgAAdgIAAHcCAAB4AgAAeQIAAHoCAAB7AgAAfAIAAH0CAAB+AgAAfwIAAIACAACBAgAAggIAAIMCAACEAgAAhQIAAIYCAACHAgAAiAIAAIkCAACKAgAAiwIAAIwCAACNAgAAjgIAAI8CAACQAgAAkQIAAJICAACTAgAAlAIAAJUCAACWAgAAlwIAAJgCAACZAgAAmgIAAJsCAACcAgAAnQIAAJ4CAACfAgAAoAIAAKECAACiAgAAowIAAKQCAAClAgAApgIAAKcCAACoAgAAqQIAAKoCAACrAgAArAIAAK0CAACuAgAArwIAALACAACxAgAAsgIAALMCAAC0AgAAtQIAALYCAAC3AgAAuAIAALkCAAC6AgAAuwIAALwCAAC9AgAAvgIAAL8CAADAAgAAwQIAAMICAADDAgAAxAIAAMUCAADGAgAAxwIAAMgCAADJAgAAygIAAMsCAADMAgAAzQIAAM4CAADPAgAA0AIAAA==\"},\"shape\":[721],\"dtype\":\"int32\",\"order\":\"little\"}],[\"value\",{\"type\":\"ndarray\",\"array\":{\"type\":\"bytes\",\"data\":\"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\"},\"shape\":[721],\"dtype\":\"float64\",\"order\":\"little\"}],[\"Variable\",[\"wind_speed_10m\",\"wind_speed_10m\",\"wind_speed_10m\",\"wind_speed_10m\",\"wind_speed_10m\",\"wind_speed_10m\",\"wind_speed_10m\",\"wind_speed_10m\",\"wind_speed_10m\",\"wind_speed_10m\",\"wind_speed_10m\",\"wind_speed_10m\",\"wind_speed_10m\",\"wind_speed_10m\",\"wind_speed_10m\",\"wind_speed_10m\",\"wind_speed_10m\",\"wind_speed_10m\",\"wind_speed_10m\",\"wind_speed_10m\",\"wind_speed_10m\",\"wind_speed_10m\",\"wind_speed_10m\",\"wind_speed_10m\",\"wind_speed_10m\",\"wind_speed_10m\",\"wind_speed_10m\",\"wind_speed_10m\",\"wind_speed_10m\",\"wind_speed_10m\",\"wind_speed_10m\",\"wind_speed_10m\",\"wind_speed_10m\",\"wind_speed_10m\",\"wind_speed_10m\",\"wind_speed_10m\",\"wind_speed_10m\",\"wind_speed_10m\",\"wind_speed_10m\",\"wind_speed_10m\",\"wind_speed_10m\",\"wind_speed_10m\",\"wind_speed_10m\",\"wind_speed_10m\",\"wind_speed_10m\",\"wind_speed_10m\",\"wind_speed_10m\",\"wind_speed_10m\",\"wind_speed_10m\",\"wind_speed_10m\",\"wind_speed_10m\",\"wind_speed_10m\",\"wind_speed_10m\",\"wind_speed_10m\",\"wind_speed_10m\",\"wind_speed_10m\",\"wind_speed_10m\",\"wind_speed_10m\",\"wind_speed_10m\",\"wind_speed_10m\",\"wind_speed_10m\",\"wind_speed_10m\",\"wind_speed_10m\",\"wind_speed_10m\",\"wind_speed_10m\",\"wind_speed_10m\",\"wind_speed_10m\",\"wind_speed_10m\",\"wind_speed_10m\",\"wind_speed_10m\",\"wind_speed_10m\",\"wind_speed_10m\",\"wind_speed_10m\",\"wind_speed_10m\",\"wind_speed_10m\",\"wind_speed_10m\",\"wind_speed_10m\",\"wind_speed_10m\",\"wind_speed_10m\",\"wind_speed_10m\",\"wind_speed_10m\",\"wind_speed_10m\",\"wind_speed_10m\",\"wind_speed_10m\",\"wind_speed_10m\",\"wind_speed_10m\",\"wind_speed_10m\",\"wind_speed_10m\",\"wind_speed_10m\",\"wind_speed_10m\",\"wind_speed_10m\",\"wind_speed_10m\",\"wind_speed_10m\",\"wind_speed_10m\",\"wind_speed_10m\",\"wind_speed_10m\",\"wind_speed_10m\",\"wind_speed_10m\",\"wind_speed_10m\",\"wind_speed_10m\",\"wind_speed_10m\",\"wind_speed_10m\",\"wind_speed_10m\",\"wind_speed_10m\",\"wind_speed_10m\",\"wind_speed_10m\",\"wind_speed_10m\",\"wind_speed_10m\",\"wind_speed_10m\",\"wind_speed_10m\",\"wind_speed_10m\",\"wind_speed_10m\",\"wind_speed_10m\",\"wind_speed_10m\",\"wind_speed_10m\",\"wind_speed_10m\",\"wind_speed_10m\",\"wind_speed_10m\",\"wind_speed_10m\",\"wind_speed_10m\",\"wind_speed_10m\",\"wind_speed_10m\",\"wind_speed_10m\",\"wind_speed_10m\",\"wind_speed_10m\",\"wind_speed_10m\",\"wind_speed_10m\",\"wind_speed_10m\",\"wind_speed_10m\",\"wind_speed_10m\",\"wind_speed_10m\",\"wind_speed_10m\",\"wind_speed_10m\",\"wind_speed_10m\",\"wind_speed_10m\",\"wind_speed_10m\",\"wind_speed_10m\",\"wind_speed_10m\",\"wind_speed_10m\",\"wind_speed_10m\",\"wind_speed_10m\",\"wind_speed_10m\",\"wind_speed_10m\",\"wind_speed_10m\",\"wind_speed_10m\",\"wind_speed_10m\",\"wind_speed_10m\",\"wind_speed_10m\",\"wind_speed_10m\",\"wind_speed_10m\",\"wind_speed_10m\",\"wind_speed_10m\",\"wind_speed_10m\",\"wind_speed_10m\",\"wind_speed_10m\",\"wind_speed_10m\",\"wind_speed_10m\",\"wind_speed_10m\",\"wind_speed_10m\",\"wind_speed_10m\",\"wind_speed_10m\",\"wind_speed_10m\",\"wind_speed_10m\",\"wind_speed_10m\",\"wind_speed_10m\",\"wind_speed_10m\",\"wind_speed_10m\",\"wind_speed_10m\",\"wind_speed_10m\",\"wind_speed_10m\",\"wind_speed_10m\",\"wind_speed_10m\",\"wind_speed_10m\",\"wind_speed_10m\",\"wind_speed_10m\",\"wind_speed_10m\",\"wind_speed_10m\",\"wind_speed_10m\",\"wind_speed_10m\",\"wind_speed_10m\",\"wind_speed_10m\",\"wind_speed_10m\",\"wind_speed_10m\",\"wind_speed_10m\",\"wind_speed_10m\",\"wind_speed_10m\",\"wind_speed_10m\",\"wind_speed_10m\",\"wind_speed_10m\",\"wind_speed_10m\",\"wind_speed_10m\",\"wind_speed_10m\",\"wind_speed_10m\",\"wind_speed_10m\",\"wind_speed_10m\",\"wind_speed_10m\",\"wind_speed_10m\",\"wind_speed_10m\",\"wind_speed_10m\",\"wind_speed_10m\",\"wind_speed_10m\",\"wind_speed_10m\",\"wind_speed_10m\",\"wind_speed_10m\",\"wind_speed_10m\",\"wind_speed_10m\",\"wind_speed_10m\",\"wind_speed_10m\",\"wind_speed_10m\",\"wind_speed_10m\",\"wind_speed_10m\",\"wind_speed_10m\",\"wind_speed_10m\",\"wind_speed_10m\",\"wind_speed_10m\",\"wind_speed_10m\",\"wind_speed_10m\",\"wind_speed_10m\",\"wind_speed_10m\",\"wind_speed_10m\",\"wind_speed_10m\",\"wind_speed_10m\",\"wind_speed_10m\",\"wind_speed_10m\",\"wind_speed_10m\",\"wind_speed_10m\",\"wind_speed_10m\",\"wind_speed_10m\",\"wind_speed_10m\",\"wind_speed_10m\",\"wind_speed_10m\",\"wind_speed_10m\",\"wind_speed_10m\",\"wind_speed_10m\",\"wind_speed_10m\",\"wind_speed_10m\",\"wind_speed_10m\",\"wind_speed_10m\",\"wind_speed_10m\",\"wind_speed_10m\",\"wind_speed_10m\",\"wind_speed_10m\",\"wind_speed_10m\",\"wind_speed_10m\",\"wind_speed_10m\",\"wind_speed_10m\",\"wind_speed_10m\",\"wind_speed_10m\",\"wind_speed_10m\",\"wind_speed_10m\",\"wind_speed_10m\",\"wind_speed_10m\",\"wind_speed_10m\",\"wind_speed_10m\",\"wind_speed_10m\",\"wind_speed_10m\",\"wind_speed_10m\",\"wind_speed_10m\",\"wind_speed_10m\",\"wind_speed_10m\",\"wind_speed_10m\",\"wind_speed_10m\",\"wind_speed_10m\",\"wind_speed_10m\",\"wind_speed_10m\",\"wind_speed_10m\",\"wind_speed_10m\",\"wind_speed_10m\",\"wind_speed_10m\",\"wind_speed_10m\",\"wind_speed_10m\",\"wind_speed_10m\",\"wind_speed_10m\",\"wind_speed_10m\",\"wind_speed_10m\",\"wind_speed_10m\",\"wind_speed_10m\",\"wind_speed_10m\",\"wind_speed_10m\",\"wind_speed_10m\",\"wind_speed_10m\",\"wind_speed_10m\",\"wind_speed_10m\",\"wind_speed_10m\",\"wind_speed_10m\",\"wind_speed_10m\",\"wind_speed_10m\",\"wind_speed_10m\",\"wind_speed_10m\",\"wind_speed_10m\",\"wind_speed_10m\",\"wind_speed_10m\",\"wind_speed_10m\",\"wind_speed_10m\",\"wind_speed_10m\",\"wind_speed_10m\",\"wind_speed_10m\",\"wind_speed_10m\",\"wind_speed_10m\",\"wind_speed_10m\",\"wind_speed_10m\",\"wind_speed_10m\",\"wind_speed_10m\",\"wind_speed_10m\",\"wind_speed_10m\",\"wind_speed_10m\",\"wind_speed_10m\",\"wind_speed_10m\",\"wind_speed_10m\",\"wind_speed_10m\",\"wind_speed_10m\",\"wind_speed_10m\",\"wind_speed_10m\",\"wind_speed_10m\",\"wind_speed_10m\",\"wind_speed_10m\",\"wind_speed_10m\",\"wind_speed_10m\",\"wind_speed_10m\",\"wind_speed_10m\",\"wind_speed_10m\",\"wind_speed_10m\",\"wind_speed_10m\",\"wind_speed_10m\",\"wind_speed_10m\",\"wind_speed_10m\",\"wind_speed_10m\",\"wind_speed_10m\",\"wind_speed_10m\",\"wind_speed_10m\",\"wind_speed_10m\",\"wind_speed_10m\",\"wind_speed_10m\",\"wind_speed_10m\",\"wind_speed_10m\",\"wind_speed_10m\",\"wind_speed_10m\",\"wind_speed_10m\",\"wind_speed_10m\",\"wind_speed_10m\",\"wind_speed_10m\",\"wind_speed_10m\",\"wind_speed_10m\",\"wind_speed_10m\",\"wind_speed_10m\",\"wind_speed_10m\",\"wind_speed_10m\",\"wind_speed_10m\",\"wind_speed_10m\",\"wind_speed_10m\",\"wind_speed_10m\",\"wind_speed_10m\",\"wind_speed_10m\",\"wind_speed_10m\",\"wind_speed_10m\",\"wind_speed_10m\",\"wind_speed_10m\",\"wind_speed_10m\",\"wind_speed_10m\",\"wind_speed_10m\",\"wind_speed_10m\",\"wind_speed_10m\",\"wind_speed_10m\",\"wind_speed_10m\",\"wind_speed_10m\",\"wind_speed_10m\",\"wind_speed_10m\",\"wind_speed_10m\",\"wind_speed_10m\",\"wind_speed_10m\",\"wind_speed_10m\",\"wind_speed_10m\",\"wind_speed_10m\",\"wind_speed_10m\",\"wind_speed_10m\",\"wind_speed_10m\",\"wind_speed_10m\",\"wind_speed_10m\",\"wind_speed_10m\",\"wind_speed_10m\",\"wind_speed_10m\",\"wind_speed_10m\",\"wind_speed_10m\",\"wind_speed_10m\",\"wind_speed_10m\",\"wind_speed_10m\",\"wind_speed_10m\",\"wind_speed_10m\",\"wind_speed_10m\",\"wind_speed_10m\",\"wind_speed_10m\",\"wind_speed_10m\",\"wind_speed_10m\",\"wind_speed_10m\",\"wind_speed_10m\",\"wind_speed_10m\",\"wind_speed_10m\",\"wind_speed_10m\",\"wind_speed_10m\",\"wind_speed_10m\",\"wind_speed_10m\",\"wind_speed_10m\",\"wind_speed_10m\",\"wind_speed_10m\",\"wind_speed_10m\",\"wind_speed_10m\",\"wind_speed_10m\",\"wind_speed_10m\",\"wind_speed_10m\",\"wind_speed_10m\",\"wind_speed_10m\",\"wind_speed_10m\",\"wind_speed_10m\",\"wind_speed_10m\",\"wind_speed_10m\",\"wind_speed_10m\",\"wind_speed_10m\",\"wind_speed_10m\",\"wind_speed_10m\",\"wind_speed_10m\",\"wind_speed_10m\",\"wind_speed_10m\",\"wind_speed_10m\",\"wind_speed_10m\",\"wind_speed_10m\",\"wind_speed_10m\",\"wind_speed_10m\",\"wind_speed_10m\",\"wind_speed_10m\",\"wind_speed_10m\",\"wind_speed_10m\",\"wind_speed_10m\",\"wind_speed_10m\",\"wind_speed_10m\",\"wind_speed_10m\",\"wind_speed_10m\",\"wind_speed_10m\",\"wind_speed_10m\",\"wind_speed_10m\",\"wind_speed_10m\",\"wind_speed_10m\",\"wind_speed_10m\",\"wind_speed_10m\",\"wind_speed_10m\",\"wind_speed_10m\",\"wind_speed_10m\",\"wind_speed_10m\",\"wind_speed_10m\",\"wind_speed_10m\",\"wind_speed_10m\",\"wind_speed_10m\",\"wind_speed_10m\",\"wind_speed_10m\",\"wind_speed_10m\",\"wind_speed_10m\",\"wind_speed_10m\",\"wind_speed_10m\",\"wind_speed_10m\",\"wind_speed_10m\",\"wind_speed_10m\",\"wind_speed_10m\",\"wind_speed_10m\",\"wind_speed_10m\",\"wind_speed_10m\",\"wind_speed_10m\",\"wind_speed_10m\",\"wind_speed_10m\",\"wind_speed_10m\",\"wind_speed_10m\",\"wind_speed_10m\",\"wind_speed_10m\",\"wind_speed_10m\",\"wind_speed_10m\",\"wind_speed_10m\",\"wind_speed_10m\",\"wind_speed_10m\",\"wind_speed_10m\",\"wind_speed_10m\",\"wind_speed_10m\",\"wind_speed_10m\",\"wind_speed_10m\",\"wind_speed_10m\",\"wind_speed_10m\",\"wind_speed_10m\",\"wind_speed_10m\",\"wind_speed_10m\",\"wind_speed_10m\",\"wind_speed_10m\",\"wind_speed_10m\",\"wind_speed_10m\",\"wind_speed_10m\",\"wind_speed_10m\",\"wind_speed_10m\",\"wind_speed_10m\",\"wind_speed_10m\",\"wind_speed_10m\",\"wind_speed_10m\",\"wind_speed_10m\",\"wind_speed_10m\",\"wind_speed_10m\",\"wind_speed_10m\",\"wind_speed_10m\",\"wind_speed_10m\",\"wind_speed_10m\",\"wind_speed_10m\",\"wind_speed_10m\",\"wind_speed_10m\",\"wind_speed_10m\",\"wind_speed_10m\",\"wind_speed_10m\",\"wind_speed_10m\",\"wind_speed_10m\",\"wind_speed_10m\",\"wind_speed_10m\",\"wind_speed_10m\",\"wind_speed_10m\",\"wind_speed_10m\",\"wind_speed_10m\",\"wind_speed_10m\",\"wind_speed_10m\",\"wind_speed_10m\",\"wind_speed_10m\",\"wind_speed_10m\",\"wind_speed_10m\",\"wind_speed_10m\",\"wind_speed_10m\",\"wind_speed_10m\",\"wind_speed_10m\",\"wind_speed_10m\",\"wind_speed_10m\",\"wind_speed_10m\",\"wind_speed_10m\",\"wind_speed_10m\",\"wind_speed_10m\",\"wind_speed_10m\",\"wind_speed_10m\",\"wind_speed_10m\",\"wind_speed_10m\",\"wind_speed_10m\",\"wind_speed_10m\",\"wind_speed_10m\",\"wind_speed_10m\",\"wind_speed_10m\",\"wind_speed_10m\",\"wind_speed_10m\",\"wind_speed_10m\",\"wind_speed_10m\",\"wind_speed_10m\",\"wind_speed_10m\",\"wind_speed_10m\",\"wind_speed_10m\",\"wind_speed_10m\",\"wind_speed_10m\",\"wind_speed_10m\",\"wind_speed_10m\",\"wind_speed_10m\",\"wind_speed_10m\",\"wind_speed_10m\",\"wind_speed_10m\",\"wind_speed_10m\",\"wind_speed_10m\",\"wind_speed_10m\",\"wind_speed_10m\",\"wind_speed_10m\",\"wind_speed_10m\",\"wind_speed_10m\",\"wind_speed_10m\",\"wind_speed_10m\",\"wind_speed_10m\",\"wind_speed_10m\",\"wind_speed_10m\",\"wind_speed_10m\",\"wind_speed_10m\",\"wind_speed_10m\",\"wind_speed_10m\",\"wind_speed_10m\",\"wind_speed_10m\",\"wind_speed_10m\",\"wind_speed_10m\",\"wind_speed_10m\",\"wind_speed_10m\",\"wind_speed_10m\",\"wind_speed_10m\",\"wind_speed_10m\",\"wind_speed_10m\",\"wind_speed_10m\",\"wind_speed_10m\",\"wind_speed_10m\",\"wind_speed_10m\",\"wind_speed_10m\",\"wind_speed_10m\",\"wind_speed_10m\",\"wind_speed_10m\",\"wind_speed_10m\",\"wind_speed_10m\",\"wind_speed_10m\",\"wind_speed_10m\",\"wind_speed_10m\",\"wind_speed_10m\",\"wind_speed_10m\",\"wind_speed_10m\",\"wind_speed_10m\",\"wind_speed_10m\",\"wind_speed_10m\",\"wind_speed_10m\",\"wind_speed_10m\",\"wind_speed_10m\",\"wind_speed_10m\",\"wind_speed_10m\",\"wind_speed_10m\",\"wind_speed_10m\",\"wind_speed_10m\",\"wind_speed_10m\",\"wind_speed_10m\",\"wind_speed_10m\",\"wind_speed_10m\",\"wind_speed_10m\",\"wind_speed_10m\",\"wind_speed_10m\",\"wind_speed_10m\",\"wind_speed_10m\",\"wind_speed_10m\",\"wind_speed_10m\",\"wind_speed_10m\",\"wind_speed_10m\",\"wind_speed_10m\",\"wind_speed_10m\",\"wind_speed_10m\",\"wind_speed_10m\",\"wind_speed_10m\",\"wind_speed_10m\",\"wind_speed_10m\",\"wind_speed_10m\",\"wind_speed_10m\",\"wind_speed_10m\",\"wind_speed_10m\",\"wind_speed_10m\",\"wind_speed_10m\",\"wind_speed_10m\",\"wind_speed_10m\",\"wind_speed_10m\",\"wind_speed_10m\",\"wind_speed_10m\",\"wind_speed_10m\",\"wind_speed_10m\",\"wind_speed_10m\",\"wind_speed_10m\",\"wind_speed_10m\",\"wind_speed_10m\",\"wind_speed_10m\",\"wind_speed_10m\",\"wind_speed_10m\",\"wind_speed_10m\",\"wind_speed_10m\",\"wind_speed_10m\",\"wind_speed_10m\",\"wind_speed_10m\",\"wind_speed_10m\",\"wind_speed_10m\",\"wind_speed_10m\",\"wind_speed_10m\",\"wind_speed_10m\",\"wind_speed_10m\",\"wind_speed_10m\",\"wind_speed_10m\",\"wind_speed_10m\",\"wind_speed_10m\",\"wind_speed_10m\",\"wind_speed_10m\",\"wind_speed_10m\",\"wind_speed_10m\",\"wind_speed_10m\",\"wind_speed_10m\",\"wind_speed_10m\",\"wind_speed_10m\",\"wind_speed_10m\",\"wind_speed_10m\",\"wind_speed_10m\",\"wind_speed_10m\",\"wind_speed_10m\",\"wind_speed_10m\",\"wind_speed_10m\",\"wind_speed_10m\",\"wind_speed_10m\",\"wind_speed_10m\",\"wind_speed_10m\",\"wind_speed_10m\",\"wind_speed_10m\",\"wind_speed_10m\",\"wind_speed_10m\",\"wind_speed_10m\",\"wind_speed_10m\",\"wind_speed_10m\",\"wind_speed_10m\",\"wind_speed_10m\",\"wind_speed_10m\",\"wind_speed_10m\",\"wind_speed_10m\",\"wind_speed_10m\",\"wind_speed_10m\",\"wind_speed_10m\",\"wind_speed_10m\",\"wind_speed_10m\",\"wind_speed_10m\",\"wind_speed_10m\",\"wind_speed_10m\",\"wind_speed_10m\",\"wind_speed_10m\",\"wind_speed_10m\",\"wind_speed_10m\",\"wind_speed_10m\",\"wind_speed_10m\",\"wind_speed_10m\",\"wind_speed_10m\",\"wind_speed_10m\",\"wind_speed_10m\",\"wind_speed_10m\",\"wind_speed_10m\",\"wind_speed_10m\",\"wind_speed_10m\",\"wind_speed_10m\"]]]}}},\"view\":{\"type\":\"object\",\"name\":\"CDSView\",\"id\":\"p1444\",\"attributes\":{\"filter\":{\"type\":\"object\",\"name\":\"AllIndices\",\"id\":\"p1445\"}}},\"glyph\":{\"type\":\"object\",\"name\":\"Line\",\"id\":\"p1440\",\"attributes\":{\"tags\":[\"apply_ranges\"],\"x\":{\"type\":\"field\",\"field\":\"index\"},\"y\":{\"type\":\"field\",\"field\":\"value\"},\"line_color\":\"#30a2da\",\"line_width\":2}},\"selection_glyph\":{\"type\":\"object\",\"name\":\"Line\",\"id\":\"p1448\",\"attributes\":{\"tags\":[\"apply_ranges\"],\"x\":{\"type\":\"field\",\"field\":\"index\"},\"y\":{\"type\":\"field\",\"field\":\"value\"},\"line_color\":\"#30a2da\",\"line_width\":2}},\"nonselection_glyph\":{\"type\":\"object\",\"name\":\"Line\",\"id\":\"p1441\",\"attributes\":{\"tags\":[\"apply_ranges\"],\"x\":{\"type\":\"field\",\"field\":\"index\"},\"y\":{\"type\":\"field\",\"field\":\"value\"},\"line_color\":\"#30a2da\",\"line_alpha\":0.1,\"line_width\":2}},\"muted_glyph\":{\"type\":\"object\",\"name\":\"Line\",\"id\":\"p1442\",\"attributes\":{\"tags\":[\"apply_ranges\"],\"x\":{\"type\":\"field\",\"field\":\"index\"},\"y\":{\"type\":\"field\",\"field\":\"value\"},\"line_color\":\"#30a2da\",\"line_alpha\":0.2,\"line_width\":2}}}},{\"type\":\"object\",\"name\":\"GlyphRenderer\",\"id\":\"p1458\",\"attributes\":{\"name\":\"t_instant_ground_2m\",\"data_source\":{\"type\":\"object\",\"name\":\"ColumnDataSource\",\"id\":\"p1449\",\"attributes\":{\"selected\":{\"type\":\"object\",\"name\":\"Selection\",\"id\":\"p1450\",\"attributes\":{\"indices\":[],\"line_indices\":[]}},\"selection_policy\":{\"type\":\"object\",\"name\":\"UnionRenderers\",\"id\":\"p1451\"},\"data\":{\"type\":\"map\",\"entries\":[[\"index\",{\"type\":\"ndarray\",\"array\":{\"type\":\"bytes\",\"data\":\"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\"},\"shape\":[721],\"dtype\":\"int32\",\"order\":\"little\"}],[\"value\",{\"type\":\"ndarray\",\"array\":{\"type\":\"bytes\",\"data\":\"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\"},\"shape\":[721],\"dtype\":\"float64\",\"order\":\"little\"}],[\"Variable\",[\"t_instant_ground_2m\",\"t_instant_ground_2m\",\"t_instant_ground_2m\",\"t_instant_ground_2m\",\"t_instant_ground_2m\",\"t_instant_ground_2m\",\"t_instant_ground_2m\",\"t_instant_ground_2m\",\"t_instant_ground_2m\",\"t_instant_ground_2m\",\"t_instant_ground_2m\",\"t_instant_ground_2m\",\"t_instant_ground_2m\",\"t_instant_ground_2m\",\"t_instant_ground_2m\",\"t_instant_ground_2m\",\"t_instant_ground_2m\",\"t_instant_ground_2m\",\"t_instant_ground_2m\",\"t_instant_ground_2m\",\"t_instant_ground_2m\",\"t_instant_ground_2m\",\"t_instant_ground_2m\",\"t_instant_ground_2m\",\"t_instant_ground_2m\",\"t_instant_ground_2m\",\"t_instant_ground_2m\",\"t_instant_ground_2m\",\"t_instant_ground_2m\",\"t_instant_ground_2m\",\"t_instant_ground_2m\",\"t_instant_ground_2m\",\"t_instant_ground_2m\",\"t_instant_ground_2m\",\"t_instant_ground_2m\",\"t_instant_ground_2m\",\"t_instant_ground_2m\",\"t_instant_ground_2m\",\"t_instant_ground_2m\",\"t_instant_ground_2m\",\"t_instant_ground_2m\",\"t_instant_ground_2m\",\"t_instant_ground_2m\",\"t_instant_ground_2m\",\"t_instant_ground_2m\",\"t_instant_ground_2m\",\"t_instant_ground_2m\",\"t_instant_ground_2m\",\"t_instant_ground_2m\",\"t_instant_ground_2m\",\"t_instant_ground_2m\",\"t_instant_ground_2m\",\"t_instant_ground_2m\",\"t_instant_ground_2m\",\"t_instant_ground_2m\",\"t_instant_ground_2m\",\"t_instant_ground_2m\",\"t_instant_ground_2m\",\"t_instant_ground_2m\",\"t_instant_ground_2m\",\"t_instant_ground_2m\",\"t_instant_ground_2m\",\"t_instant_ground_2m\",\"t_instant_ground_2m\",\"t_instant_ground_2m\",\"t_instant_ground_2m\",\"t_instant_ground_2m\",\"t_instant_ground_2m\",\"t_instant_ground_2m\",\"t_instant_ground_2m\",\"t_instant_ground_2m\",\"t_instant_ground_2m\",\"t_instant_ground_2m\",\"t_instant_ground_2m\",\"t_instant_ground_2m\",\"t_instant_ground_2m\",\"t_instant_ground_2m\",\"t_instant_ground_2m\",\"t_instant_ground_2m\",\"t_instant_ground_2m\",\"t_instant_ground_2m\",\"t_instant_ground_2m\",\"t_instant_ground_2m\",\"t_instant_ground_2m\",\"t_instant_ground_2m\",\"t_instant_ground_2m\",\"t_instant_ground_2m\",\"t_instant_ground_2m\",\"t_instant_ground_2m\",\"t_instant_ground_2m\",\"t_instant_ground_2m\",\"t_instant_ground_2m\",\"t_instant_ground_2m\",\"t_instant_ground_2m\",\"t_instant_ground_2m\",\"t_instant_ground_2m\",\"t_instant_ground_2m\",\"t_instant_ground_2m\",\"t_instant_ground_2m\",\"t_instant_ground_2m\",\"t_instant_ground_2m\",\"t_instant_ground_2m\",\"t_instant_ground_2m\",\"t_instant_ground_2m\",\"t_instant_ground_2m\",\"t_instant_ground_2m\",\"t_instant_ground_2m\",\"t_instant_ground_2m\",\"t_instant_ground_2m\",\"t_instant_ground_2m\",\"t_instant_ground_2m\",\"t_instant_ground_2m\",\"t_instant_ground_2m\",\"t_instant_ground_2m\",\"t_instant_ground_2m\",\"t_instant_ground_2m\",\"t_instant_ground_2m\",\"t_instant_ground_2m\",\"t_instant_ground_2m\",\"t_instant_ground_2m\",\"t_instant_ground_2m\",\"t_instant_ground_2m\",\"t_instant_ground_2m\",\"t_instant_ground_2m\",\"t_instant_ground_2m\",\"t_instant_ground_2m\",\"t_instant_ground_2m\",\"t_instant_ground_2m\",\"t_instant_ground_2m\",\"t_instant_ground_2m\",\"t_instant_ground_2m\",\"t_instant_ground_2m\",\"t_instant_ground_2m\",\"t_instant_ground_2m\",\"t_instant_ground_2m\",\"t_instant_ground_2m\",\"t_instant_ground_2m\",\"t_instant_ground_2m\",\"t_instant_ground_2m\",\"t_instant_ground_2m\",\"t_instant_ground_2m\",\"t_instant_ground_2m\",\"t_instant_ground_2m\",\"t_instant_ground_2m\",\"t_instant_ground_2m\",\"t_instant_ground_2m\",\"t_instant_ground_2m\",\"t_instant_ground_2m\",\"t_instant_ground_2m\",\"t_instant_ground_2m\",\"t_instant_ground_2m\",\"t_instant_ground_2m\",\"t_instant_ground_2m\",\"t_instant_ground_2m\",\"t_instant_ground_2m\",\"t_instant_ground_2m\",\"t_instant_ground_2m\",\"t_instant_ground_2m\",\"t_instant_ground_2m\",\"t_instant_ground_2m\",\"t_instant_ground_2m\",\"t_instant_ground_2m\",\"t_instant_ground_2m\",\"t_instant_ground_2m\",\"t_instant_ground_2m\",\"t_instant_ground_2m\",\"t_instant_ground_2m\",\"t_instant_ground_2m\",\"t_instant_ground_2m\",\"t_instant_ground_2m\",\"t_instant_ground_2m\",\"t_instant_ground_2m\",\"t_instant_ground_2m\",\"t_instant_ground_2m\",\"t_instant_ground_2m\",\"t_instant_ground_2m\",\"t_instant_ground_2m\",\"t_instant_ground_2m\",\"t_instant_ground_2m\",\"t_instant_ground_2m\",\"t_instant_ground_2m\",\"t_instant_ground_2m\",\"t_instant_ground_2m\",\"t_instant_ground_2m\",\"t_instant_ground_2m\",\"t_instant_ground_2m\",\"t_instant_ground_2m\",\"t_instant_ground_2m\",\"t_instant_ground_2m\",\"t_instant_ground_2m\",\"t_instant_ground_2m\",\"t_instant_ground_2m\",\"t_instant_ground_2m\",\"t_instant_ground_2m\",\"t_instant_ground_2m\",\"t_instant_ground_2m\",\"t_instant_ground_2m\",\"t_instant_ground_2m\",\"t_instant_ground_2m\",\"t_instant_ground_2m\",\"t_instant_ground_2m\",\"t_instant_ground_2m\",\"t_instant_ground_2m\",\"t_instant_ground_2m\",\"t_instant_ground_2m\",\"t_instant_ground_2m\",\"t_instant_ground_2m\",\"t_instant_ground_2m\",\"t_instant_ground_2m\",\"t_instant_ground_2m\",\"t_instant_ground_2m\",\"t_instant_ground_2m\",\"t_instant_ground_2m\",\"t_instant_ground_2m\",\"t_instant_ground_2m\",\"t_instant_ground_2m\",\"t_instant_ground_2m\",\"t_instant_ground_2m\",\"t_instant_ground_2m\",\"t_instant_ground_2m\",\"t_instant_ground_2m\",\"t_instant_ground_2m\",\"t_instant_ground_2m\",\"t_instant_ground_2m\",\"t_instant_ground_2m\",\"t_instant_ground_2m\",\"t_instant_ground_2m\",\"t_instant_ground_2m\",\"t_instant_ground_2m\",\"t_instant_ground_2m\",\"t_instant_ground_2m\",\"t_instant_ground_2m\",\"t_instant_ground_2m\",\"t_instant_ground_2m\",\"t_instant_ground_2m\",\"t_instant_ground_2m\",\"t_instant_ground_2m\",\"t_instant_ground_2m\",\"t_instant_ground_2m\",\"t_instant_ground_2m\",\"t_instant_ground_2m\",\"t_instant_ground_2m\",\"t_instant_ground_2m\",\"t_instant_ground_2m\",\"t_instant_ground_2m\",\"t_instant_ground_2m\",\"t_instant_ground_2m\",\"t_instant_ground_2m\",\"t_instant_ground_2m\",\"t_instant_ground_2m\",\"t_instant_ground_2m\",\"t_instant_ground_2m\",\"t_instant_ground_2m\",\"t_instant_ground_2m\",\"t_instant_ground_2m\",\"t_instant_ground_2m\",\"t_instant_ground_2m\",\"t_instant_ground_2m\",\"t_instant_ground_2m\",\"t_instant_ground_2m\",\"t_instant_ground_2m\",\"t_instant_ground_2m\",\"t_instant_ground_2m\",\"t_instant_ground_2m\",\"t_instant_ground_2m\",\"t_instant_ground_2m\",\"t_instant_ground_2m\",\"t_instant_ground_2m\",\"t_instant_ground_2m\",\"t_instant_ground_2m\",\"t_instant_ground_2m\",\"t_instant_ground_2m\",\"t_instant_ground_2m\",\"t_instant_ground_2m\",\"t_instant_ground_2m\",\"t_instant_ground_2m\",\"t_instant_ground_2m\",\"t_instant_ground_2m\",\"t_instant_ground_2m\",\"t_instant_ground_2m\",\"t_instant_ground_2m\",\"t_instant_ground_2m\",\"t_instant_ground_2m\",\"t_instant_ground_2m\",\"t_instant_ground_2m\",\"t_instant_ground_2m\",\"t_instant_ground_2m\",\"t_instant_ground_2m\",\"t_instant_ground_2m\",\"t_instant_ground_2m\",\"t_instant_ground_2m\",\"t_instant_ground_2m\",\"t_instant_ground_2m\",\"t_instant_ground_2m\",\"t_instant_ground_2m\",\"t_instant_ground_2m\",\"t_instant_ground_2m\",\"t_instant_ground_2m\",\"t_instant_ground_2m\",\"t_instant_ground_2m\",\"t_instant_ground_2m\",\"t_instant_ground_2m\",\"t_instant_ground_2m\",\"t_instant_ground_2m\",\"t_instant_ground_2m\",\"t_instant_ground_2m\",\"t_instant_ground_2m\",\"t_instant_ground_2m\",\"t_instant_ground_2m\",\"t_instant_ground_2m\",\"t_instant_ground_2m\",\"t_instant_ground_2m\",\"t_instant_ground_2m\",\"t_instant_ground_2m\",\"t_instant_ground_2m\",\"t_instant_ground_2m\",\"t_instant_ground_2m\",\"t_instant_ground_2m\",\"t_instant_ground_2m\",\"t_instant_ground_2m\",\"t_instant_ground_2m\",\"t_instant_ground_2m\",\"t_instant_ground_2m\",\"t_instant_ground_2m\",\"t_instant_ground_2m\",\"t_instant_ground_2m\",\"t_instant_ground_2m\",\"t_instant_ground_2m\",\"t_instant_ground_2m\",\"t_instant_ground_2m\",\"t_instant_ground_2m\",\"t_instant_ground_2m\",\"t_instant_ground_2m\",\"t_instant_ground_2m\",\"t_instant_ground_2m\",\"t_instant_ground_2m\",\"t_instant_ground_2m\",\"t_instant_ground_2m\",\"t_instant_ground_2m\",\"t_instant_ground_2m\",\"t_instant_ground_2m\",\"t_instant_ground_2m\",\"t_instant_ground_2m\",\"t_instant_ground_2m\",\"t_instant_ground_2m\",\"t_instant_ground_2m\",\"t_instant_ground_2m\",\"t_instant_ground_2m\",\"t_instant_ground_2m\",\"t_instant_ground_2m\",\"t_instant_ground_2m\",\"t_instant_ground_2m\",\"t_instant_ground_2m\",\"t_instant_ground_2m\",\"t_instant_ground_2m\",\"t_instant_ground_2m\",\"t_instant_ground_2m\",\"t_instant_ground_2m\",\"t_instant_ground_2m\",\"t_instant_ground_2m\",\"t_instant_ground_2m\",\"t_instant_ground_2m\",\"t_instant_ground_2m\",\"t_instant_ground_2m\",\"t_instant_ground_2m\",\"t_instant_ground_2m\",\"t_instant_ground_2m\",\"t_instant_ground_2m\",\"t_instant_ground_2m\",\"t_instant_ground_2m\",\"t_instant_ground_2m\",\"t_instant_ground_2m\",\"t_instant_ground_2m\",\"t_instant_ground_2m\",\"t_instant_ground_2m\",\"t_instant_ground_2m\",\"t_instant_ground_2m\",\"t_instant_ground_2m\",\"t_instant_ground_2m\",\"t_instant_ground_2m\",\"t_instant_ground_2m\",\"t_instant_ground_2m\",\"t_instant_ground_2m\",\"t_instant_ground_2m\",\"t_instant_ground_2m\",\"t_instant_ground_2m\",\"t_instant_ground_2m\",\"t_instant_ground_2m\",\"t_instant_ground_2m\",\"t_instant_ground_2m\",\"t_instant_ground_2m\",\"t_instant_ground_2m\",\"t_instant_ground_2m\",\"t_instant_ground_2m\",\"t_instant_ground_2m\",\"t_instant_ground_2m\",\"t_instant_ground_2m\",\"t_instant_ground_2m\",\"t_instant_ground_2m\",\"t_instant_ground_2m\",\"t_instant_ground_2m\",\"t_instant_ground_2m\",\"t_instant_ground_2m\",\"t_instant_ground_2m\",\"t_instant_ground_2m\",\"t_instant_ground_2m\",\"t_instant_ground_2m\",\"t_instant_ground_2m\",\"t_instant_ground_2m\",\"t_instant_ground_2m\",\"t_instant_ground_2m\",\"t_instant_ground_2m\",\"t_instant_ground_2m\",\"t_instant_ground_2m\",\"t_instant_ground_2m\",\"t_instant_ground_2m\",\"t_instant_ground_2m\",\"t_instant_ground_2m\",\"t_instant_ground_2m\",\"t_instant_ground_2m\",\"t_instant_ground_2m\",\"t_instant_ground_2m\",\"t_instant_ground_2m\",\"t_instant_ground_2m\",\"t_instant_ground_2m\",\"t_instant_ground_2m\",\"t_instant_ground_2m\",\"t_instant_ground_2m\",\"t_instant_ground_2m\",\"t_instant_ground_2m\",\"t_instant_ground_2m\",\"t_instant_ground_2m\",\"t_instant_ground_2m\",\"t_instant_ground_2m\",\"t_instant_ground_2m\",\"t_instant_ground_2m\",\"t_instant_ground_2m\",\"t_instant_ground_2m\",\"t_instant_ground_2m\",\"t_instant_ground_2m\",\"t_instant_ground_2m\",\"t_instant_ground_2m\",\"t_instant_ground_2m\",\"t_instant_ground_2m\",\"t_instant_ground_2m\",\"t_instant_ground_2m\",\"t_instant_ground_2m\",\"t_instant_ground_2m\",\"t_instant_ground_2m\",\"t_instant_ground_2m\",\"t_instant_ground_2m\",\"t_instant_ground_2m\",\"t_instant_ground_2m\",\"t_instant_ground_2m\",\"t_instant_ground_2m\",\"t_instant_ground_2m\",\"t_instant_ground_2m\",\"t_instant_ground_2m\",\"t_instant_ground_2m\",\"t_instant_ground_2m\",\"t_instant_ground_2m\",\"t_instant_ground_2m\",\"t_instant_ground_2m\",\"t_instant_ground_2m\",\"t_instant_ground_2m\",\"t_instant_ground_2m\",\"t_instant_ground_2m\",\"t_instant_ground_2m\",\"t_instant_ground_2m\",\"t_instant_ground_2m\",\"t_instant_ground_2m\",\"t_instant_ground_2m\",\"t_instant_ground_2m\",\"t_instant_ground_2m\",\"t_instant_ground_2m\",\"t_instant_ground_2m\",\"t_instant_ground_2m\",\"t_instant_ground_2m\",\"t_instant_ground_2m\",\"t_instant_ground_2m\",\"t_instant_ground_2m\",\"t_instant_ground_2m\",\"t_instant_ground_2m\",\"t_instant_ground_2m\",\"t_instant_ground_2m\",\"t_instant_ground_2m\",\"t_instant_ground_2m\",\"t_instant_ground_2m\",\"t_instant_ground_2m\",\"t_instant_ground_2m\",\"t_instant_ground_2m\",\"t_instant_ground_2m\",\"t_instant_ground_2m\",\"t_instant_ground_2m\",\"t_instant_ground_2m\",\"t_instant_ground_2m\",\"t_instant_ground_2m\",\"t_instant_ground_2m\",\"t_instant_ground_2m\",\"t_instant_ground_2m\",\"t_instant_ground_2m\",\"t_instant_ground_2m\",\"t_instant_ground_2m\",\"t_instant_ground_2m\",\"t_instant_ground_2m\",\"t_instant_ground_2m\",\"t_instant_ground_2m\",\"t_instant_ground_2m\",\"t_instant_ground_2m\",\"t_instant_ground_2m\",\"t_instant_ground_2m\",\"t_instant_ground_2m\",\"t_instant_ground_2m\",\"t_instant_ground_2m\",\"t_instant_ground_2m\",\"t_instant_ground_2m\",\"t_instant_ground_2m\",\"t_instant_ground_2m\",\"t_instant_ground_2m\",\"t_instant_ground_2m\",\"t_instant_ground_2m\",\"t_instant_ground_2m\",\"t_instant_ground_2m\",\"t_instant_ground_2m\",\"t_instant_ground_2m\",\"t_instant_ground_2m\",\"t_instant_ground_2m\",\"t_instant_ground_2m\",\"t_instant_ground_2m\",\"t_instant_ground_2m\",\"t_instant_ground_2m\",\"t_instant_ground_2m\",\"t_instant_ground_2m\",\"t_instant_ground_2m\",\"t_instant_ground_2m\",\"t_instant_ground_2m\",\"t_instant_ground_2m\",\"t_instant_ground_2m\",\"t_instant_ground_2m\",\"t_instant_ground_2m\",\"t_instant_ground_2m\",\"t_instant_ground_2m\",\"t_instant_ground_2m\",\"t_instant_ground_2m\",\"t_instant_ground_2m\",\"t_instant_ground_2m\",\"t_instant_ground_2m\",\"t_instant_ground_2m\",\"t_instant_ground_2m\",\"t_instant_ground_2m\",\"t_instant_ground_2m\",\"t_instant_ground_2m\",\"t_instant_ground_2m\",\"t_instant_ground_2m\",\"t_instant_ground_2m\",\"t_instant_ground_2m\",\"t_instant_ground_2m\",\"t_instant_ground_2m\",\"t_instant_ground_2m\",\"t_instant_ground_2m\",\"t_instant_ground_2m\",\"t_instant_ground_2m\",\"t_instant_ground_2m\",\"t_instant_ground_2m\",\"t_instant_ground_2m\",\"t_instant_ground_2m\",\"t_instant_ground_2m\",\"t_instant_ground_2m\",\"t_instant_ground_2m\",\"t_instant_ground_2m\",\"t_instant_ground_2m\",\"t_instant_ground_2m\",\"t_instant_ground_2m\",\"t_instant_ground_2m\",\"t_instant_ground_2m\",\"t_instant_ground_2m\",\"t_instant_ground_2m\",\"t_instant_ground_2m\",\"t_instant_ground_2m\",\"t_instant_ground_2m\",\"t_instant_ground_2m\",\"t_instant_ground_2m\",\"t_instant_ground_2m\",\"t_instant_ground_2m\",\"t_instant_ground_2m\",\"t_instant_ground_2m\",\"t_instant_ground_2m\",\"t_instant_ground_2m\",\"t_instant_ground_2m\",\"t_instant_ground_2m\",\"t_instant_ground_2m\",\"t_instant_ground_2m\",\"t_instant_ground_2m\",\"t_instant_ground_2m\",\"t_instant_ground_2m\",\"t_instant_ground_2m\",\"t_instant_ground_2m\",\"t_instant_ground_2m\",\"t_instant_ground_2m\",\"t_instant_ground_2m\",\"t_instant_ground_2m\",\"t_instant_ground_2m\",\"t_instant_ground_2m\",\"t_instant_ground_2m\",\"t_instant_ground_2m\",\"t_instant_ground_2m\",\"t_instant_ground_2m\",\"t_instant_ground_2m\",\"t_instant_ground_2m\",\"t_instant_ground_2m\",\"t_instant_ground_2m\",\"t_instant_ground_2m\",\"t_instant_ground_2m\",\"t_instant_ground_2m\",\"t_instant_ground_2m\",\"t_instant_ground_2m\",\"t_instant_ground_2m\",\"t_instant_ground_2m\",\"t_instant_ground_2m\",\"t_instant_ground_2m\",\"t_instant_ground_2m\",\"t_instant_ground_2m\",\"t_instant_ground_2m\",\"t_instant_ground_2m\",\"t_instant_ground_2m\",\"t_instant_ground_2m\",\"t_instant_ground_2m\",\"t_instant_ground_2m\",\"t_instant_ground_2m\",\"t_instant_ground_2m\",\"t_instant_ground_2m\",\"t_instant_ground_2m\",\"t_instant_ground_2m\",\"t_instant_ground_2m\",\"t_instant_ground_2m\",\"t_instant_ground_2m\",\"t_instant_ground_2m\",\"t_instant_ground_2m\",\"t_instant_ground_2m\",\"t_instant_ground_2m\",\"t_instant_ground_2m\",\"t_instant_ground_2m\",\"t_instant_ground_2m\",\"t_instant_ground_2m\",\"t_instant_ground_2m\",\"t_instant_ground_2m\",\"t_instant_ground_2m\",\"t_instant_ground_2m\",\"t_instant_ground_2m\",\"t_instant_ground_2m\",\"t_instant_ground_2m\",\"t_instant_ground_2m\",\"t_instant_ground_2m\",\"t_instant_ground_2m\",\"t_instant_ground_2m\",\"t_instant_ground_2m\",\"t_instant_ground_2m\",\"t_instant_ground_2m\",\"t_instant_ground_2m\",\"t_instant_ground_2m\",\"t_instant_ground_2m\",\"t_instant_ground_2m\",\"t_instant_ground_2m\",\"t_instant_ground_2m\",\"t_instant_ground_2m\",\"t_instant_ground_2m\",\"t_instant_ground_2m\",\"t_instant_ground_2m\",\"t_instant_ground_2m\",\"t_instant_ground_2m\",\"t_instant_ground_2m\",\"t_instant_ground_2m\",\"t_instant_ground_2m\",\"t_instant_ground_2m\",\"t_instant_ground_2m\",\"t_instant_ground_2m\",\"t_instant_ground_2m\",\"t_instant_ground_2m\",\"t_instant_ground_2m\",\"t_instant_ground_2m\",\"t_instant_ground_2m\",\"t_instant_ground_2m\",\"t_instant_ground_2m\",\"t_instant_ground_2m\",\"t_instant_ground_2m\",\"t_instant_ground_2m\",\"t_instant_ground_2m\",\"t_instant_ground_2m\",\"t_instant_ground_2m\",\"t_instant_ground_2m\",\"t_instant_ground_2m\",\"t_instant_ground_2m\",\"t_instant_ground_2m\",\"t_instant_ground_2m\",\"t_instant_ground_2m\",\"t_instant_ground_2m\",\"t_instant_ground_2m\",\"t_instant_ground_2m\",\"t_instant_ground_2m\",\"t_instant_ground_2m\",\"t_instant_ground_2m\",\"t_instant_ground_2m\",\"t_instant_ground_2m\",\"t_instant_ground_2m\",\"t_instant_ground_2m\",\"t_instant_ground_2m\",\"t_instant_ground_2m\",\"t_instant_ground_2m\",\"t_instant_ground_2m\",\"t_instant_ground_2m\",\"t_instant_ground_2m\",\"t_instant_ground_2m\",\"t_instant_ground_2m\",\"t_instant_ground_2m\",\"t_instant_ground_2m\",\"t_instant_ground_2m\",\"t_instant_ground_2m\",\"t_instant_ground_2m\",\"t_instant_ground_2m\",\"t_instant_ground_2m\",\"t_instant_ground_2m\"]]]}}},\"view\":{\"type\":\"object\",\"name\":\"CDSView\",\"id\":\"p1459\",\"attributes\":{\"filter\":{\"type\":\"object\",\"name\":\"AllIndices\",\"id\":\"p1460\"}}},\"glyph\":{\"type\":\"object\",\"name\":\"Line\",\"id\":\"p1455\",\"attributes\":{\"tags\":[\"apply_ranges\"],\"x\":{\"type\":\"field\",\"field\":\"index\"},\"y\":{\"type\":\"field\",\"field\":\"value\"},\"line_color\":\"#fc4f30\",\"line_width\":2}},\"selection_glyph\":{\"type\":\"object\",\"name\":\"Line\",\"id\":\"p1462\",\"attributes\":{\"tags\":[\"apply_ranges\"],\"x\":{\"type\":\"field\",\"field\":\"index\"},\"y\":{\"type\":\"field\",\"field\":\"value\"},\"line_color\":\"#fc4f30\",\"line_width\":2}},\"nonselection_glyph\":{\"type\":\"object\",\"name\":\"Line\",\"id\":\"p1456\",\"attributes\":{\"tags\":[\"apply_ranges\"],\"x\":{\"type\":\"field\",\"field\":\"index\"},\"y\":{\"type\":\"field\",\"field\":\"value\"},\"line_color\":\"#fc4f30\",\"line_alpha\":0.1,\"line_width\":2}},\"muted_glyph\":{\"type\":\"object\",\"name\":\"Line\",\"id\":\"p1457\",\"attributes\":{\"tags\":[\"apply_ranges\"],\"x\":{\"type\":\"field\",\"field\":\"index\"},\"y\":{\"type\":\"field\",\"field\":\"value\"},\"line_color\":\"#fc4f30\",\"line_alpha\":0.2,\"line_width\":2}}}},{\"type\":\"object\",\"name\":\"GlyphRenderer\",\"id\":\"p1472\",\"attributes\":{\"name\":\"grad_accum_ground_0m\",\"data_source\":{\"type\":\"object\",\"name\":\"ColumnDataSource\",\"id\":\"p1463\",\"attributes\":{\"selected\":{\"type\":\"object\",\"name\":\"Selection\",\"id\":\"p1464\",\"attributes\":{\"indices\":[],\"line_indices\":[]}},\"selection_policy\":{\"type\":\"object\",\"name\":\"UnionRenderers\",\"id\":\"p1465\"},\"data\":{\"type\":\"map\",\"entries\":[[\"index\",{\"type\":\"ndarray\",\"array\":{\"type\":\"bytes\",\"data\":\"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\"},\"shape\":[721],\"dtype\":\"int32\",\"order\":\"little\"}],[\"value\",{\"type\":\"ndarray\",\"array\":{\"type\":\"bytes\",\"data\":\"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\"},\"shape\":[721],\"dtype\":\"float64\",\"order\":\"little\"}],[\"Variable\",[\"grad_accum_ground_0m\",\"grad_accum_ground_0m\",\"grad_accum_ground_0m\",\"grad_accum_ground_0m\",\"grad_accum_ground_0m\",\"grad_accum_ground_0m\",\"grad_accum_ground_0m\",\"grad_accum_ground_0m\",\"grad_accum_ground_0m\",\"grad_accum_ground_0m\",\"grad_accum_ground_0m\",\"grad_accum_ground_0m\",\"grad_accum_ground_0m\",\"grad_accum_ground_0m\",\"grad_accum_ground_0m\",\"grad_accum_ground_0m\",\"grad_accum_ground_0m\",\"grad_accum_ground_0m\",\"grad_accum_ground_0m\",\"grad_accum_ground_0m\",\"grad_accum_ground_0m\",\"grad_accum_ground_0m\",\"grad_accum_ground_0m\",\"grad_accum_ground_0m\",\"grad_accum_ground_0m\",\"grad_accum_ground_0m\",\"grad_accum_ground_0m\",\"grad_accum_ground_0m\",\"grad_accum_ground_0m\",\"grad_accum_ground_0m\",\"grad_accum_ground_0m\",\"grad_accum_ground_0m\",\"grad_accum_ground_0m\",\"grad_accum_ground_0m\",\"grad_accum_ground_0m\",\"grad_accum_ground_0m\",\"grad_accum_ground_0m\",\"grad_accum_ground_0m\",\"grad_accum_ground_0m\",\"grad_accum_ground_0m\",\"grad_accum_ground_0m\",\"grad_accum_ground_0m\",\"grad_accum_ground_0m\",\"grad_accum_ground_0m\",\"grad_accum_ground_0m\",\"grad_accum_ground_0m\",\"grad_accum_ground_0m\",\"grad_accum_ground_0m\",\"grad_accum_ground_0m\",\"grad_accum_ground_0m\",\"grad_accum_ground_0m\",\"grad_accum_ground_0m\",\"grad_accum_ground_0m\",\"grad_accum_ground_0m\",\"grad_accum_ground_0m\",\"grad_accum_ground_0m\",\"grad_accum_ground_0m\",\"grad_accum_ground_0m\",\"grad_accum_ground_0m\",\"grad_accum_ground_0m\",\"grad_accum_ground_0m\",\"grad_accum_ground_0m\",\"grad_accum_ground_0m\",\"grad_accum_ground_0m\",\"grad_accum_ground_0m\",\"grad_accum_ground_0m\",\"grad_accum_ground_0m\",\"grad_accum_ground_0m\",\"grad_accum_ground_0m\",\"grad_accum_ground_0m\",\"grad_accum_ground_0m\",\"grad_accum_ground_0m\",\"grad_accum_ground_0m\",\"grad_accum_ground_0m\",\"grad_accum_ground_0m\",\"grad_accum_ground_0m\",\"grad_accum_ground_0m\",\"grad_accum_ground_0m\",\"grad_accum_ground_0m\",\"grad_accum_ground_0m\",\"grad_accum_ground_0m\",\"grad_accum_ground_0m\",\"grad_accum_ground_0m\",\"grad_accum_ground_0m\",\"grad_accum_ground_0m\",\"grad_accum_ground_0m\",\"grad_accum_ground_0m\",\"grad_accum_ground_0m\",\"grad_accum_ground_0m\",\"grad_accum_ground_0m\",\"grad_accum_ground_0m\",\"grad_accum_ground_0m\",\"grad_accum_ground_0m\",\"grad_accum_ground_0m\",\"grad_accum_ground_0m\",\"grad_accum_ground_0m\",\"grad_accum_ground_0m\",\"grad_accum_ground_0m\",\"grad_accum_ground_0m\",\"grad_accum_ground_0m\",\"grad_accum_ground_0m\",\"grad_accum_ground_0m\",\"grad_accum_ground_0m\",\"grad_accum_ground_0m\",\"grad_accum_ground_0m\",\"grad_accum_ground_0m\",\"grad_accum_ground_0m\",\"grad_accum_ground_0m\",\"grad_accum_ground_0m\",\"grad_accum_ground_0m\",\"grad_accum_ground_0m\",\"grad_accum_ground_0m\",\"grad_accum_ground_0m\",\"grad_accum_ground_0m\",\"grad_accum_ground_0m\",\"grad_accum_ground_0m\",\"grad_accum_ground_0m\",\"grad_accum_ground_0m\",\"grad_accum_ground_0m\",\"grad_accum_ground_0m\",\"grad_accum_ground_0m\",\"grad_accum_ground_0m\",\"grad_accum_ground_0m\",\"grad_accum_ground_0m\",\"grad_accum_ground_0m\",\"grad_accum_ground_0m\",\"grad_accum_ground_0m\",\"grad_accum_ground_0m\",\"grad_accum_ground_0m\",\"grad_accum_ground_0m\",\"grad_accum_ground_0m\",\"grad_accum_ground_0m\",\"grad_accum_ground_0m\",\"grad_accum_ground_0m\",\"grad_accum_ground_0m\",\"grad_accum_ground_0m\",\"grad_accum_ground_0m\",\"grad_accum_ground_0m\",\"grad_accum_ground_0m\",\"grad_accum_ground_0m\",\"grad_accum_ground_0m\",\"grad_accum_ground_0m\",\"grad_accum_ground_0m\",\"grad_accum_ground_0m\",\"grad_accum_ground_0m\",\"grad_accum_ground_0m\",\"grad_accum_ground_0m\",\"grad_accum_ground_0m\",\"grad_accum_ground_0m\",\"grad_accum_ground_0m\",\"grad_accum_ground_0m\",\"grad_accum_ground_0m\",\"grad_accum_ground_0m\",\"grad_accum_ground_0m\",\"grad_accum_ground_0m\",\"grad_accum_ground_0m\",\"grad_accum_ground_0m\",\"grad_accum_ground_0m\",\"grad_accum_ground_0m\",\"grad_accum_ground_0m\",\"grad_accum_ground_0m\",\"grad_accum_ground_0m\",\"grad_accum_ground_0m\",\"grad_accum_ground_0m\",\"grad_accum_ground_0m\",\"grad_accum_ground_0m\",\"grad_accum_ground_0m\",\"grad_accum_ground_0m\",\"grad_accum_ground_0m\",\"grad_accum_ground_0m\",\"grad_accum_ground_0m\",\"grad_accum_ground_0m\",\"grad_accum_ground_0m\",\"grad_accum_ground_0m\",\"grad_accum_ground_0m\",\"grad_accum_ground_0m\",\"grad_accum_ground_0m\",\"grad_accum_ground_0m\",\"grad_accum_ground_0m\",\"grad_accum_ground_0m\",\"grad_accum_ground_0m\",\"grad_accum_ground_0m\",\"grad_accum_ground_0m\",\"grad_accum_ground_0m\",\"grad_accum_ground_0m\",\"grad_accum_ground_0m\",\"grad_accum_ground_0m\",\"grad_accum_ground_0m\",\"grad_accum_ground_0m\",\"grad_accum_ground_0m\",\"grad_accum_ground_0m\",\"grad_accum_ground_0m\",\"grad_accum_ground_0m\",\"grad_accum_ground_0m\",\"grad_accum_ground_0m\",\"grad_accum_ground_0m\",\"grad_accum_ground_0m\",\"grad_accum_ground_0m\",\"grad_accum_ground_0m\",\"grad_accum_ground_0m\",\"grad_accum_ground_0m\",\"grad_accum_ground_0m\",\"grad_accum_ground_0m\",\"grad_accum_ground_0m\",\"grad_accum_ground_0m\",\"grad_accum_ground_0m\",\"grad_accum_ground_0m\",\"grad_accum_ground_0m\",\"grad_accum_ground_0m\",\"grad_accum_ground_0m\",\"grad_accum_ground_0m\",\"grad_accum_ground_0m\",\"grad_accum_ground_0m\",\"grad_accum_ground_0m\",\"grad_accum_ground_0m\",\"grad_accum_ground_0m\",\"grad_accum_ground_0m\",\"grad_accum_ground_0m\",\"grad_accum_ground_0m\",\"grad_accum_ground_0m\",\"grad_accum_ground_0m\",\"grad_accum_ground_0m\",\"grad_accum_ground_0m\",\"grad_accum_ground_0m\",\"grad_accum_ground_0m\",\"grad_accum_ground_0m\",\"grad_accum_ground_0m\",\"grad_accum_ground_0m\",\"grad_accum_ground_0m\",\"grad_accum_ground_0m\",\"grad_accum_ground_0m\",\"grad_accum_ground_0m\",\"grad_accum_ground_0m\",\"grad_accum_ground_0m\",\"grad_accum_ground_0m\",\"grad_accum_ground_0m\",\"grad_accum_ground_0m\",\"grad_accum_ground_0m\",\"grad_accum_ground_0m\",\"grad_accum_ground_0m\",\"grad_accum_ground_0m\",\"grad_accum_ground_0m\",\"grad_accum_ground_0m\",\"grad_accum_ground_0m\",\"grad_accum_ground_0m\",\"grad_accum_ground_0m\",\"grad_accum_ground_0m\",\"grad_accum_ground_0m\",\"grad_accum_ground_0m\",\"grad_accum_ground_0m\",\"grad_accum_ground_0m\",\"grad_accum_ground_0m\",\"grad_accum_ground_0m\",\"grad_accum_ground_0m\",\"grad_accum_ground_0m\",\"grad_accum_ground_0m\",\"grad_accum_ground_0m\",\"grad_accum_ground_0m\",\"grad_accum_ground_0m\",\"grad_accum_ground_0m\",\"grad_accum_ground_0m\",\"grad_accum_ground_0m\",\"grad_accum_ground_0m\",\"grad_accum_ground_0m\",\"grad_accum_ground_0m\",\"grad_accum_ground_0m\",\"grad_accum_ground_0m\",\"grad_accum_ground_0m\",\"grad_accum_ground_0m\",\"grad_accum_ground_0m\",\"grad_accum_ground_0m\",\"grad_accum_ground_0m\",\"grad_accum_ground_0m\",\"grad_accum_ground_0m\",\"grad_accum_ground_0m\",\"grad_accum_ground_0m\",\"grad_accum_ground_0m\",\"grad_accum_ground_0m\",\"grad_accum_ground_0m\",\"grad_accum_ground_0m\",\"grad_accum_ground_0m\",\"grad_accum_ground_0m\",\"grad_accum_ground_0m\",\"grad_accum_ground_0m\",\"grad_accum_ground_0m\",\"grad_accum_ground_0m\",\"grad_accum_ground_0m\",\"grad_accum_ground_0m\",\"grad_accum_ground_0m\",\"grad_accum_ground_0m\",\"grad_accum_ground_0m\",\"grad_accum_ground_0m\",\"grad_accum_ground_0m\",\"grad_accum_ground_0m\",\"grad_accum_ground_0m\",\"grad_accum_ground_0m\",\"grad_accum_ground_0m\",\"grad_accum_ground_0m\",\"grad_accum_ground_0m\",\"grad_accum_ground_0m\",\"grad_accum_ground_0m\",\"grad_accum_ground_0m\",\"grad_accum_ground_0m\",\"grad_accum_ground_0m\",\"grad_accum_ground_0m\",\"grad_accum_ground_0m\",\"grad_accum_ground_0m\",\"grad_accum_ground_0m\",\"grad_accum_ground_0m\",\"grad_accum_ground_0m\",\"grad_accum_ground_0m\",\"grad_accum_ground_0m\",\"grad_accum_ground_0m\",\"grad_accum_ground_0m\",\"grad_accum_ground_0m\",\"grad_accum_ground_0m\",\"grad_accum_ground_0m\",\"grad_accum_ground_0m\",\"grad_accum_ground_0m\",\"grad_accum_ground_0m\",\"grad_accum_ground_0m\",\"grad_accum_ground_0m\",\"grad_accum_ground_0m\",\"grad_accum_ground_0m\",\"grad_accum_ground_0m\",\"grad_accum_ground_0m\",\"grad_accum_ground_0m\",\"grad_accum_ground_0m\",\"grad_accum_ground_0m\",\"grad_accum_ground_0m\",\"grad_accum_ground_0m\",\"grad_accum_ground_0m\",\"grad_accum_ground_0m\",\"grad_accum_ground_0m\",\"grad_accum_ground_0m\",\"grad_accum_ground_0m\",\"grad_accum_ground_0m\",\"grad_accum_ground_0m\",\"grad_accum_ground_0m\",\"grad_accum_ground_0m\",\"grad_accum_ground_0m\",\"grad_accum_ground_0m\",\"grad_accum_ground_0m\",\"grad_accum_ground_0m\",\"grad_accum_ground_0m\",\"grad_accum_ground_0m\",\"grad_accum_ground_0m\",\"grad_accum_ground_0m\",\"grad_accum_ground_0m\",\"grad_accum_ground_0m\",\"grad_accum_ground_0m\",\"grad_accum_ground_0m\",\"grad_accum_ground_0m\",\"grad_accum_ground_0m\",\"grad_accum_ground_0m\",\"grad_accum_ground_0m\",\"grad_accum_ground_0m\",\"grad_accum_ground_0m\",\"grad_accum_ground_0m\",\"grad_accum_ground_0m\",\"grad_accum_ground_0m\",\"grad_accum_ground_0m\",\"grad_accum_ground_0m\",\"grad_accum_ground_0m\",\"grad_accum_ground_0m\",\"grad_accum_ground_0m\",\"grad_accum_ground_0m\",\"grad_accum_ground_0m\",\"grad_accum_ground_0m\",\"grad_accum_ground_0m\",\"grad_accum_ground_0m\",\"grad_accum_ground_0m\",\"grad_accum_ground_0m\",\"grad_accum_ground_0m\",\"grad_accum_ground_0m\",\"grad_accum_ground_0m\",\"grad_accum_ground_0m\",\"grad_accum_ground_0m\",\"grad_accum_ground_0m\",\"grad_accum_ground_0m\",\"grad_accum_ground_0m\",\"grad_accum_ground_0m\",\"grad_accum_ground_0m\",\"grad_accum_ground_0m\",\"grad_accum_ground_0m\",\"grad_accum_ground_0m\",\"grad_accum_ground_0m\",\"grad_accum_ground_0m\",\"grad_accum_ground_0m\",\"grad_accum_ground_0m\",\"grad_accum_ground_0m\",\"grad_accum_ground_0m\",\"grad_accum_ground_0m\",\"grad_accum_ground_0m\",\"grad_accum_ground_0m\",\"grad_accum_ground_0m\",\"grad_accum_ground_0m\",\"grad_accum_ground_0m\",\"grad_accum_ground_0m\",\"grad_accum_ground_0m\",\"grad_accum_ground_0m\",\"grad_accum_ground_0m\",\"grad_accum_ground_0m\",\"grad_accum_ground_0m\",\"grad_accum_ground_0m\",\"grad_accum_ground_0m\",\"grad_accum_ground_0m\",\"grad_accum_ground_0m\",\"grad_accum_ground_0m\",\"grad_accum_ground_0m\",\"grad_accum_ground_0m\",\"grad_accum_ground_0m\",\"grad_accum_ground_0m\",\"grad_accum_ground_0m\",\"grad_accum_ground_0m\",\"grad_accum_ground_0m\",\"grad_accum_ground_0m\",\"grad_accum_ground_0m\",\"grad_accum_ground_0m\",\"grad_accum_ground_0m\",\"grad_accum_ground_0m\",\"grad_accum_ground_0m\",\"grad_accum_ground_0m\",\"grad_accum_ground_0m\",\"grad_accum_ground_0m\",\"grad_accum_ground_0m\",\"grad_accum_ground_0m\",\"grad_accum_ground_0m\",\"grad_accum_ground_0m\",\"grad_accum_ground_0m\",\"grad_accum_ground_0m\",\"grad_accum_ground_0m\",\"grad_accum_ground_0m\",\"grad_accum_ground_0m\",\"grad_accum_ground_0m\",\"grad_accum_ground_0m\",\"grad_accum_ground_0m\",\"grad_accum_ground_0m\",\"grad_accum_ground_0m\",\"grad_accum_ground_0m\",\"grad_accum_ground_0m\",\"grad_accum_ground_0m\",\"grad_accum_ground_0m\",\"grad_accum_ground_0m\",\"grad_accum_ground_0m\",\"grad_accum_ground_0m\",\"grad_accum_ground_0m\",\"grad_accum_ground_0m\",\"grad_accum_ground_0m\",\"grad_accum_ground_0m\",\"grad_accum_ground_0m\",\"grad_accum_ground_0m\",\"grad_accum_ground_0m\",\"grad_accum_ground_0m\",\"grad_accum_ground_0m\",\"grad_accum_ground_0m\",\"grad_accum_ground_0m\",\"grad_accum_ground_0m\",\"grad_accum_ground_0m\",\"grad_accum_ground_0m\",\"grad_accum_ground_0m\",\"grad_accum_ground_0m\",\"grad_accum_ground_0m\",\"grad_accum_ground_0m\",\"grad_accum_ground_0m\",\"grad_accum_ground_0m\",\"grad_accum_ground_0m\",\"grad_accum_ground_0m\",\"grad_accum_ground_0m\",\"grad_accum_ground_0m\",\"grad_accum_ground_0m\",\"grad_accum_ground_0m\",\"grad_accum_ground_0m\",\"grad_accum_ground_0m\",\"grad_accum_ground_0m\",\"grad_accum_ground_0m\",\"grad_accum_ground_0m\",\"grad_accum_ground_0m\",\"grad_accum_ground_0m\",\"grad_accum_ground_0m\",\"grad_accum_ground_0m\",\"grad_accum_ground_0m\",\"grad_accum_ground_0m\",\"grad_accum_ground_0m\",\"grad_accum_ground_0m\",\"grad_accum_ground_0m\",\"grad_accum_ground_0m\",\"grad_accum_ground_0m\",\"grad_accum_ground_0m\",\"grad_accum_ground_0m\",\"grad_accum_ground_0m\",\"grad_accum_ground_0m\",\"grad_accum_ground_0m\",\"grad_accum_ground_0m\",\"grad_accum_ground_0m\",\"grad_accum_ground_0m\",\"grad_accum_ground_0m\",\"grad_accum_ground_0m\",\"grad_accum_ground_0m\",\"grad_accum_ground_0m\",\"grad_accum_ground_0m\",\"grad_accum_ground_0m\",\"grad_accum_ground_0m\",\"grad_accum_ground_0m\",\"grad_accum_ground_0m\",\"grad_accum_ground_0m\",\"grad_accum_ground_0m\",\"grad_accum_ground_0m\",\"grad_accum_ground_0m\",\"grad_accum_ground_0m\",\"grad_accum_ground_0m\",\"grad_accum_ground_0m\",\"grad_accum_ground_0m\",\"grad_accum_ground_0m\",\"grad_accum_ground_0m\",\"grad_accum_ground_0m\",\"grad_accum_ground_0m\",\"grad_accum_ground_0m\",\"grad_accum_ground_0m\",\"grad_accum_ground_0m\",\"grad_accum_ground_0m\",\"grad_accum_ground_0m\",\"grad_accum_ground_0m\",\"grad_accum_ground_0m\",\"grad_accum_ground_0m\",\"grad_accum_ground_0m\",\"grad_accum_ground_0m\",\"grad_accum_ground_0m\",\"grad_accum_ground_0m\",\"grad_accum_ground_0m\",\"grad_accum_ground_0m\",\"grad_accum_ground_0m\",\"grad_accum_ground_0m\",\"grad_accum_ground_0m\",\"grad_accum_ground_0m\",\"grad_accum_ground_0m\",\"grad_accum_ground_0m\",\"grad_accum_ground_0m\",\"grad_accum_ground_0m\",\"grad_accum_ground_0m\",\"grad_accum_ground_0m\",\"grad_accum_ground_0m\",\"grad_accum_ground_0m\",\"grad_accum_ground_0m\",\"grad_accum_ground_0m\",\"grad_accum_ground_0m\",\"grad_accum_ground_0m\",\"grad_accum_ground_0m\",\"grad_accum_ground_0m\",\"grad_accum_ground_0m\",\"grad_accum_ground_0m\",\"grad_accum_ground_0m\",\"grad_accum_ground_0m\",\"grad_accum_ground_0m\",\"grad_accum_ground_0m\",\"grad_accum_ground_0m\",\"grad_accum_ground_0m\",\"grad_accum_ground_0m\",\"grad_accum_ground_0m\",\"grad_accum_ground_0m\",\"grad_accum_ground_0m\",\"grad_accum_ground_0m\",\"grad_accum_ground_0m\",\"grad_accum_ground_0m\",\"grad_accum_ground_0m\",\"grad_accum_ground_0m\",\"grad_accum_ground_0m\",\"grad_accum_ground_0m\",\"grad_accum_ground_0m\",\"grad_accum_ground_0m\",\"grad_accum_ground_0m\",\"grad_accum_ground_0m\",\"grad_accum_ground_0m\",\"grad_accum_ground_0m\",\"grad_accum_ground_0m\",\"grad_accum_ground_0m\",\"grad_accum_ground_0m\",\"grad_accum_ground_0m\",\"grad_accum_ground_0m\",\"grad_accum_ground_0m\",\"grad_accum_ground_0m\",\"grad_accum_ground_0m\",\"grad_accum_ground_0m\",\"grad_accum_ground_0m\",\"grad_accum_ground_0m\",\"grad_accum_ground_0m\",\"grad_accum_ground_0m\",\"grad_accum_ground_0m\",\"grad_accum_ground_0m\",\"grad_accum_ground_0m\",\"grad_accum_ground_0m\",\"grad_accum_ground_0m\",\"grad_accum_ground_0m\",\"grad_accum_ground_0m\",\"grad_accum_ground_0m\",\"grad_accum_ground_0m\",\"grad_accum_ground_0m\",\"grad_accum_ground_0m\",\"grad_accum_ground_0m\",\"grad_accum_ground_0m\",\"grad_accum_ground_0m\",\"grad_accum_ground_0m\",\"grad_accum_ground_0m\",\"grad_accum_ground_0m\",\"grad_accum_ground_0m\",\"grad_accum_ground_0m\",\"grad_accum_ground_0m\",\"grad_accum_ground_0m\",\"grad_accum_ground_0m\",\"grad_accum_ground_0m\",\"grad_accum_ground_0m\",\"grad_accum_ground_0m\",\"grad_accum_ground_0m\",\"grad_accum_ground_0m\",\"grad_accum_ground_0m\",\"grad_accum_ground_0m\",\"grad_accum_ground_0m\",\"grad_accum_ground_0m\",\"grad_accum_ground_0m\",\"grad_accum_ground_0m\",\"grad_accum_ground_0m\",\"grad_accum_ground_0m\",\"grad_accum_ground_0m\",\"grad_accum_ground_0m\",\"grad_accum_ground_0m\",\"grad_accum_ground_0m\",\"grad_accum_ground_0m\",\"grad_accum_ground_0m\",\"grad_accum_ground_0m\",\"grad_accum_ground_0m\",\"grad_accum_ground_0m\",\"grad_accum_ground_0m\",\"grad_accum_ground_0m\",\"grad_accum_ground_0m\",\"grad_accum_ground_0m\",\"grad_accum_ground_0m\",\"grad_accum_ground_0m\",\"grad_accum_ground_0m\",\"grad_accum_ground_0m\",\"grad_accum_ground_0m\",\"grad_accum_ground_0m\",\"grad_accum_ground_0m\",\"grad_accum_ground_0m\",\"grad_accum_ground_0m\",\"grad_accum_ground_0m\",\"grad_accum_ground_0m\",\"grad_accum_ground_0m\",\"grad_accum_ground_0m\",\"grad_accum_ground_0m\",\"grad_accum_ground_0m\",\"grad_accum_ground_0m\",\"grad_accum_ground_0m\",\"grad_accum_ground_0m\",\"grad_accum_ground_0m\",\"grad_accum_ground_0m\",\"grad_accum_ground_0m\",\"grad_accum_ground_0m\",\"grad_accum_ground_0m\",\"grad_accum_ground_0m\",\"grad_accum_ground_0m\",\"grad_accum_ground_0m\",\"grad_accum_ground_0m\",\"grad_accum_ground_0m\",\"grad_accum_ground_0m\",\"grad_accum_ground_0m\",\"grad_accum_ground_0m\",\"grad_accum_ground_0m\",\"grad_accum_ground_0m\",\"grad_accum_ground_0m\",\"grad_accum_ground_0m\",\"grad_accum_ground_0m\",\"grad_accum_ground_0m\",\"grad_accum_ground_0m\",\"grad_accum_ground_0m\",\"grad_accum_ground_0m\",\"grad_accum_ground_0m\",\"grad_accum_ground_0m\",\"grad_accum_ground_0m\",\"grad_accum_ground_0m\",\"grad_accum_ground_0m\",\"grad_accum_ground_0m\",\"grad_accum_ground_0m\",\"grad_accum_ground_0m\",\"grad_accum_ground_0m\",\"grad_accum_ground_0m\",\"grad_accum_ground_0m\",\"grad_accum_ground_0m\",\"grad_accum_ground_0m\",\"grad_accum_ground_0m\",\"grad_accum_ground_0m\",\"grad_accum_ground_0m\",\"grad_accum_ground_0m\",\"grad_accum_ground_0m\",\"grad_accum_ground_0m\",\"grad_accum_ground_0m\",\"grad_accum_ground_0m\",\"grad_accum_ground_0m\",\"grad_accum_ground_0m\",\"grad_accum_ground_0m\",\"grad_accum_ground_0m\",\"grad_accum_ground_0m\",\"grad_accum_ground_0m\",\"grad_accum_ground_0m\",\"grad_accum_ground_0m\",\"grad_accum_ground_0m\",\"grad_accum_ground_0m\",\"grad_accum_ground_0m\",\"grad_accum_ground_0m\",\"grad_accum_ground_0m\",\"grad_accum_ground_0m\",\"grad_accum_ground_0m\",\"grad_accum_ground_0m\",\"grad_accum_ground_0m\",\"grad_accum_ground_0m\",\"grad_accum_ground_0m\",\"grad_accum_ground_0m\",\"grad_accum_ground_0m\",\"grad_accum_ground_0m\",\"grad_accum_ground_0m\",\"grad_accum_ground_0m\",\"grad_accum_ground_0m\"]]]}}},\"view\":{\"type\":\"object\",\"name\":\"CDSView\",\"id\":\"p1473\",\"attributes\":{\"filter\":{\"type\":\"object\",\"name\":\"AllIndices\",\"id\":\"p1474\"}}},\"glyph\":{\"type\":\"object\",\"name\":\"Line\",\"id\":\"p1469\",\"attributes\":{\"tags\":[\"apply_ranges\"],\"x\":{\"type\":\"field\",\"field\":\"index\"},\"y\":{\"type\":\"field\",\"field\":\"value\"},\"line_color\":\"#e5ae38\",\"line_width\":2}},\"selection_glyph\":{\"type\":\"object\",\"name\":\"Line\",\"id\":\"p1476\",\"attributes\":{\"tags\":[\"apply_ranges\"],\"x\":{\"type\":\"field\",\"field\":\"index\"},\"y\":{\"type\":\"field\",\"field\":\"value\"},\"line_color\":\"#e5ae38\",\"line_width\":2}},\"nonselection_glyph\":{\"type\":\"object\",\"name\":\"Line\",\"id\":\"p1470\",\"attributes\":{\"tags\":[\"apply_ranges\"],\"x\":{\"type\":\"field\",\"field\":\"index\"},\"y\":{\"type\":\"field\",\"field\":\"value\"},\"line_color\":\"#e5ae38\",\"line_alpha\":0.1,\"line_width\":2}},\"muted_glyph\":{\"type\":\"object\",\"name\":\"Line\",\"id\":\"p1471\",\"attributes\":{\"tags\":[\"apply_ranges\"],\"x\":{\"type\":\"field\",\"field\":\"index\"},\"y\":{\"type\":\"field\",\"field\":\"value\"},\"line_color\":\"#e5ae38\",\"line_alpha\":0.2,\"line_width\":2}}}},{\"type\":\"object\",\"name\":\"GlyphRenderer\",\"id\":\"p1486\",\"attributes\":{\"name\":\"rain_instant_ground_0m\",\"data_source\":{\"type\":\"object\",\"name\":\"ColumnDataSource\",\"id\":\"p1477\",\"attributes\":{\"selected\":{\"type\":\"object\",\"name\":\"Selection\",\"id\":\"p1478\",\"attributes\":{\"indices\":[],\"line_indices\":[]}},\"selection_policy\":{\"type\":\"object\",\"name\":\"UnionRenderers\",\"id\":\"p1479\"},\"data\":{\"type\":\"map\",\"entries\":[[\"index\",{\"type\":\"ndarray\",\"array\":{\"type\":\"bytes\",\"data\":\"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\"},\"shape\":[721],\"dtype\":\"int32\",\"order\":\"little\"}],[\"value\",{\"type\":\"ndarray\",\"array\":{\"type\":\"bytes\",\"data\":\"AAAAAAAAAAAAAAAAAAAAAAAAAAAAAAAAAAAAAAAAAAAPk/oGACCIPp2wFAEAAGo+AAAAAAAAAAAAAAAAAAAAAAAAAAAAAAAAAAAAAAAAAAAAAAAAAAAAAAAAAAAAAAAAAAAAAAAAAAAAAAAAAAAAAAAAAAAAAAAAAAAAAAAAAAAAAAAAAAAAAAAAAAAAAAAAAAAAAAAAAAAAAAAAAAAAAAAAAAAAAAAAAAAAAAAAAAAAAAAAAAAAAAAAAAAAAAAAAAAAAAAAAAAAAAAAAAAAAAAAAAAAAAAAAAAAAAAAAAAAAAAAAAAAAAAAAAAAAAAAAAAAAAAAAAAAAAAAAAAAAAAAAAAAAAAAAAAAAAAAAAAAAAAAAAAAAAAAAAAAAAAAAAAAAAAAAAAAAAAAAAAAAAAAAAAAAAAAAAAAAAAAAAAAAAAAAAAAAAAAAAAAAAAAAAAAAAAAAAAAAAAAAAAAAAAAAAAAAAAAAAAAAAAAAAAAAAAAAAAAAAAAAAAAAAAAAAAAAAAAAAAAAAAAAAAAAAAAAAAAAAAAAAAAAAAAAAAAAAAAAAAAAAAAAAAAAAAAAAAAAAAAAAAAAAAAAAAAAAAAAAAAAAAAAAAAAAAAAAAAAAAAAAAAAAAAAAAAAAAAAAAAAAAAAAAAAAAAAAAAAAAAAAAAAAAAAAAAAAAAAAAAAAAAAAAAAAAAAAAAAAAAAAAAAAAAAAAAAAAAAAAAAAAAAAAAAAAAAAAAAAAAAAAAAAAAAAAAAAAAAAAAAAAAAAAAAAAAAAAAAAAAAAAAAAAAAAAAAAAAAAAAAAAAAAAAAAAAAAAAAAAAAAAAAAAAAAAAAAAAAAAAAAAAAAAAAAAAAAAAAAAAAAAAAAAAAAAAAAAAAAAAAAAAAAAAAAAAAAAAAAAAAAAAAAAAAAAAAAAAAAAAAAAAAAAAAAAAAAAAAAAAAAAAAAAAAAAAAAAAAAAAAAAAAAAAAAAAAAAAAAAAAAAAAAAAAAAAAAAAAAAAAAAAAAAAAAAAAAAAAAAAAAAAAAAAAAAAAAAAAAAAAAAAAAAAAAAAAAAAAAAAAAAAAAAAAAAAAAAAAAAAAAAAAAAAAAAAAAAAAAAAAAAAAAAAAAAAAAAAAAAAAAAAAAAAAAAAAAAAAAAAAAAAAAAAAAAAAAAAAAAAAAAAAAAAAAAAAAAAAAAAAAAAAAAAAAAAAAAAAAAAAAAAAAAAAAAAAAAAAAAAAAAAAAAAAAAAAAAAAAAAAAAAAAAAAAAAAAAAAAAAAAAAAAAAAAAAAAAAAAAAAAAAAAAAAAAAAAAAAAAAAAAAAAAAAAAAAAAAAAAAAAAAAAAAAAAAAAAAAAAAAAAAAAAAAAAAAAAAAAAAAAAAAAAAAAAAAAAAAAAAAAAAAAAAAAAAAAAAAAAAAAAAAAAAAAAAAAAAAAAAAAAAAAAAAAAAAAAAAAAAAAAAAAAAAAAAAAAAAAAAAAAAAAAAAAAAAAAAAAAAAAAAAAAAAAAAAAAAAAAAAAAAAAAAAAAAAAAAAAAAAAAAAAAAAAAAAAAAAAAAAAAAAAAAAAAAAAAAAAAAAAAAAAAAAAAAAAAAAAAAAAAAAAAAAAAAAAAAAAAAAAAAAAAAAAAAAAAAAAAAAAAAAAAAAAAAAAAAAAAAAAAAAAAAAAAAAAAAAAAAAAAAAAAAAAAAAAAAAAAAAAAAAAAAAAAAAAAAAAAAAAAAAAAAAAAAAAAAAAAAAAAAAAAAAAAAAAAAAAAAAAAAAAAAAAAAAAAAAAAAAAAAAAAAAAAAAAAAAAAAAAAAAAAAAAAAAAAAAAAAAAAAAAAAAAAAAAAAAAAAAAAAAAAAAAAAAAAAAAAAAAAAAAAAAAAAAAAAAAAAAAAAAAAAAAAAAAAAAAAAAAAAAAAAAAAAAAAAAAAAAAAAAAAAAAAAAAAAAAAAAAAAAAAAAAAAAAAAAAAAAAAAAAAAAAAAAAAAAAAAAAAAAAAAAAAAAAAAAAAAAAAAAAAAAAAAAAAAAAAAAAAAAAAAAAAAAAAAAAAAAAAAAAAAAAAAAAAAAAAAAAAAAAAAAAAAAAAAAAAAAAAAAAAAAAAAAAAAAAAAAAAAAAAAAAAAAAAAAAAAAAAAAAAAAAAAAAAAAAAAAAAAAAAAAAAAAAAAAAAAAAAAAAAAAAAAAAAAAAAAAAAAAAAAAAAAAAAAAAAAAAAAAAAAAAAAAAAAAAAAAAAAAAAAAAAAAAAAAAAAAAAAAAAAAAAAAAAAAAAAAAAAAAAAAAAAAAAAAAAAAAAAAAAAAAAAAAAAAAAAAAAAAAAAAAAAAAAAAAAAAAAAAAAAAAAAAAAAAAAAAAAAAAAAAAAAAAAAAAAAAAAAAAAAAAAAAAAAAAAAAAAAAAAAAAAAAAAAAAAAAAAAAAAAAAAAAAAAAAAAAAAAAAAAAAAAAAAAAAAAAAAAAAAAAAAAAAAAAAAAAAAAAAAAAAAAAAAAAAAAAAAAAAAAAAAAAAAAAAAAAAAAAAAAAAAAAAAAAAAAAAAAAAAAAAAAAAAAAAAAAAAAAAAAAAAAAAAAAAAAAAAAAAAAAAAAAAAAAAAAAAAAAAAAAAAAAAAAAAAAAAAAAAAAAAAAAAAAAAAAAAAAAAAAAAAAAAAAAAAAAAAAAAAAAAAAAAAAAAAAAAAAAAAAAAAAAAAAAAAAAAAAAAAAAAAAAAAAAAAAAAAAAAAAAAAAAAAAAAAAAAAAAAAAAAAAAAAAAAAAAAAAAAAAAAAAAAAAAAAAAAAAAAAAAAAAAAAAAAAAAAAAAAAAAAAAAAAAAAAAAAAAAAAAAAAAAAAAAAAAAAAAAAAAAAAAAAAAAAAAAAAAAAAAAAAAAAAAAAAAAAAAAAAAAAAAAAAAAAAAAAAAAAAAAAAAAAAAAAAAAAAAAAAAAAAAAAAAAAAAAAAAAAAAAAAAAAAAAAAAAAAAAAAAAAAAAAAAAAAAAAAAAAAAAAAAAAAAAAAAAAAAAAAAAAAAAAAAAAAAAAAAAAAAAAAAAAAAAAAAAAAAAAAAAAAAAAAAAAAAAAAAAAAAAAAAAAAAAAAAAAAAAAAAAAAAAAAAAAAAAAAAAAAAAAAAAAAAAAAAAAAAAAAAAAAAAAAAAAAAAAAAAAAAAAAAAAAAAAAAAAAAAAAAAAAAAAAAAAAAAAAAAAAAAAAAAAAAAAAAAAAAAAAAAAAAAAAAAAAAAAAAAAAAAAAAAAAAAAAAAAAAAAAAAAAAAAAAAAAAAAAAAAAAAAAAAAAAAAAAAAAAAAAAAAAAAAAAAAAAAAAAAAAAAAAAAAAAAAAAAAAAAAAAAAAAAAAAAAAAAAAAAAAAAAAAAAAAAAAAAAAAAAAAAAAAAAAAAAAAAAAAAAAAAAAAAAAAAAAAAAAAAAAAAAAAAAAAAAAAAAAAAAAAAAAAAAAAAAAAAAAAAAAAAAAAAAAAAAAAAAAAAAAAAAAAAAAAAAAAAAAAAAAAAAAAAAAAAAAAAAAAAAAAAAAAAAAAAAAAAAAAAAAAAAAAAAAAAAAAAAAAAAAAAAAAAAAAAAAAAAAAAAAAAAAAAAAAAAAAAAAAAAAAAAAAAAAAAAAAAAAAAAAAAAAAAAAAAAAAAAAAAAAAAAAAAAAAAAAAAAAAAAAAAAAAAAAAAAAAAAAAAAAAAAAAAAAAAAAAAAAAAAAAAAAAAAAAAAAAAAAAAAAAAAAAAAAAAAAAAAAAAAAAAAAAAAAAAAAAAAAAAAAAAAAAAAAAAAAAAAAAAAAAAAAAAAAAAAAAAAAAAAAAAAAAAAAAAAAAAAAAAAAAAAAAAAAAAAAAAAAAAAAAAAAAAAAAAAAAAAAAAAAAAAAAAAAAAAAAAAAAAAAAAAAAAAAAAAAAAAAAAAAAAAAAAAAAAAAAAAAAAAAAAAAAAAAAAAAAAAAAAAAAAAAAAAAAAAAAAAAAAAAAAAAAAAAAAAAAAAAAAAAAAAAAAAAAAAAAAAAAAAAAAAAAAAAAAAAAAAAAAAAAAAAAAAAAAAAAAAAAAAAAAAAAAAAAAAAAAAAAAAAAAAAAAAAAAAAAAAAAAAAAAAAAAAAAAAAAAAAAAAAAAAAAAAAAAAAAAAAAAAAAAAAAAAAAAAAAAAAAAAAAAAAAAAAAAAAAAAAAAAAAAAAAAAAAAAAAAAAAAAAAAAAAAAAAAAAAAAAAAAAAAAAAAAAAAAAAAAAAAAAAAAAAAAAAAAAAAAAAAAAAAAAAAAAAAAAAAAAAAAAAAAAAAAAAAAAAAAAAAAAAAAAAAAAAAAAAAAAAAAAAAAAAAAAAAAAAAAAAAAAAAAAAAAAAAAAAAAAAAAAAAAAAAAAAAAAAAAAAAAAAAAAAAAAAAAAAAAAAAAAAAAAAAAAAAAAAAAAAAAAAAAAAAAAAAAAAAAAAAAAAAAAAAAAAAAAAAAAAAAAAAAAAAAAAAAAAAAAAAAAAAAAAAAAAAAAAAAAAAAAAAAAAAAAAAAAAAAAAAAAAAAAAAAAAAAAAAAAAAAAAAAAAAAAAAAAAAAAAAAAAAAAAAAAAAAAAAAAAAAAAAAAAAAAAAAD8tYz3/3clPwAAAAAAAAAAAAAAAAAAAAAAAAAAAAAAAAAAAAAAAAAAAAAAAAAAAAAAAAAAAAAAAAAAAAAAAAAAAAAAAAAAAAAAAAAAAAAAAAAAAAAAAAAAAAAAAAAAAAAAAAAAAAAAAAAAAAAAAAAAAAAAAAAAAAAAAAAAAAAAAAAAAAAAAAAAAAAAAAAAAAAAAAAAAAAAAAAAAAAAAAAAAAAAAAAAAAAAAAAAAAAAAAAAAAAAAAAAAAAAAAAAAAAAAAAAAAAAAAAAAAAAAAAAAAAAAAAAAAAAAAAAAAAAAAAAAAAAAAAAAAAAAAAAAAAAAAAAAAAAAAAAAAAAAAAAAAAAAAAAAAAAAAAAAAAAAAAAAAAAAAAAAAAAAAAAAAAAAAAAAAAAAAAAAAAAAAAAAAAAAAAAAAAAAAAAAAAAAAAAAAAAAAAAAAAAAAAAAAAAAAAAAAAAAAAAAAAAAAAAAAAAAAAAAAAAAAAAAAAAAAAAAAAAAAAAAAAAAAAAAAAAAAAAAAAAAAAAAAAAAAAAAAAAAAAAAACJkcUAADVyPxXCifD//yA/IqHc/v+PIz8AAAAAAAAAAAAAAAAAAAAAAAAAAAAAAAAAAAAAAAAAAAAAAAAAAAAAAAAAAAAAAAAAAAAAAAAAAAAAAAAAAAAAAAAAAAAAAAAAAAAAAAAAAAAAAAAAAAAAAAAAAAAAAAAAAAAAAAAAAAAAAAAAAAAAAAAAAAAAAAAAAAAAAAAAAAAAAAAAAAAAAAAAAAAAAAAAAAAAAAAAAAAAAAAAAAAAAAAAAAAAAAAAAAAAAAAAAAAAAAAAAAAAAAAAAAAAAAAAAAAAAAAAAAAAAAAAAAAAAAAAAAAAAAAAAAAAAAAAAAAAAAAAAAAAAAAAAAAAAAAAAAAAAAAAAAAAAAAAAAAAAAAAAAAAAAAAAAAAAAAAAAAAAAAAAAAAAAAAAAAAAAAAAAAAAAAAAAAAAAAAAAAAAAAAAAAAAAAAAAAAAAAAAAAAAAAAAAAAAAAAAAAAAAAjXUj5/7/1PgAAAAAAAAAAcKnECwDACD/rXWD4/+9TP8uelAEAAAk/DzVgAAAISD9ETGH9/x8cPwAAAAAAAAAAAAAAAAAAAAAAAAAAAAAAAAAAAAAAAAAAAAAAAAAAAAAAAAAAAAAAAAAAAAAAAAAAAAAAAAAAAAAAAAAAAAAAAAAAAAAAAAAAAAAAAAAAAAAAAAAAAAAAAAAAAAAAAAAAAAAAAAAAAAAAAAAAAAAAAAAAAAAAAAAAAAAAAAAAAAAAAAAAAAAAAAAAAAAAAAAAAAAAAAAAAAAAAAAAAAAAAAAAAAAAAAAAAAAAAAAAAAAAAAAAAAAAAAAAAAAAAAAAAAAAAAAAAAAAAAAAAAAAAAAAAAAAAAAAAAAAAAAAAAAAAAAAAAAAAAAAAAAAAAAAAAAAAAAAAAAAAAAAAAAAAAAAAAAAAAAAAAAAAAAAAAAAAAAAAAAAAAAAAAAAAAAAAAAAAAAAAAAAAAAAAAAAAAAAAAAAAAAAAAAAAAAAAAAAAAAAAAAAAAAAAAAAAAAAAAAAAAAAAAAAAAAAAAAAAAAAAAAAAAAAAAAAAAAAAAAAAAAAAAAAAAAAAAAAAAAAAAAAAAAAAAAAAAAAAAAAAAAAAAAAAAAAAAAAAAAAAAAAAAAAAAAAAAAAAAAAAAAAAAAAAAAAAAAAAAAAAAAAAAAAAAAAAAAAAAAAAAAAAAAAAAAAAAAAAAAAAAAAAAAAAAAAAAAAAAAAAAAAAAAAAAAAAAAAAAAAAAAAAAAAAAAAAAAAAAAAAAAAAAAAAAAAAAAAAAAAAAAAAAAAAAAAAAAAAAAAAAAAAAAAAAAAAAAAAAAAAAAAAAAAAAAAAAAAAAAAAAAAAAAAAAAAAAAAAAAAAAAAAAAAAAAAAAAAAAAAAAAAAAAAAAAAAAAAAAAAAAAAAAAAAAAAAAAAAAAAAAAAAAAAAAAAAAAAAAAAAAAAAAAAAAAAAAAAAAAAAAAAAAAAAAAAAAAAAAAAAAAAAAAAAAAAAAAAAAAAAAAAAAAAAAAAAAAAAAAAAAAAAAAAAAAAAAAAAAAAAAAAAAAAAAAAAAAAAAAAAAAAAAAAAAAAAAAAAAAAAAAAAAAAAAAAAAAAAAAAAAAAAAAAAAAAAAAAAAAAAAAAAAAAAAAAAAAAAAAAAAAAAAAAAAAAAAAAAAAAAAAAAAAAAAAAAAAAAAAAAAAAAAAAAAAAAAAAAAAAAAAAAAAAAAAAAAAAAAAAAAAAAAAAAAAAAAAAAAAAAAAAAAAAAAAAAAAAAAAAAAAAAAAAAAAAAAAAAAAAAAAAAAAAAAAAAAAAAAAAAAAAAAAAAAAAAAAAAAAAAAAAAAAAAAAAAAAAABF+0QwA+Oc+gLHgBACAlT7FUQEAACDJPkH0nwQAgME+AAAAAAAAAAAAAAAAAAAAAAAAAAAAAAAAnMlZ/v//Bz8l/kb+fxkiPz5g1v7/egw/Y2nVBQBc5j64IUL2//+HPgAAAAAAAAAAAAAAAAAAAAAAAAAAAAAAAGDN/v7/f6E+Agi//f8L1T7Q9l4BAEDbPl+XJwMAmOI+e2+EAQAAqD799AIBAACgPgAAAAAAAAAAAAAAAAAAAAAAAAAAAAAAAAAAAAAAAAAAAAAAAAAAAAAAAAAAAAAAAAAAAAAAAAAAAAAAAAAAAAD99AIBAACQPgAAAAAAAAAAAAAAAAAAAAAOSK4DAHAHP7qBVgQA4Ao/FYHO+f8f8D4AAAAAAAAAAAAAAAAAAAAAAAAAAAAAAAAAAAAAAAAAAAAAAAAAAAAAZUUiAQCABz8AAAAAAAAAAAAAAAAAAAAAK8BS/v//wT6xnTj9/28FPzmnA/z///k+Q5XJAgBwBD91F/0HAMDvPjZw5/3/f9Y+AAAAAAAAAAAAAAAAAAAAAAAAAAAAAAAAAAAAAAAAAAAAAAAAAAAAAAAAAAAAAAAAAAAAAAAAAAAAAAAAAAAAAAAAAAAAAAAAAAAAAAAAAAAAAAAAAAAAAAAAAAAAAAAAAAAAAAAAAAAAAAAAAAAAAAAAAAAAAAAAAAAAAAAAAAAAAAAAAAAAAAAAAAAAAAAAWoui+///kz4AAAAAAAAAAAAAAAAAAAAAAAAAAAAAAAAAAAAAAAAAAAAAAAAAAAAAAAAAAAAAAAA=\"},\"shape\":[721],\"dtype\":\"float64\",\"order\":\"little\"}],[\"Variable\",[\"rain_instant_ground_0m\",\"rain_instant_ground_0m\",\"rain_instant_ground_0m\",\"rain_instant_ground_0m\",\"rain_instant_ground_0m\",\"rain_instant_ground_0m\",\"rain_instant_ground_0m\",\"rain_instant_ground_0m\",\"rain_instant_ground_0m\",\"rain_instant_ground_0m\",\"rain_instant_ground_0m\",\"rain_instant_ground_0m\",\"rain_instant_ground_0m\",\"rain_instant_ground_0m\",\"rain_instant_ground_0m\",\"rain_instant_ground_0m\",\"rain_instant_ground_0m\",\"rain_instant_ground_0m\",\"rain_instant_ground_0m\",\"rain_instant_ground_0m\",\"rain_instant_ground_0m\",\"rain_instant_ground_0m\",\"rain_instant_ground_0m\",\"rain_instant_ground_0m\",\"rain_instant_ground_0m\",\"rain_instant_ground_0m\",\"rain_instant_ground_0m\",\"rain_instant_ground_0m\",\"rain_instant_ground_0m\",\"rain_instant_ground_0m\",\"rain_instant_ground_0m\",\"rain_instant_ground_0m\",\"rain_instant_ground_0m\",\"rain_instant_ground_0m\",\"rain_instant_ground_0m\",\"rain_instant_ground_0m\",\"rain_instant_ground_0m\",\"rain_instant_ground_0m\",\"rain_instant_ground_0m\",\"rain_instant_ground_0m\",\"rain_instant_ground_0m\",\"rain_instant_ground_0m\",\"rain_instant_ground_0m\",\"rain_instant_ground_0m\",\"rain_instant_ground_0m\",\"rain_instant_ground_0m\",\"rain_instant_ground_0m\",\"rain_instant_ground_0m\",\"rain_instant_ground_0m\",\"rain_instant_ground_0m\",\"rain_instant_ground_0m\",\"rain_instant_ground_0m\",\"rain_instant_ground_0m\",\"rain_instant_ground_0m\",\"rain_instant_ground_0m\",\"rain_instant_ground_0m\",\"rain_instant_ground_0m\",\"rain_instant_ground_0m\",\"rain_instant_ground_0m\",\"rain_instant_ground_0m\",\"rain_instant_ground_0m\",\"rain_instant_ground_0m\",\"rain_instant_ground_0m\",\"rain_instant_ground_0m\",\"rain_instant_ground_0m\",\"rain_instant_ground_0m\",\"rain_instant_ground_0m\",\"rain_instant_ground_0m\",\"rain_instant_ground_0m\",\"rain_instant_ground_0m\",\"rain_instant_ground_0m\",\"rain_instant_ground_0m\",\"rain_instant_ground_0m\",\"rain_instant_ground_0m\",\"rain_instant_ground_0m\",\"rain_instant_ground_0m\",\"rain_instant_ground_0m\",\"rain_instant_ground_0m\",\"rain_instant_ground_0m\",\"rain_instant_ground_0m\",\"rain_instant_ground_0m\",\"rain_instant_ground_0m\",\"rain_instant_ground_0m\",\"rain_instant_ground_0m\",\"rain_instant_ground_0m\",\"rain_instant_ground_0m\",\"rain_instant_ground_0m\",\"rain_instant_ground_0m\",\"rain_instant_ground_0m\",\"rain_instant_ground_0m\",\"rain_instant_ground_0m\",\"rain_instant_ground_0m\",\"rain_instant_ground_0m\",\"rain_instant_ground_0m\",\"rain_instant_ground_0m\",\"rain_instant_ground_0m\",\"rain_instant_ground_0m\",\"rain_instant_ground_0m\",\"rain_instant_ground_0m\",\"rain_instant_ground_0m\",\"rain_instant_ground_0m\",\"rain_instant_ground_0m\",\"rain_instant_ground_0m\",\"rain_instant_ground_0m\",\"rain_instant_ground_0m\",\"rain_instant_ground_0m\",\"rain_instant_ground_0m\",\"rain_instant_ground_0m\",\"rain_instant_ground_0m\",\"rain_instant_ground_0m\",\"rain_instant_ground_0m\",\"rain_instant_ground_0m\",\"rain_instant_ground_0m\",\"rain_instant_ground_0m\",\"rain_instant_ground_0m\",\"rain_instant_ground_0m\",\"rain_instant_ground_0m\",\"rain_instant_ground_0m\",\"rain_instant_ground_0m\",\"rain_instant_ground_0m\",\"rain_instant_ground_0m\",\"rain_instant_ground_0m\",\"rain_instant_ground_0m\",\"rain_instant_ground_0m\",\"rain_instant_ground_0m\",\"rain_instant_ground_0m\",\"rain_instant_ground_0m\",\"rain_instant_ground_0m\",\"rain_instant_ground_0m\",\"rain_instant_ground_0m\",\"rain_instant_ground_0m\",\"rain_instant_ground_0m\",\"rain_instant_ground_0m\",\"rain_instant_ground_0m\",\"rain_instant_ground_0m\",\"rain_instant_ground_0m\",\"rain_instant_ground_0m\",\"rain_instant_ground_0m\",\"rain_instant_ground_0m\",\"rain_instant_ground_0m\",\"rain_instant_ground_0m\",\"rain_instant_ground_0m\",\"rain_instant_ground_0m\",\"rain_instant_ground_0m\",\"rain_instant_ground_0m\",\"rain_instant_ground_0m\",\"rain_instant_ground_0m\",\"rain_instant_ground_0m\",\"rain_instant_ground_0m\",\"rain_instant_ground_0m\",\"rain_instant_ground_0m\",\"rain_instant_ground_0m\",\"rain_instant_ground_0m\",\"rain_instant_ground_0m\",\"rain_instant_ground_0m\",\"rain_instant_ground_0m\",\"rain_instant_ground_0m\",\"rain_instant_ground_0m\",\"rain_instant_ground_0m\",\"rain_instant_ground_0m\",\"rain_instant_ground_0m\",\"rain_instant_ground_0m\",\"rain_instant_ground_0m\",\"rain_instant_ground_0m\",\"rain_instant_ground_0m\",\"rain_instant_ground_0m\",\"rain_instant_ground_0m\",\"rain_instant_ground_0m\",\"rain_instant_ground_0m\",\"rain_instant_ground_0m\",\"rain_instant_ground_0m\",\"rain_instant_ground_0m\",\"rain_instant_ground_0m\",\"rain_instant_ground_0m\",\"rain_instant_ground_0m\",\"rain_instant_ground_0m\",\"rain_instant_ground_0m\",\"rain_instant_ground_0m\",\"rain_instant_ground_0m\",\"rain_instant_ground_0m\",\"rain_instant_ground_0m\",\"rain_instant_ground_0m\",\"rain_instant_ground_0m\",\"rain_instant_ground_0m\",\"rain_instant_ground_0m\",\"rain_instant_ground_0m\",\"rain_instant_ground_0m\",\"rain_instant_ground_0m\",\"rain_instant_ground_0m\",\"rain_instant_ground_0m\",\"rain_instant_ground_0m\",\"rain_instant_ground_0m\",\"rain_instant_ground_0m\",\"rain_instant_ground_0m\",\"rain_instant_ground_0m\",\"rain_instant_ground_0m\",\"rain_instant_ground_0m\",\"rain_instant_ground_0m\",\"rain_instant_ground_0m\",\"rain_instant_ground_0m\",\"rain_instant_ground_0m\",\"rain_instant_ground_0m\",\"rain_instant_ground_0m\",\"rain_instant_ground_0m\",\"rain_instant_ground_0m\",\"rain_instant_ground_0m\",\"rain_instant_ground_0m\",\"rain_instant_ground_0m\",\"rain_instant_ground_0m\",\"rain_instant_ground_0m\",\"rain_instant_ground_0m\",\"rain_instant_ground_0m\",\"rain_instant_ground_0m\",\"rain_instant_ground_0m\",\"rain_instant_ground_0m\",\"rain_instant_ground_0m\",\"rain_instant_ground_0m\",\"rain_instant_ground_0m\",\"rain_instant_ground_0m\",\"rain_instant_ground_0m\",\"rain_instant_ground_0m\",\"rain_instant_ground_0m\",\"rain_instant_ground_0m\",\"rain_instant_ground_0m\",\"rain_instant_ground_0m\",\"rain_instant_ground_0m\",\"rain_instant_ground_0m\",\"rain_instant_ground_0m\",\"rain_instant_ground_0m\",\"rain_instant_ground_0m\",\"rain_instant_ground_0m\",\"rain_instant_ground_0m\",\"rain_instant_ground_0m\",\"rain_instant_ground_0m\",\"rain_instant_ground_0m\",\"rain_instant_ground_0m\",\"rain_instant_ground_0m\",\"rain_instant_ground_0m\",\"rain_instant_ground_0m\",\"rain_instant_ground_0m\",\"rain_instant_ground_0m\",\"rain_instant_ground_0m\",\"rain_instant_ground_0m\",\"rain_instant_ground_0m\",\"rain_instant_ground_0m\",\"rain_instant_ground_0m\",\"rain_instant_ground_0m\",\"rain_instant_ground_0m\",\"rain_instant_ground_0m\",\"rain_instant_ground_0m\",\"rain_instant_ground_0m\",\"rain_instant_ground_0m\",\"rain_instant_ground_0m\",\"rain_instant_ground_0m\",\"rain_instant_ground_0m\",\"rain_instant_ground_0m\",\"rain_instant_ground_0m\",\"rain_instant_ground_0m\",\"rain_instant_ground_0m\",\"rain_instant_ground_0m\",\"rain_instant_ground_0m\",\"rain_instant_ground_0m\",\"rain_instant_ground_0m\",\"rain_instant_ground_0m\",\"rain_instant_ground_0m\",\"rain_instant_ground_0m\",\"rain_instant_ground_0m\",\"rain_instant_ground_0m\",\"rain_instant_ground_0m\",\"rain_instant_ground_0m\",\"rain_instant_ground_0m\",\"rain_instant_ground_0m\",\"rain_instant_ground_0m\",\"rain_instant_ground_0m\",\"rain_instant_ground_0m\",\"rain_instant_ground_0m\",\"rain_instant_ground_0m\",\"rain_instant_ground_0m\",\"rain_instant_ground_0m\",\"rain_instant_ground_0m\",\"rain_instant_ground_0m\",\"rain_instant_ground_0m\",\"rain_instant_ground_0m\",\"rain_instant_ground_0m\",\"rain_instant_ground_0m\",\"rain_instant_ground_0m\",\"rain_instant_ground_0m\",\"rain_instant_ground_0m\",\"rain_instant_ground_0m\",\"rain_instant_ground_0m\",\"rain_instant_ground_0m\",\"rain_instant_ground_0m\",\"rain_instant_ground_0m\",\"rain_instant_ground_0m\",\"rain_instant_ground_0m\",\"rain_instant_ground_0m\",\"rain_instant_ground_0m\",\"rain_instant_ground_0m\",\"rain_instant_ground_0m\",\"rain_instant_ground_0m\",\"rain_instant_ground_0m\",\"rain_instant_ground_0m\",\"rain_instant_ground_0m\",\"rain_instant_ground_0m\",\"rain_instant_ground_0m\",\"rain_instant_ground_0m\",\"rain_instant_ground_0m\",\"rain_instant_ground_0m\",\"rain_instant_ground_0m\",\"rain_instant_ground_0m\",\"rain_instant_ground_0m\",\"rain_instant_ground_0m\",\"rain_instant_ground_0m\",\"rain_instant_ground_0m\",\"rain_instant_ground_0m\",\"rain_instant_ground_0m\",\"rain_instant_ground_0m\",\"rain_instant_ground_0m\",\"rain_instant_ground_0m\",\"rain_instant_ground_0m\",\"rain_instant_ground_0m\",\"rain_instant_ground_0m\",\"rain_instant_ground_0m\",\"rain_instant_ground_0m\",\"rain_instant_ground_0m\",\"rain_instant_ground_0m\",\"rain_instant_ground_0m\",\"rain_instant_ground_0m\",\"rain_instant_ground_0m\",\"rain_instant_ground_0m\",\"rain_instant_ground_0m\",\"rain_instant_ground_0m\",\"rain_instant_ground_0m\",\"rain_instant_ground_0m\",\"rain_instant_ground_0m\",\"rain_instant_ground_0m\",\"rain_instant_ground_0m\",\"rain_instant_ground_0m\",\"rain_instant_ground_0m\",\"rain_instant_ground_0m\",\"rain_instant_ground_0m\",\"rain_instant_ground_0m\",\"rain_instant_ground_0m\",\"rain_instant_ground_0m\",\"rain_instant_ground_0m\",\"rain_instant_ground_0m\",\"rain_instant_ground_0m\",\"rain_instant_ground_0m\",\"rain_instant_ground_0m\",\"rain_instant_ground_0m\",\"rain_instant_ground_0m\",\"rain_instant_ground_0m\",\"rain_instant_ground_0m\",\"rain_instant_ground_0m\",\"rain_instant_ground_0m\",\"rain_instant_ground_0m\",\"rain_instant_ground_0m\",\"rain_instant_ground_0m\",\"rain_instant_ground_0m\",\"rain_instant_ground_0m\",\"rain_instant_ground_0m\",\"rain_instant_ground_0m\",\"rain_instant_ground_0m\",\"rain_instant_ground_0m\",\"rain_instant_ground_0m\",\"rain_instant_ground_0m\",\"rain_instant_ground_0m\",\"rain_instant_ground_0m\",\"rain_instant_ground_0m\",\"rain_instant_ground_0m\",\"rain_instant_ground_0m\",\"rain_instant_ground_0m\",\"rain_instant_ground_0m\",\"rain_instant_ground_0m\",\"rain_instant_ground_0m\",\"rain_instant_ground_0m\",\"rain_instant_ground_0m\",\"rain_instant_ground_0m\",\"rain_instant_ground_0m\",\"rain_instant_ground_0m\",\"rain_instant_ground_0m\",\"rain_instant_ground_0m\",\"rain_instant_ground_0m\",\"rain_instant_ground_0m\",\"rain_instant_ground_0m\",\"rain_instant_ground_0m\",\"rain_instant_ground_0m\",\"rain_instant_ground_0m\",\"rain_instant_ground_0m\",\"rain_instant_ground_0m\",\"rain_instant_ground_0m\",\"rain_instant_ground_0m\",\"rain_instant_ground_0m\",\"rain_instant_ground_0m\",\"rain_instant_ground_0m\",\"rain_instant_ground_0m\",\"rain_instant_ground_0m\",\"rain_instant_ground_0m\",\"rain_instant_ground_0m\",\"rain_instant_ground_0m\",\"rain_instant_ground_0m\",\"rain_instant_ground_0m\",\"rain_instant_ground_0m\",\"rain_instant_ground_0m\",\"rain_instant_ground_0m\",\"rain_instant_ground_0m\",\"rain_instant_ground_0m\",\"rain_instant_ground_0m\",\"rain_instant_ground_0m\",\"rain_instant_ground_0m\",\"rain_instant_ground_0m\",\"rain_instant_ground_0m\",\"rain_instant_ground_0m\",\"rain_instant_ground_0m\",\"rain_instant_ground_0m\",\"rain_instant_ground_0m\",\"rain_instant_ground_0m\",\"rain_instant_ground_0m\",\"rain_instant_ground_0m\",\"rain_instant_ground_0m\",\"rain_instant_ground_0m\",\"rain_instant_ground_0m\",\"rain_instant_ground_0m\",\"rain_instant_ground_0m\",\"rain_instant_ground_0m\",\"rain_instant_ground_0m\",\"rain_instant_ground_0m\",\"rain_instant_ground_0m\",\"rain_instant_ground_0m\",\"rain_instant_ground_0m\",\"rain_instant_ground_0m\",\"rain_instant_ground_0m\",\"rain_instant_ground_0m\",\"rain_instant_ground_0m\",\"rain_instant_ground_0m\",\"rain_instant_ground_0m\",\"rain_instant_ground_0m\",\"rain_instant_ground_0m\",\"rain_instant_ground_0m\",\"rain_instant_ground_0m\",\"rain_instant_ground_0m\",\"rain_instant_ground_0m\",\"rain_instant_ground_0m\",\"rain_instant_ground_0m\",\"rain_instant_ground_0m\",\"rain_instant_ground_0m\",\"rain_instant_ground_0m\",\"rain_instant_ground_0m\",\"rain_instant_ground_0m\",\"rain_instant_ground_0m\",\"rain_instant_ground_0m\",\"rain_instant_ground_0m\",\"rain_instant_ground_0m\",\"rain_instant_ground_0m\",\"rain_instant_ground_0m\",\"rain_instant_ground_0m\",\"rain_instant_ground_0m\",\"rain_instant_ground_0m\",\"rain_instant_ground_0m\",\"rain_instant_ground_0m\",\"rain_instant_ground_0m\",\"rain_instant_ground_0m\",\"rain_instant_ground_0m\",\"rain_instant_ground_0m\",\"rain_instant_ground_0m\",\"rain_instant_ground_0m\",\"rain_instant_ground_0m\",\"rain_instant_ground_0m\",\"rain_instant_ground_0m\",\"rain_instant_ground_0m\",\"rain_instant_ground_0m\",\"rain_instant_ground_0m\",\"rain_instant_ground_0m\",\"rain_instant_ground_0m\",\"rain_instant_ground_0m\",\"rain_instant_ground_0m\",\"rain_instant_ground_0m\",\"rain_instant_ground_0m\",\"rain_instant_ground_0m\",\"rain_instant_ground_0m\",\"rain_instant_ground_0m\",\"rain_instant_ground_0m\",\"rain_instant_ground_0m\",\"rain_instant_ground_0m\",\"rain_instant_ground_0m\",\"rain_instant_ground_0m\",\"rain_instant_ground_0m\",\"rain_instant_ground_0m\",\"rain_instant_ground_0m\",\"rain_instant_ground_0m\",\"rain_instant_ground_0m\",\"rain_instant_ground_0m\",\"rain_instant_ground_0m\",\"rain_instant_ground_0m\",\"rain_instant_ground_0m\",\"rain_instant_ground_0m\",\"rain_instant_ground_0m\",\"rain_instant_ground_0m\",\"rain_instant_ground_0m\",\"rain_instant_ground_0m\",\"rain_instant_ground_0m\",\"rain_instant_ground_0m\",\"rain_instant_ground_0m\",\"rain_instant_ground_0m\",\"rain_instant_ground_0m\",\"rain_instant_ground_0m\",\"rain_instant_ground_0m\",\"rain_instant_ground_0m\",\"rain_instant_ground_0m\",\"rain_instant_ground_0m\",\"rain_instant_ground_0m\",\"rain_instant_ground_0m\",\"rain_instant_ground_0m\",\"rain_instant_ground_0m\",\"rain_instant_ground_0m\",\"rain_instant_ground_0m\",\"rain_instant_ground_0m\",\"rain_instant_ground_0m\",\"rain_instant_ground_0m\",\"rain_instant_ground_0m\",\"rain_instant_ground_0m\",\"rain_instant_ground_0m\",\"rain_instant_ground_0m\",\"rain_instant_ground_0m\",\"rain_instant_ground_0m\",\"rain_instant_ground_0m\",\"rain_instant_ground_0m\",\"rain_instant_ground_0m\",\"rain_instant_ground_0m\",\"rain_instant_ground_0m\",\"rain_instant_ground_0m\",\"rain_instant_ground_0m\",\"rain_instant_ground_0m\",\"rain_instant_ground_0m\",\"rain_instant_ground_0m\",\"rain_instant_ground_0m\",\"rain_instant_ground_0m\",\"rain_instant_ground_0m\",\"rain_instant_ground_0m\",\"rain_instant_ground_0m\",\"rain_instant_ground_0m\",\"rain_instant_ground_0m\",\"rain_instant_ground_0m\",\"rain_instant_ground_0m\",\"rain_instant_ground_0m\",\"rain_instant_ground_0m\",\"rain_instant_ground_0m\",\"rain_instant_ground_0m\",\"rain_instant_ground_0m\",\"rain_instant_ground_0m\",\"rain_instant_ground_0m\",\"rain_instant_ground_0m\",\"rain_instant_ground_0m\",\"rain_instant_ground_0m\",\"rain_instant_ground_0m\",\"rain_instant_ground_0m\",\"rain_instant_ground_0m\",\"rain_instant_ground_0m\",\"rain_instant_ground_0m\",\"rain_instant_ground_0m\",\"rain_instant_ground_0m\",\"rain_instant_ground_0m\",\"rain_instant_ground_0m\",\"rain_instant_ground_0m\",\"rain_instant_ground_0m\",\"rain_instant_ground_0m\",\"rain_instant_ground_0m\",\"rain_instant_ground_0m\",\"rain_instant_ground_0m\",\"rain_instant_ground_0m\",\"rain_instant_ground_0m\",\"rain_instant_ground_0m\",\"rain_instant_ground_0m\",\"rain_instant_ground_0m\",\"rain_instant_ground_0m\",\"rain_instant_ground_0m\",\"rain_instant_ground_0m\",\"rain_instant_ground_0m\",\"rain_instant_ground_0m\",\"rain_instant_ground_0m\",\"rain_instant_ground_0m\",\"rain_instant_ground_0m\",\"rain_instant_ground_0m\",\"rain_instant_ground_0m\",\"rain_instant_ground_0m\",\"rain_instant_ground_0m\",\"rain_instant_ground_0m\",\"rain_instant_ground_0m\",\"rain_instant_ground_0m\",\"rain_instant_ground_0m\",\"rain_instant_ground_0m\",\"rain_instant_ground_0m\",\"rain_instant_ground_0m\",\"rain_instant_ground_0m\",\"rain_instant_ground_0m\",\"rain_instant_ground_0m\",\"rain_instant_ground_0m\",\"rain_instant_ground_0m\",\"rain_instant_ground_0m\",\"rain_instant_ground_0m\",\"rain_instant_ground_0m\",\"rain_instant_ground_0m\",\"rain_instant_ground_0m\",\"rain_instant_ground_0m\",\"rain_instant_ground_0m\",\"rain_instant_ground_0m\",\"rain_instant_ground_0m\",\"rain_instant_ground_0m\",\"rain_instant_ground_0m\",\"rain_instant_ground_0m\",\"rain_instant_ground_0m\",\"rain_instant_ground_0m\",\"rain_instant_ground_0m\",\"rain_instant_ground_0m\",\"rain_instant_ground_0m\",\"rain_instant_ground_0m\",\"rain_instant_ground_0m\",\"rain_instant_ground_0m\",\"rain_instant_ground_0m\",\"rain_instant_ground_0m\",\"rain_instant_ground_0m\",\"rain_instant_ground_0m\",\"rain_instant_ground_0m\",\"rain_instant_ground_0m\",\"rain_instant_ground_0m\",\"rain_instant_ground_0m\",\"rain_instant_ground_0m\",\"rain_instant_ground_0m\",\"rain_instant_ground_0m\",\"rain_instant_ground_0m\",\"rain_instant_ground_0m\",\"rain_instant_ground_0m\",\"rain_instant_ground_0m\",\"rain_instant_ground_0m\",\"rain_instant_ground_0m\",\"rain_instant_ground_0m\",\"rain_instant_ground_0m\",\"rain_instant_ground_0m\",\"rain_instant_ground_0m\",\"rain_instant_ground_0m\",\"rain_instant_ground_0m\",\"rain_instant_ground_0m\",\"rain_instant_ground_0m\",\"rain_instant_ground_0m\",\"rain_instant_ground_0m\",\"rain_instant_ground_0m\",\"rain_instant_ground_0m\",\"rain_instant_ground_0m\",\"rain_instant_ground_0m\",\"rain_instant_ground_0m\",\"rain_instant_ground_0m\",\"rain_instant_ground_0m\",\"rain_instant_ground_0m\",\"rain_instant_ground_0m\",\"rain_instant_ground_0m\",\"rain_instant_ground_0m\",\"rain_instant_ground_0m\",\"rain_instant_ground_0m\",\"rain_instant_ground_0m\",\"rain_instant_ground_0m\",\"rain_instant_ground_0m\",\"rain_instant_ground_0m\",\"rain_instant_ground_0m\",\"rain_instant_ground_0m\",\"rain_instant_ground_0m\",\"rain_instant_ground_0m\",\"rain_instant_ground_0m\",\"rain_instant_ground_0m\",\"rain_instant_ground_0m\",\"rain_instant_ground_0m\",\"rain_instant_ground_0m\",\"rain_instant_ground_0m\",\"rain_instant_ground_0m\",\"rain_instant_ground_0m\",\"rain_instant_ground_0m\",\"rain_instant_ground_0m\",\"rain_instant_ground_0m\",\"rain_instant_ground_0m\",\"rain_instant_ground_0m\",\"rain_instant_ground_0m\",\"rain_instant_ground_0m\",\"rain_instant_ground_0m\",\"rain_instant_ground_0m\",\"rain_instant_ground_0m\",\"rain_instant_ground_0m\",\"rain_instant_ground_0m\",\"rain_instant_ground_0m\",\"rain_instant_ground_0m\",\"rain_instant_ground_0m\",\"rain_instant_ground_0m\",\"rain_instant_ground_0m\",\"rain_instant_ground_0m\",\"rain_instant_ground_0m\",\"rain_instant_ground_0m\",\"rain_instant_ground_0m\",\"rain_instant_ground_0m\",\"rain_instant_ground_0m\",\"rain_instant_ground_0m\",\"rain_instant_ground_0m\",\"rain_instant_ground_0m\",\"rain_instant_ground_0m\",\"rain_instant_ground_0m\",\"rain_instant_ground_0m\",\"rain_instant_ground_0m\",\"rain_instant_ground_0m\",\"rain_instant_ground_0m\",\"rain_instant_ground_0m\",\"rain_instant_ground_0m\",\"rain_instant_ground_0m\",\"rain_instant_ground_0m\",\"rain_instant_ground_0m\",\"rain_instant_ground_0m\",\"rain_instant_ground_0m\",\"rain_instant_ground_0m\",\"rain_instant_ground_0m\",\"rain_instant_ground_0m\",\"rain_instant_ground_0m\",\"rain_instant_ground_0m\",\"rain_instant_ground_0m\",\"rain_instant_ground_0m\",\"rain_instant_ground_0m\"]]]}}},\"view\":{\"type\":\"object\",\"name\":\"CDSView\",\"id\":\"p1487\",\"attributes\":{\"filter\":{\"type\":\"object\",\"name\":\"AllIndices\",\"id\":\"p1488\"}}},\"glyph\":{\"type\":\"object\",\"name\":\"Line\",\"id\":\"p1483\",\"attributes\":{\"tags\":[\"apply_ranges\"],\"x\":{\"type\":\"field\",\"field\":\"index\"},\"y\":{\"type\":\"field\",\"field\":\"value\"},\"line_color\":\"#6d904f\",\"line_width\":2}},\"selection_glyph\":{\"type\":\"object\",\"name\":\"Line\",\"id\":\"p1490\",\"attributes\":{\"tags\":[\"apply_ranges\"],\"x\":{\"type\":\"field\",\"field\":\"index\"},\"y\":{\"type\":\"field\",\"field\":\"value\"},\"line_color\":\"#6d904f\",\"line_width\":2}},\"nonselection_glyph\":{\"type\":\"object\",\"name\":\"Line\",\"id\":\"p1484\",\"attributes\":{\"tags\":[\"apply_ranges\"],\"x\":{\"type\":\"field\",\"field\":\"index\"},\"y\":{\"type\":\"field\",\"field\":\"value\"},\"line_color\":\"#6d904f\",\"line_alpha\":0.1,\"line_width\":2}},\"muted_glyph\":{\"type\":\"object\",\"name\":\"Line\",\"id\":\"p1485\",\"attributes\":{\"tags\":[\"apply_ranges\"],\"x\":{\"type\":\"field\",\"field\":\"index\"},\"y\":{\"type\":\"field\",\"field\":\"value\"},\"line_color\":\"#6d904f\",\"line_alpha\":0.2,\"line_width\":2}}}}],\"toolbar\":{\"type\":\"object\",\"name\":\"Toolbar\",\"id\":\"p1412\",\"attributes\":{\"tools\":[{\"type\":\"object\",\"name\":\"WheelZoomTool\",\"id\":\"p1392\",\"attributes\":{\"tags\":[\"hv_created\"],\"renderers\":\"auto\",\"zoom_together\":\"none\"}},{\"type\":\"object\",\"name\":\"HoverTool\",\"id\":\"p1393\",\"attributes\":{\"tags\":[\"hv_created\"],\"renderers\":[{\"id\":\"p1443\"},{\"id\":\"p1458\"},{\"id\":\"p1472\"},{\"id\":\"p1486\"}],\"tooltips\":[[\"Variable\",\"@{Variable}\"],[\"index\",\"@{index}\"],[\"value\",\"@{value}\"]]}},{\"type\":\"object\",\"name\":\"SaveTool\",\"id\":\"p1425\"},{\"type\":\"object\",\"name\":\"PanTool\",\"id\":\"p1426\"},{\"type\":\"object\",\"name\":\"BoxZoomTool\",\"id\":\"p1427\",\"attributes\":{\"overlay\":{\"type\":\"object\",\"name\":\"BoxAnnotation\",\"id\":\"p1428\",\"attributes\":{\"syncable\":false,\"level\":\"overlay\",\"visible\":false,\"left\":{\"type\":\"number\",\"value\":\"nan\"},\"right\":{\"type\":\"number\",\"value\":\"nan\"},\"top\":{\"type\":\"number\",\"value\":\"nan\"},\"bottom\":{\"type\":\"number\",\"value\":\"nan\"},\"left_units\":\"canvas\",\"right_units\":\"canvas\",\"top_units\":\"canvas\",\"bottom_units\":\"canvas\",\"line_color\":\"black\",\"line_alpha\":1.0,\"line_width\":2,\"line_dash\":[4,4],\"fill_color\":\"lightgrey\",\"fill_alpha\":0.5}}}},{\"type\":\"object\",\"name\":\"ResetTool\",\"id\":\"p1433\"}],\"active_drag\":{\"id\":\"p1426\"},\"active_scroll\":{\"id\":\"p1392\"}}},\"left\":[{\"type\":\"object\",\"name\":\"LinearAxis\",\"id\":\"p1420\",\"attributes\":{\"ticker\":{\"type\":\"object\",\"name\":\"BasicTicker\",\"id\":\"p1421\",\"attributes\":{\"mantissas\":[1,2,5]}},\"formatter\":{\"type\":\"object\",\"name\":\"BasicTickFormatter\",\"id\":\"p1422\"},\"axis_label\":\"\",\"major_label_policy\":{\"type\":\"object\",\"name\":\"AllLabels\",\"id\":\"p1423\"}}}],\"right\":[{\"type\":\"object\",\"name\":\"Legend\",\"id\":\"p1446\",\"attributes\":{\"location\":[0,0],\"title\":\"Variable\",\"click_policy\":\"mute\",\"items\":[{\"type\":\"object\",\"name\":\"LegendItem\",\"id\":\"p1447\",\"attributes\":{\"label\":{\"type\":\"value\",\"value\":\"wind_speed_10m\"},\"renderers\":[{\"id\":\"p1443\"}]}},{\"type\":\"object\",\"name\":\"LegendItem\",\"id\":\"p1461\",\"attributes\":{\"label\":{\"type\":\"value\",\"value\":\"t_instant_ground_2m\"},\"renderers\":[{\"id\":\"p1458\"}]}},{\"type\":\"object\",\"name\":\"LegendItem\",\"id\":\"p1475\",\"attributes\":{\"label\":{\"type\":\"value\",\"value\":\"grad_accum_ground_0m\"},\"renderers\":[{\"id\":\"p1472\"}]}},{\"type\":\"object\",\"name\":\"LegendItem\",\"id\":\"p1489\",\"attributes\":{\"label\":{\"type\":\"value\",\"value\":\"rain_instant_ground_0m\"},\"renderers\":[{\"id\":\"p1486\"}]}}]}}],\"below\":[{\"type\":\"object\",\"name\":\"LinearAxis\",\"id\":\"p1415\",\"attributes\":{\"ticker\":{\"type\":\"object\",\"name\":\"BasicTicker\",\"id\":\"p1416\",\"attributes\":{\"mantissas\":[1,2,5]}},\"formatter\":{\"type\":\"object\",\"name\":\"BasicTickFormatter\",\"id\":\"p1417\"},\"axis_label\":\"\",\"major_label_policy\":{\"type\":\"object\",\"name\":\"AllLabels\",\"id\":\"p1418\"}}}],\"center\":[{\"type\":\"object\",\"name\":\"Grid\",\"id\":\"p1419\",\"attributes\":{\"axis\":{\"id\":\"p1415\"},\"grid_line_color\":null}},{\"type\":\"object\",\"name\":\"Grid\",\"id\":\"p1424\",\"attributes\":{\"dimension\":1,\"axis\":{\"id\":\"p1420\"},\"grid_line_color\":null}}],\"min_border_top\":10,\"min_border_bottom\":10,\"min_border_left\":10,\"min_border_right\":10,\"output_backend\":\"webgl\"}},{\"type\":\"object\",\"name\":\"Spacer\",\"id\":\"p1492\",\"attributes\":{\"name\":\"HSpacer01695\",\"stylesheets\":[\"\\n:host(.pn-loading):before, .pn-loading:before {\\n  background-color: #c3c3c3;\\n  mask-size: auto calc(min(50%, 400px));\\n  -webkit-mask-size: auto calc(min(50%, 400px));\\n}\",{\"id\":\"p1385\"},{\"id\":\"p1383\"},{\"id\":\"p1384\"}],\"margin\":0,\"sizing_mode\":\"stretch_width\",\"align\":\"start\"}}]}}],\"defs\":[{\"type\":\"model\",\"name\":\"ReactiveHTML1\"},{\"type\":\"model\",\"name\":\"FlexBox1\",\"properties\":[{\"name\":\"align_content\",\"kind\":\"Any\",\"default\":\"flex-start\"},{\"name\":\"align_items\",\"kind\":\"Any\",\"default\":\"flex-start\"},{\"name\":\"flex_direction\",\"kind\":\"Any\",\"default\":\"row\"},{\"name\":\"flex_wrap\",\"kind\":\"Any\",\"default\":\"wrap\"},{\"name\":\"justify_content\",\"kind\":\"Any\",\"default\":\"flex-start\"},{\"name\":\"gap\",\"kind\":\"Any\",\"default\":\"\"}]},{\"type\":\"model\",\"name\":\"FloatPanel1\",\"properties\":[{\"name\":\"config\",\"kind\":\"Any\",\"default\":{\"type\":\"map\"}},{\"name\":\"contained\",\"kind\":\"Any\",\"default\":true},{\"name\":\"position\",\"kind\":\"Any\",\"default\":\"right-top\"},{\"name\":\"offsetx\",\"kind\":\"Any\",\"default\":null},{\"name\":\"offsety\",\"kind\":\"Any\",\"default\":null},{\"name\":\"theme\",\"kind\":\"Any\",\"default\":\"primary\"},{\"name\":\"status\",\"kind\":\"Any\",\"default\":\"normalized\"}]},{\"type\":\"model\",\"name\":\"GridStack1\",\"properties\":[{\"name\":\"mode\",\"kind\":\"Any\",\"default\":\"warn\"},{\"name\":\"ncols\",\"kind\":\"Any\",\"default\":null},{\"name\":\"nrows\",\"kind\":\"Any\",\"default\":null},{\"name\":\"allow_resize\",\"kind\":\"Any\",\"default\":true},{\"name\":\"allow_drag\",\"kind\":\"Any\",\"default\":true},{\"name\":\"state\",\"kind\":\"Any\",\"default\":[]}]},{\"type\":\"model\",\"name\":\"drag1\",\"properties\":[{\"name\":\"slider_width\",\"kind\":\"Any\",\"default\":5},{\"name\":\"slider_color\",\"kind\":\"Any\",\"default\":\"black\"},{\"name\":\"value\",\"kind\":\"Any\",\"default\":50}]},{\"type\":\"model\",\"name\":\"click1\",\"properties\":[{\"name\":\"terminal_output\",\"kind\":\"Any\",\"default\":\"\"},{\"name\":\"debug_name\",\"kind\":\"Any\",\"default\":\"\"},{\"name\":\"clears\",\"kind\":\"Any\",\"default\":0}]},{\"type\":\"model\",\"name\":\"FastWrapper1\",\"properties\":[{\"name\":\"object\",\"kind\":\"Any\",\"default\":null},{\"name\":\"style\",\"kind\":\"Any\",\"default\":null}]},{\"type\":\"model\",\"name\":\"NotificationAreaBase1\",\"properties\":[{\"name\":\"js_events\",\"kind\":\"Any\",\"default\":{\"type\":\"map\"}},{\"name\":\"position\",\"kind\":\"Any\",\"default\":\"bottom-right\"},{\"name\":\"_clear\",\"kind\":\"Any\",\"default\":0}]},{\"type\":\"model\",\"name\":\"NotificationArea1\",\"properties\":[{\"name\":\"js_events\",\"kind\":\"Any\",\"default\":{\"type\":\"map\"}},{\"name\":\"notifications\",\"kind\":\"Any\",\"default\":[]},{\"name\":\"position\",\"kind\":\"Any\",\"default\":\"bottom-right\"},{\"name\":\"_clear\",\"kind\":\"Any\",\"default\":0},{\"name\":\"types\",\"kind\":\"Any\",\"default\":[{\"type\":\"map\",\"entries\":[[\"type\",\"warning\"],[\"background\",\"#ffc107\"],[\"icon\",{\"type\":\"map\",\"entries\":[[\"className\",\"fas fa-exclamation-triangle\"],[\"tagName\",\"i\"],[\"color\",\"white\"]]}]]},{\"type\":\"map\",\"entries\":[[\"type\",\"info\"],[\"background\",\"#007bff\"],[\"icon\",{\"type\":\"map\",\"entries\":[[\"className\",\"fas fa-info-circle\"],[\"tagName\",\"i\"],[\"color\",\"white\"]]}]]}]}]},{\"type\":\"model\",\"name\":\"Notification\",\"properties\":[{\"name\":\"background\",\"kind\":\"Any\",\"default\":null},{\"name\":\"duration\",\"kind\":\"Any\",\"default\":3000},{\"name\":\"icon\",\"kind\":\"Any\",\"default\":null},{\"name\":\"message\",\"kind\":\"Any\",\"default\":\"\"},{\"name\":\"notification_type\",\"kind\":\"Any\",\"default\":null},{\"name\":\"_destroyed\",\"kind\":\"Any\",\"default\":false}]},{\"type\":\"model\",\"name\":\"TemplateActions1\",\"properties\":[{\"name\":\"open_modal\",\"kind\":\"Any\",\"default\":0},{\"name\":\"close_modal\",\"kind\":\"Any\",\"default\":0}]},{\"type\":\"model\",\"name\":\"BootstrapTemplateActions1\",\"properties\":[{\"name\":\"open_modal\",\"kind\":\"Any\",\"default\":0},{\"name\":\"close_modal\",\"kind\":\"Any\",\"default\":0}]},{\"type\":\"model\",\"name\":\"TemplateEditor1\",\"properties\":[{\"name\":\"layout\",\"kind\":\"Any\",\"default\":[]}]},{\"type\":\"model\",\"name\":\"MaterialTemplateActions1\",\"properties\":[{\"name\":\"open_modal\",\"kind\":\"Any\",\"default\":0},{\"name\":\"close_modal\",\"kind\":\"Any\",\"default\":0}]},{\"type\":\"model\",\"name\":\"copy_to_clipboard1\",\"properties\":[{\"name\":\"fill\",\"kind\":\"Any\",\"default\":\"none\"},{\"name\":\"value\",\"kind\":\"Any\",\"default\":null}]}]}};\n",
       "  var render_items = [{\"docid\":\"06fc8569-6fb4-4eab-a7d8-c127b8f161c3\",\"roots\":{\"p1382\":\"b4c65859-7c76-4b9a-8c42-55e2a9e1c599\"},\"root_ids\":[\"p1382\"]}];\n",
       "  var docs = Object.values(docs_json)\n",
       "  if (!docs) {\n",
       "    return\n",
       "  }\n",
       "  const py_version = docs[0].version.replace('rc', '-rc.').replace('.dev', '-dev.')\n",
       "  function embed_document(root) {\n",
       "    var Bokeh = get_bokeh(root)\n",
       "    Bokeh.embed.embed_items_notebook(docs_json, render_items);\n",
       "    for (const render_item of render_items) {\n",
       "      for (const root_id of render_item.root_ids) {\n",
       "\tconst id_el = document.getElementById(root_id)\n",
       "\tif (id_el.children.length && (id_el.children[0].className === 'bk-root')) {\n",
       "\t  const root_el = id_el.children[0]\n",
       "\t  root_el.id = root_el.id + '-rendered'\n",
       "\t}\n",
       "      }\n",
       "    }\n",
       "  }\n",
       "  function get_bokeh(root) {\n",
       "    if (root.Bokeh === undefined) {\n",
       "      return null\n",
       "    } else if (root.Bokeh.version !== py_version) {\n",
       "      if (root.Bokeh.versions === undefined || !root.Bokeh.versions.has(py_version)) {\n",
       "\treturn null\n",
       "      }\n",
       "      return root.Bokeh.versions.get(py_version);\n",
       "    } else if (root.Bokeh.version === py_version) {\n",
       "      return root.Bokeh\n",
       "    }\n",
       "    return null\n",
       "  }\n",
       "  function is_loaded(root) {\n",
       "    var Bokeh = get_bokeh(root)\n",
       "    return (Bokeh != null && Bokeh.Panel !== undefined)\n",
       "  }\n",
       "  if (is_loaded(root)) {\n",
       "    embed_document(root);\n",
       "  } else {\n",
       "    var attempts = 0;\n",
       "    var timer = setInterval(function(root) {\n",
       "      if (is_loaded(root)) {\n",
       "        clearInterval(timer);\n",
       "        embed_document(root);\n",
       "      } else if (document.readyState == \"complete\") {\n",
       "        attempts++;\n",
       "        if (attempts > 200) {\n",
       "          clearInterval(timer);\n",
       "\t  var Bokeh = get_bokeh(root)\n",
       "\t  if (Bokeh == null || Bokeh.Panel == null) {\n",
       "            console.warn(\"Panel: ERROR: Unable to run Panel code because Bokeh or Panel library is missing\");\n",
       "\t  } else {\n",
       "\t    console.warn(\"Panel: WARNING: Attempting to render but not all required libraries could be resolved.\")\n",
       "\t    embed_document(root)\n",
       "\t  }\n",
       "        }\n",
       "      }\n",
       "    }, 25, root)\n",
       "  }\n",
       "})(window);</script>"
      ],
      "text/plain": [
       ":NdOverlay   [Variable]\n",
       "   :Curve   [index]   (value)"
      ]
     },
     "execution_count": 113,
     "metadata": {
      "application/vnd.holoviews_exec.v0+json": {
       "id": "p1382"
      }
     },
     "output_type": "execute_result"
    }
   ],
   "source": [
    "selected_weather.plot()"
   ]
  },
  {
   "cell_type": "markdown",
   "metadata": {},
   "source": [
    "### Model"
   ]
  },
  {
   "cell_type": "code",
   "execution_count": 104,
   "metadata": {},
   "outputs": [
    {
     "name": "stderr",
     "output_type": "stream",
     "text": [
      "ValueError: At least one of `lags`, `lags_future_covariates` or `lags_past_covariates` must be not None.\n"
     ]
    },
    {
     "ename": "ValueError",
     "evalue": "At least one of `lags`, `lags_future_covariates` or `lags_past_covariates` must be not None.",
     "output_type": "error",
     "traceback": [
      "\u001b[0;31m---------------------------------------------------------------------------\u001b[0m",
      "\u001b[0;31mValueError\u001b[0m                                Traceback (most recent call last)",
      "Cell \u001b[0;32mIn[104], line 3\u001b[0m\n\u001b[1;32m      1\u001b[0m \u001b[38;5;28;01mfrom\u001b[39;00m \u001b[38;5;21;01mdarts\u001b[39;00m\u001b[38;5;21;01m.\u001b[39;00m\u001b[38;5;21;01mmodels\u001b[39;00m \u001b[38;5;28;01mimport\u001b[39;00m RegressionModel\n\u001b[0;32m----> 3\u001b[0m regr_model \u001b[38;5;241m=\u001b[39m \u001b[43mRegressionModel\u001b[49m\u001b[43m(\u001b[49m\u001b[43m)\u001b[49m\n",
      "File \u001b[0;32m~/Library/Caches/pypoetry/virtualenvs/neuro-symbolic-demand-forecasting-yu9KrGz6-py3.12/lib/python3.12/site-packages/darts/models/forecasting/forecasting_model.py:114\u001b[0m, in \u001b[0;36mModelMeta.__call__\u001b[0;34m(cls, *args, **kwargs)\u001b[0m\n\u001b[1;32m    111\u001b[0m \u001b[38;5;28mcls\u001b[39m\u001b[38;5;241m.\u001b[39m_model_call \u001b[38;5;241m=\u001b[39m all_params\n\u001b[1;32m    113\u001b[0m \u001b[38;5;66;03m# 6) call model\u001b[39;00m\n\u001b[0;32m--> 114\u001b[0m \u001b[38;5;28;01mreturn\u001b[39;00m \u001b[38;5;28;43msuper\u001b[39;49m\u001b[43m(\u001b[49m\u001b[43m)\u001b[49m\u001b[38;5;241;43m.\u001b[39;49m\u001b[38;5;21;43m__call__\u001b[39;49m\u001b[43m(\u001b[49m\u001b[38;5;241;43m*\u001b[39;49m\u001b[38;5;241;43m*\u001b[39;49m\u001b[43mall_params\u001b[49m\u001b[43m)\u001b[49m\n",
      "File \u001b[0;32m~/Library/Caches/pypoetry/virtualenvs/neuro-symbolic-demand-forecasting-yu9KrGz6-py3.12/lib/python3.12/site-packages/darts/models/forecasting/regression_model.py:236\u001b[0m, in \u001b[0;36mRegressionModel.__init__\u001b[0;34m(self, lags, lags_past_covariates, lags_future_covariates, output_chunk_length, output_chunk_shift, add_encoders, model, multi_models, use_static_covariates)\u001b[0m\n\u001b[1;32m    231\u001b[0m     raise_log(\n\u001b[1;32m    232\u001b[0m         \u001b[38;5;167;01mException\u001b[39;00m(\u001b[38;5;124m\"\u001b[39m\u001b[38;5;124mProvided model object must have a predict() method\u001b[39m\u001b[38;5;124m\"\u001b[39m, logger)\n\u001b[1;32m    233\u001b[0m     )\n\u001b[1;32m    235\u001b[0m \u001b[38;5;66;03m# check lags\u001b[39;00m\n\u001b[0;32m--> 236\u001b[0m \u001b[43mraise_if\u001b[49m\u001b[43m(\u001b[49m\n\u001b[1;32m    237\u001b[0m \u001b[43m    \u001b[49m\u001b[43m(\u001b[49m\u001b[43mlags\u001b[49m\u001b[43m \u001b[49m\u001b[38;5;129;43;01mis\u001b[39;49;00m\u001b[43m \u001b[49m\u001b[38;5;28;43;01mNone\u001b[39;49;00m\u001b[43m)\u001b[49m\n\u001b[1;32m    238\u001b[0m \u001b[43m    \u001b[49m\u001b[38;5;129;43;01mand\u001b[39;49;00m\u001b[43m \u001b[49m\u001b[43m(\u001b[49m\u001b[43mlags_future_covariates\u001b[49m\u001b[43m \u001b[49m\u001b[38;5;129;43;01mis\u001b[39;49;00m\u001b[43m \u001b[49m\u001b[38;5;28;43;01mNone\u001b[39;49;00m\u001b[43m)\u001b[49m\n\u001b[1;32m    239\u001b[0m \u001b[43m    \u001b[49m\u001b[38;5;129;43;01mand\u001b[39;49;00m\u001b[43m \u001b[49m\u001b[43m(\u001b[49m\u001b[43mlags_past_covariates\u001b[49m\u001b[43m \u001b[49m\u001b[38;5;129;43;01mis\u001b[39;49;00m\u001b[43m \u001b[49m\u001b[38;5;28;43;01mNone\u001b[39;49;00m\u001b[43m)\u001b[49m\u001b[43m,\u001b[49m\n\u001b[1;32m    240\u001b[0m \u001b[43m    \u001b[49m\u001b[38;5;124;43m\"\u001b[39;49m\u001b[38;5;124;43mAt least one of `lags`, `lags_future_covariates` or `lags_past_covariates` must be not None.\u001b[39;49m\u001b[38;5;124;43m\"\u001b[39;49m\u001b[43m,\u001b[49m\n\u001b[1;32m    241\u001b[0m \u001b[43m\u001b[49m\u001b[43m)\u001b[49m\n\u001b[1;32m    243\u001b[0m \u001b[38;5;66;03m# convert lags arguments to list of int\u001b[39;00m\n\u001b[1;32m    244\u001b[0m \u001b[38;5;66;03m# lags attribute should always be accessed with self._get_lags(), not self.lags.get()\u001b[39;00m\n\u001b[1;32m    245\u001b[0m \u001b[38;5;28mself\u001b[39m\u001b[38;5;241m.\u001b[39mlags, \u001b[38;5;28mself\u001b[39m\u001b[38;5;241m.\u001b[39mcomponent_lags \u001b[38;5;241m=\u001b[39m \u001b[38;5;28mself\u001b[39m\u001b[38;5;241m.\u001b[39m_generate_lags(\n\u001b[1;32m    246\u001b[0m     lags\u001b[38;5;241m=\u001b[39mlags,\n\u001b[1;32m    247\u001b[0m     lags_past_covariates\u001b[38;5;241m=\u001b[39mlags_past_covariates,\n\u001b[1;32m    248\u001b[0m     lags_future_covariates\u001b[38;5;241m=\u001b[39mlags_future_covariates,\n\u001b[1;32m    249\u001b[0m     output_chunk_shift\u001b[38;5;241m=\u001b[39moutput_chunk_shift,\n\u001b[1;32m    250\u001b[0m )\n",
      "File \u001b[0;32m~/Library/Caches/pypoetry/virtualenvs/neuro-symbolic-demand-forecasting-yu9KrGz6-py3.12/lib/python3.12/site-packages/darts/logging.py:105\u001b[0m, in \u001b[0;36mraise_if\u001b[0;34m(condition, message, logger)\u001b[0m\n\u001b[1;32m     82\u001b[0m \u001b[38;5;28;01mdef\u001b[39;00m \u001b[38;5;21mraise_if\u001b[39m(\n\u001b[1;32m     83\u001b[0m     condition: \u001b[38;5;28mbool\u001b[39m,\n\u001b[1;32m     84\u001b[0m     message: \u001b[38;5;28mstr\u001b[39m \u001b[38;5;241m=\u001b[39m \u001b[38;5;124m\"\u001b[39m\u001b[38;5;124m\"\u001b[39m,\n\u001b[1;32m     85\u001b[0m     logger: logging\u001b[38;5;241m.\u001b[39mLogger \u001b[38;5;241m=\u001b[39m get_logger(\u001b[38;5;124m\"\u001b[39m\u001b[38;5;124mmain_logger\u001b[39m\u001b[38;5;124m\"\u001b[39m),\n\u001b[1;32m     86\u001b[0m ):\n\u001b[1;32m     87\u001b[0m \u001b[38;5;250m    \u001b[39m\u001b[38;5;124;03m\"\"\"\u001b[39;00m\n\u001b[1;32m     88\u001b[0m \u001b[38;5;124;03m    Checks provided boolean condition and raises a ValueError if it evaluates to True.\u001b[39;00m\n\u001b[1;32m     89\u001b[0m \u001b[38;5;124;03m    It logs the error to the provided logger before raising it.\u001b[39;00m\n\u001b[0;32m   (...)\u001b[0m\n\u001b[1;32m    103\u001b[0m \u001b[38;5;124;03m        if `condition` is satisfied\u001b[39;00m\n\u001b[1;32m    104\u001b[0m \u001b[38;5;124;03m    \"\"\"\u001b[39;00m\n\u001b[0;32m--> 105\u001b[0m     \u001b[43mraise_if_not\u001b[49m\u001b[43m(\u001b[49m\u001b[38;5;129;43;01mnot\u001b[39;49;00m\u001b[43m \u001b[49m\u001b[43mcondition\u001b[49m\u001b[43m,\u001b[49m\u001b[43m \u001b[49m\u001b[43mmessage\u001b[49m\u001b[43m,\u001b[49m\u001b[43m \u001b[49m\u001b[43mlogger\u001b[49m\u001b[43m)\u001b[49m\n",
      "File \u001b[0;32m~/Library/Caches/pypoetry/virtualenvs/neuro-symbolic-demand-forecasting-yu9KrGz6-py3.12/lib/python3.12/site-packages/darts/logging.py:79\u001b[0m, in \u001b[0;36mraise_if_not\u001b[0;34m(condition, message, logger)\u001b[0m\n\u001b[1;32m     77\u001b[0m \u001b[38;5;28;01mif\u001b[39;00m \u001b[38;5;129;01mnot\u001b[39;00m condition:\n\u001b[1;32m     78\u001b[0m     logger\u001b[38;5;241m.\u001b[39merror(\u001b[38;5;124m\"\u001b[39m\u001b[38;5;124mValueError: \u001b[39m\u001b[38;5;124m\"\u001b[39m \u001b[38;5;241m+\u001b[39m message)\n\u001b[0;32m---> 79\u001b[0m     \u001b[38;5;28;01mraise\u001b[39;00m \u001b[38;5;167;01mValueError\u001b[39;00m(message)\n",
      "\u001b[0;31mValueError\u001b[0m: At least one of `lags`, `lags_future_covariates` or `lags_past_covariates` must be not None."
     ]
    }
   ],
   "source": [
    "from darts.models import RegressionModel\n",
    "\n",
    "regr_model = RegressionModel()\n"
   ]
  },
  {
   "cell_type": "code",
   "execution_count": null,
   "metadata": {},
   "outputs": [],
   "source": [
    "regr_model.fit(flow_train,\n",
    "               past_covariates=melting,\n",
    "               future_covariates=rainfalls)\n",
    "\n",
    "eval_model(regr_model)"
   ]
  },
  {
   "cell_type": "markdown",
   "metadata": {},
   "source": [
    "## TFTModel\n",
    "\n"
   ]
  },
  {
   "cell_type": "code",
   "execution_count": 27,
   "metadata": {},
   "outputs": [
    {
     "data": {
      "text/html": [
       "<div><style>\n",
       ".dataframe > thead > tr,\n",
       ".dataframe > tbody > tr {\n",
       "  text-align: right;\n",
       "  white-space: pre-wrap;\n",
       "}\n",
       "</style>\n",
       "<small>shape: (361, 2)</small><table border=\"1\" class=\"dataframe\"><thead><tr><th>readingdate</th><th>gross</th></tr><tr><td>datetime[μs, UTC]</td><td>f64</td></tr></thead><tbody><tr><td>2023-04-30 22:00:00 UTC</td><td>0.000</td></tr><tr><td>2023-04-30 23:00:00 UTC</td><td>571520.000</td></tr><tr><td>2023-05-01 00:00:00 UTC</td><td>454230.000</td></tr><tr><td>2023-05-01 01:00:00 UTC</td><td>386522.000</td></tr><tr><td>2023-05-01 02:00:00 UTC</td><td>363660.000</td></tr><tr><td>&hellip;</td><td>&hellip;</td></tr><tr><td>2023-05-15 18:00:00 UTC</td><td>1117741.000</td></tr><tr><td>2023-05-15 19:00:00 UTC</td><td>1043280.000</td></tr><tr><td>2023-05-15 20:00:00 UTC</td><td>991434.000</td></tr><tr><td>2023-05-15 21:00:00 UTC</td><td>861060.000</td></tr><tr><td>2023-05-15 22:00:00 UTC</td><td>750105.000</td></tr></tbody></table></div>"
      ],
      "text/plain": [
       "shape: (361, 2)\n",
       "┌─────────────────────────┬─────────────┐\n",
       "│ readingdate             ┆ gross       │\n",
       "│ ---                     ┆ ---         │\n",
       "│ datetime[μs, UTC]       ┆ f64         │\n",
       "╞═════════════════════════╪═════════════╡\n",
       "│ 2023-04-30 22:00:00 UTC ┆ 0.000       │\n",
       "│ 2023-04-30 23:00:00 UTC ┆ 571520.000  │\n",
       "│ 2023-05-01 00:00:00 UTC ┆ 454230.000  │\n",
       "│ 2023-05-01 01:00:00 UTC ┆ 386522.000  │\n",
       "│ 2023-05-01 02:00:00 UTC ┆ 363660.000  │\n",
       "│ …                       ┆ …           │\n",
       "│ 2023-05-15 18:00:00 UTC ┆ 1117741.000 │\n",
       "│ 2023-05-15 19:00:00 UTC ┆ 1043280.000 │\n",
       "│ 2023-05-15 20:00:00 UTC ┆ 991434.000  │\n",
       "│ 2023-05-15 21:00:00 UTC ┆ 861060.000  │\n",
       "│ 2023-05-15 22:00:00 UTC ┆ 750105.000  │\n",
       "└─────────────────────────┴─────────────┘"
      ]
     },
     "execution_count": 27,
     "metadata": {},
     "output_type": "execute_result"
    }
   ],
   "source": [
    "pl.Config.set_float_precision(3)\n",
    "# df_for_train = df_for_train.sort(['ean_sha256', 'readingdate'])\n",
    "pipeline = (\n",
    "    non_pv.lazy()\n",
    "    .with_columns(\n",
    "        (pl.col('ldn') - pl.col('ldn').shift(1)).over('ean_sha256').alias('ldn_diff'),\n",
    "        (pl.col('odn') - pl.col('odn').shift(1)).over('ean_sha256').alias('odn_diff')\n",
    "    ).with_columns(\n",
    "        (pl.col('ldn_diff') - pl.col('odn_diff')).alias('gross')\n",
    "    )\n",
    ")\n",
    "\n",
    "non_pv = pipeline.collect()\n",
    "non_pv = non_pv.select(pl.col('readingdate'), pl.col('gross'))\n",
    "non_pv = non_pv.group_by('readingdate').agg(pl.sum('gross')).sort('readingdate')\n",
    "non_pv"
   ]
  },
  {
   "cell_type": "code",
   "execution_count": 28,
   "metadata": {},
   "outputs": [
    {
     "data": {
      "text/html": [
       "<div>\n",
       "<style scoped>\n",
       "    .dataframe tbody tr th:only-of-type {\n",
       "        vertical-align: middle;\n",
       "    }\n",
       "\n",
       "    .dataframe tbody tr th {\n",
       "        vertical-align: top;\n",
       "    }\n",
       "\n",
       "    .dataframe thead th {\n",
       "        text-align: right;\n",
       "    }\n",
       "</style>\n",
       "<table border=\"1\" class=\"dataframe\">\n",
       "  <thead>\n",
       "    <tr style=\"text-align: right;\">\n",
       "      <th></th>\n",
       "      <th>gross</th>\n",
       "    </tr>\n",
       "    <tr>\n",
       "      <th>readingdate</th>\n",
       "      <th></th>\n",
       "    </tr>\n",
       "  </thead>\n",
       "  <tbody>\n",
       "    <tr>\n",
       "      <th>2023-04-30 22:00:00+00:00</th>\n",
       "      <td>0.0</td>\n",
       "    </tr>\n",
       "    <tr>\n",
       "      <th>2023-04-30 23:00:00+00:00</th>\n",
       "      <td>847680.0</td>\n",
       "    </tr>\n",
       "    <tr>\n",
       "      <th>2023-05-01 00:00:00+00:00</th>\n",
       "      <td>739036.0</td>\n",
       "    </tr>\n",
       "    <tr>\n",
       "      <th>2023-05-01 01:00:00+00:00</th>\n",
       "      <td>685257.0</td>\n",
       "    </tr>\n",
       "    <tr>\n",
       "      <th>2023-05-01 02:00:00+00:00</th>\n",
       "      <td>613727.0</td>\n",
       "    </tr>\n",
       "    <tr>\n",
       "      <th>...</th>\n",
       "      <td>...</td>\n",
       "    </tr>\n",
       "    <tr>\n",
       "      <th>2023-05-15 18:00:00+00:00</th>\n",
       "      <td>1334451.0</td>\n",
       "    </tr>\n",
       "    <tr>\n",
       "      <th>2023-05-15 19:00:00+00:00</th>\n",
       "      <td>1455393.0</td>\n",
       "    </tr>\n",
       "    <tr>\n",
       "      <th>2023-05-15 20:00:00+00:00</th>\n",
       "      <td>1512776.0</td>\n",
       "    </tr>\n",
       "    <tr>\n",
       "      <th>2023-05-15 21:00:00+00:00</th>\n",
       "      <td>1427102.0</td>\n",
       "    </tr>\n",
       "    <tr>\n",
       "      <th>2023-05-15 22:00:00+00:00</th>\n",
       "      <td>1225124.0</td>\n",
       "    </tr>\n",
       "  </tbody>\n",
       "</table>\n",
       "<p>361 rows × 1 columns</p>\n",
       "</div>"
      ],
      "text/plain": [
       "                               gross\n",
       "readingdate                         \n",
       "2023-04-30 22:00:00+00:00        0.0\n",
       "2023-04-30 23:00:00+00:00   847680.0\n",
       "2023-05-01 00:00:00+00:00   739036.0\n",
       "2023-05-01 01:00:00+00:00   685257.0\n",
       "2023-05-01 02:00:00+00:00   613727.0\n",
       "...                              ...\n",
       "2023-05-15 18:00:00+00:00  1334451.0\n",
       "2023-05-15 19:00:00+00:00  1455393.0\n",
       "2023-05-15 20:00:00+00:00  1512776.0\n",
       "2023-05-15 21:00:00+00:00  1427102.0\n",
       "2023-05-15 22:00:00+00:00  1225124.0\n",
       "\n",
       "[361 rows x 1 columns]"
      ]
     },
     "execution_count": 28,
     "metadata": {},
     "output_type": "execute_result"
    }
   ],
   "source": [
    "pl.Config.set_float_precision(3)\n",
    "# df_for_train = df_for_train.sort(['ean_sha256', 'readingdate'])\n",
    "pipeline = (\n",
    "    pv.lazy()\n",
    "    .with_columns(\n",
    "        (pl.col('ldn') - pl.col('ldn').shift(1)).over('ean_sha256').alias('ldn_diff'),\n",
    "        (pl.col('odn') - pl.col('odn').shift(1)).over('ean_sha256').alias('odn_diff')\n",
    "    ).with_columns(\n",
    "        (pl.col('ldn_diff') - pl.col('odn_diff')).alias('gross')\n",
    "    )\n",
    ")\n",
    "\n",
    "pv = pipeline.collect()\n",
    "\n",
    "pv = pv.select(pl.col('readingdate'), pl.col('gross'))\n",
    "pv = pv.group_by('readingdate').agg(pl.sum('gross')).sort('readingdate')\n",
    "pv_df = pv.to_pandas()\n",
    "pv_df['readingdate'] = pd.to_datetime(pv_df['readingdate'])\n",
    "pv_df = pv_df.set_index('readingdate')\n",
    "pv_df"
   ]
  },
  {
   "cell_type": "code",
   "execution_count": 31,
   "metadata": {},
   "outputs": [],
   "source": [
    "from darts.models import TFTModel\n",
    "from darts import TimeSeries\n",
    "\n",
    "\n",
    "input_chunk_length = 7 * 24 #* 4\n",
    "forecast_horizon = 1 * 24 #* 4\n",
    "# use `add_encoders` as we don't have future covariates\n",
    "# from Paper\n",
    "# model = TFTModel(\n",
    "#     input_chunk_length=input_chunk_length, # encoder_length\n",
    "#     output_chunk_length=forecast_horizon,\n",
    "#     num_attention_heads=2,\n",
    "#     hidden_size=60,\n",
    "#     hidden_continuous_size=30,\n",
    "#     lstm_layers=2,\n",
    "#     batch_size=1024,\n",
    "#     n_epochs=5,\n",
    "#     dropout=0.7,\n",
    "#     # add_encoders={\"cyclic\": {\"future\": [\"month\"]}},\n",
    "#     add_relative_index=False,\n",
    "#     optimizer_kwargs={\"lr\": 0.001}, # learning rate\n",
    "#     use_static_covariates=False,\n",
    "#     random_state=42,\n",
    "# )\n",
    "\n",
    "model= TFTModel(\n",
    "    input_chunk_length=input_chunk_length,\n",
    "    output_chunk_length=forecast_horizon,\n",
    "    hidden_size=32,\n",
    "    lstm_layers=1,\n",
    "    batch_size=16,\n",
    "    n_epochs=5,\n",
    "    dropout=0.1,\n",
    "    add_encoders={\"cyclic\": {\"future\": [\"month\"]}},\n",
    "    add_relative_index=False,\n",
    "    optimizer_kwargs={\"lr\": 1e-3},\n",
    "    random_state=42,\n",
    ")"
   ]
  },
  {
   "cell_type": "markdown",
   "metadata": {},
   "source": [
    "### Min Max Scaling"
   ]
  },
  {
   "cell_type": "code",
   "execution_count": 33,
   "metadata": {},
   "outputs": [],
   "source": [
    "from sklearn.preprocessing import MinMaxScaler\n",
    "\n",
    "\n",
    "scaler = MinMaxScaler()"
   ]
  },
  {
   "cell_type": "code",
   "execution_count": 37,
   "metadata": {},
   "outputs": [
    {
     "data": {
      "text/html": [
       "<div>\n",
       "<style scoped>\n",
       "    .dataframe tbody tr th:only-of-type {\n",
       "        vertical-align: middle;\n",
       "    }\n",
       "\n",
       "    .dataframe tbody tr th {\n",
       "        vertical-align: top;\n",
       "    }\n",
       "\n",
       "    .dataframe thead th {\n",
       "        text-align: right;\n",
       "    }\n",
       "</style>\n",
       "<table border=\"1\" class=\"dataframe\">\n",
       "  <thead>\n",
       "    <tr style=\"text-align: right;\">\n",
       "      <th></th>\n",
       "      <th>gross</th>\n",
       "    </tr>\n",
       "    <tr>\n",
       "      <th>readingdate</th>\n",
       "      <th></th>\n",
       "    </tr>\n",
       "  </thead>\n",
       "  <tbody>\n",
       "    <tr>\n",
       "      <th>2023-04-30 22:00:00+00:00</th>\n",
       "      <td>0.789714</td>\n",
       "    </tr>\n",
       "    <tr>\n",
       "      <th>2023-04-30 23:00:00+00:00</th>\n",
       "      <td>0.906042</td>\n",
       "    </tr>\n",
       "    <tr>\n",
       "      <th>2023-05-01 00:00:00+00:00</th>\n",
       "      <td>0.891133</td>\n",
       "    </tr>\n",
       "    <tr>\n",
       "      <th>2023-05-01 01:00:00+00:00</th>\n",
       "      <td>0.883753</td>\n",
       "    </tr>\n",
       "    <tr>\n",
       "      <th>2023-05-01 02:00:00+00:00</th>\n",
       "      <td>0.873937</td>\n",
       "    </tr>\n",
       "    <tr>\n",
       "      <th>...</th>\n",
       "      <td>...</td>\n",
       "    </tr>\n",
       "    <tr>\n",
       "      <th>2023-05-15 18:00:00+00:00</th>\n",
       "      <td>0.972843</td>\n",
       "    </tr>\n",
       "    <tr>\n",
       "      <th>2023-05-15 19:00:00+00:00</th>\n",
       "      <td>0.989440</td>\n",
       "    </tr>\n",
       "    <tr>\n",
       "      <th>2023-05-15 20:00:00+00:00</th>\n",
       "      <td>0.997314</td>\n",
       "    </tr>\n",
       "    <tr>\n",
       "      <th>2023-05-15 21:00:00+00:00</th>\n",
       "      <td>0.985557</td>\n",
       "    </tr>\n",
       "    <tr>\n",
       "      <th>2023-05-15 22:00:00+00:00</th>\n",
       "      <td>0.957840</td>\n",
       "    </tr>\n",
       "  </tbody>\n",
       "</table>\n",
       "<p>361 rows × 1 columns</p>\n",
       "</div>"
      ],
      "text/plain": [
       "                              gross\n",
       "readingdate                        \n",
       "2023-04-30 22:00:00+00:00  0.789714\n",
       "2023-04-30 23:00:00+00:00  0.906042\n",
       "2023-05-01 00:00:00+00:00  0.891133\n",
       "2023-05-01 01:00:00+00:00  0.883753\n",
       "2023-05-01 02:00:00+00:00  0.873937\n",
       "...                             ...\n",
       "2023-05-15 18:00:00+00:00  0.972843\n",
       "2023-05-15 19:00:00+00:00  0.989440\n",
       "2023-05-15 20:00:00+00:00  0.997314\n",
       "2023-05-15 21:00:00+00:00  0.985557\n",
       "2023-05-15 22:00:00+00:00  0.957840\n",
       "\n",
       "[361 rows x 1 columns]"
      ]
     },
     "execution_count": 37,
     "metadata": {},
     "output_type": "execute_result"
    }
   ],
   "source": [
    "pv_df[['gross']] = scaler.fit_transform(pv_df[['gross']])\n",
    "pv_df"
   ]
  },
  {
   "cell_type": "markdown",
   "metadata": {},
   "source": [
    "### Training"
   ]
  },
  {
   "cell_type": "code",
   "execution_count": 38,
   "metadata": {},
   "outputs": [
    {
     "name": "stderr",
     "output_type": "stream",
     "text": [
      "The provided DatetimeIndex was associated with a timezone, which is currently not supported by xarray. To avoid unexpected behaviour, the tz information was removed. Consider calling `ts.time_index.tz_localize(UTC)` when exporting the results.To plot the series with the right time steps, consider setting the matplotlib.pyplot `rcParams['timezone']` parameter to automatically convert the time axis back to the original timezone.\n",
      "/Users/katringrunert/Library/Caches/pypoetry/virtualenvs/neuro-symbolic-demand-forecasting-yu9KrGz6-py3.12/lib/python3.12/site-packages/darts/timeseries.py:737: UserWarning: Converting non-nanosecond precision datetime values to nanosecond precision. This behavior can eventually be relaxed in xarray, as it is an artifact from pandas which is now beginning to support non-nanosecond precision values. This warning is caused by passing non-nanosecond np.datetime64 or np.timedelta64 values to the DataArray or Variable constructor; it can be silenced by converting the values to nanosecond precision ahead of time.\n",
      "  xa = xr.DataArray(\n",
      "The provided DatetimeIndex was associated with a timezone, which is currently not supported by xarray. To avoid unexpected behaviour, the tz information was removed. Consider calling `ts.time_index.tz_localize(UTC)` when exporting the results.To plot the series with the right time steps, consider setting the matplotlib.pyplot `rcParams['timezone']` parameter to automatically convert the time axis back to the original timezone.\n",
      "/Users/katringrunert/Library/Caches/pypoetry/virtualenvs/neuro-symbolic-demand-forecasting-yu9KrGz6-py3.12/lib/python3.12/site-packages/darts/timeseries.py:737: UserWarning: Converting non-nanosecond precision datetime values to nanosecond precision. This behavior can eventually be relaxed in xarray, as it is an artifact from pandas which is now beginning to support non-nanosecond precision values. This warning is caused by passing non-nanosecond np.datetime64 or np.timedelta64 values to the DataArray or Variable constructor; it can be silenced by converting the values to nanosecond precision ahead of time.\n",
      "  xa = xr.DataArray(\n",
      "The provided DatetimeIndex was associated with a timezone, which is currently not supported by xarray. To avoid unexpected behaviour, the tz information was removed. Consider calling `ts.time_index.tz_localize(UTC)` when exporting the results.To plot the series with the right time steps, consider setting the matplotlib.pyplot `rcParams['timezone']` parameter to automatically convert the time axis back to the original timezone.\n",
      "/Users/katringrunert/Library/Caches/pypoetry/virtualenvs/neuro-symbolic-demand-forecasting-yu9KrGz6-py3.12/lib/python3.12/site-packages/darts/timeseries.py:737: UserWarning: Converting non-nanosecond precision datetime values to nanosecond precision. This behavior can eventually be relaxed in xarray, as it is an artifact from pandas which is now beginning to support non-nanosecond precision values. This warning is caused by passing non-nanosecond np.datetime64 or np.timedelta64 values to the DataArray or Variable constructor; it can be silenced by converting the values to nanosecond precision ahead of time.\n",
      "  xa = xr.DataArray(\n",
      "GPU available: False, used: False\n",
      "TPU available: False, using: 0 TPU cores\n",
      "IPU available: False, using: 0 IPUs\n",
      "HPU available: False, using: 0 HPUs\n",
      "Attempting to retrain/fine-tune the model without resuming from a checkpoint. This is currently discouraged. Consider model `TFTModel.load_weights()` to load the weights for fine-tuning.\n"
     ]
    },
    {
     "name": "stdout",
     "output_type": "stream",
     "text": [
      "Epoch 4: 100%|██████████| 11/11 [00:01<00:00,  8.03it/s, train_loss=1.120]"
     ]
    },
    {
     "name": "stderr",
     "output_type": "stream",
     "text": [
      "`Trainer.fit` stopped: `max_epochs=5` reached.\n"
     ]
    },
    {
     "name": "stdout",
     "output_type": "stream",
     "text": [
      "Epoch 4: 100%|██████████| 11/11 [00:01<00:00,  8.02it/s, train_loss=1.120]\n"
     ]
    },
    {
     "data": {
      "text/plain": [
       "TFTModel(output_chunk_shift=0, hidden_size=32, lstm_layers=1, num_attention_heads=4, full_attention=False, feed_forward=GatedResidualNetwork, dropout=0.1, hidden_continuous_size=8, categorical_embedding_sizes=None, add_relative_index=False, loss_fn=None, likelihood=None, norm_type=LayerNorm, use_static_covariates=True, input_chunk_length=168, output_chunk_length=24, batch_size=16, n_epochs=5, add_encoders={'cyclic': {'future': ['month']}}, optimizer_kwargs={'lr': 0.001}, random_state=42)"
      ]
     },
     "execution_count": 38,
     "metadata": {},
     "output_type": "execute_result"
    }
   ],
   "source": [
    "dummy_covariate = pd.Series(0, index=pv_df.index)  # Adjust the constant value as needed\n",
    "\n",
    "# fit the model with past covariates\n",
    "model.fit(\n",
    "    TimeSeries.from_dataframe(pv_df), \n",
    "    past_covariates=TimeSeries.from_series(dummy_covariate), \n",
    "    future_covariates=TimeSeries.from_series(dummy_covariate), \n",
    "    verbose=True\n",
    ")"
   ]
  },
  {
   "cell_type": "markdown",
   "metadata": {},
   "source": [
    "### Evaluating"
   ]
  },
  {
   "cell_type": "code",
   "execution_count": null,
   "metadata": {},
   "outputs": [],
   "source": [
    "from darts.metrics import rmse\n",
    "\n",
    "# We first set aside the first 80% as training series:\n",
    "flow_train, _ = flow.split_before(0.8)\n",
    "\n",
    "def eval_model(model, past_covariates=None, future_covariates=None):\n",
    "    # Past and future covariates are optional because they won't always be used in our tests\n",
    "    \n",
    "    # We backtest the model on the last 20% of the flow series, with a horizon of 10 steps:\n",
    "    backtest = model.historical_forecasts(series=flow, \n",
    "                                          past_covariates=past_covariates,\n",
    "                                          future_covariates=future_covariates,\n",
    "                                          start=0.8, \n",
    "                                          retrain=False,\n",
    "                                          verbose=True, \n",
    "                                          forecast_horizon=10)\n",
    "    \n",
    "    flow[-len(backtest)-100:].plot()\n",
    "    backtest.plot(label='backtest (n=10)')\n",
    "    print('Backtest RMSE = {}'.format(rmse(flow, backtest)))"
   ]
  }
 ],
 "metadata": {
  "kernelspec": {
   "display_name": "neuro-symbolic-demand-forecasting-yu9KrGz6-py3.12",
   "language": "python",
   "name": "python3"
  },
  "language_info": {
   "codemirror_mode": {
    "name": "ipython",
    "version": 3
   },
   "file_extension": ".py",
   "mimetype": "text/x-python",
   "name": "python",
   "nbconvert_exporter": "python",
   "pygments_lexer": "ipython3",
   "version": "3.12.0"
  }
 },
 "nbformat": 4,
 "nbformat_minor": 2
}
